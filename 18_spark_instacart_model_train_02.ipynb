{
 "cells": [
  {
   "cell_type": "code",
   "execution_count": 1,
   "metadata": {},
   "outputs": [
    {
     "name": "stdout",
     "output_type": "stream",
     "text": [
      ":: loading settings :: url = jar:file:/workspace/apache-spark-ml/.venv/lib/python3.8/site-packages/pyspark/jars/ivy-2.5.1.jar!/org/apache/ivy/core/settings/ivysettings.xml\n"
     ]
    },
    {
     "name": "stderr",
     "output_type": "stream",
     "text": [
      "Ivy Default Cache set to: /root/.ivy2/cache\n",
      "The jars for the packages stored in: /root/.ivy2/jars\n",
      "com.microsoft.azure#synapseml_2.12 added as a dependency\n",
      ":: resolving dependencies :: org.apache.spark#spark-submit-parent-5f313bad-974d-4efe-ba4b-1802937f68ff;1.0\n",
      "\tconfs: [default]\n",
      "\tfound com.microsoft.azure#synapseml_2.12;0.11.1 in central\n",
      "\tfound com.microsoft.azure#synapseml-core_2.12;0.11.1 in central\n",
      "\tfound org.scalactic#scalactic_2.12;3.2.14 in central\n",
      "\tfound org.scala-lang#scala-reflect;2.12.15 in central\n",
      "\tfound io.spray#spray-json_2.12;1.3.5 in central\n",
      "\tfound com.jcraft#jsch;0.1.54 in central\n",
      "\tfound org.apache.httpcomponents.client5#httpclient5;5.1.3 in central\n",
      "\tfound org.apache.httpcomponents.core5#httpcore5;5.1.3 in central\n",
      "\tfound org.apache.httpcomponents.core5#httpcore5-h2;5.1.3 in central\n",
      "\tfound org.slf4j#slf4j-api;1.7.25 in central\n",
      "\tfound commons-codec#commons-codec;1.15 in central\n",
      "\tfound org.apache.httpcomponents#httpmime;4.5.13 in central\n",
      "\tfound org.apache.httpcomponents#httpclient;4.5.13 in central\n",
      "\tfound org.apache.httpcomponents#httpcore;4.4.13 in central\n",
      "\tfound commons-logging#commons-logging;1.2 in central\n",
      "\tfound com.linkedin.isolation-forest#isolation-forest_3.2.0_2.12;2.0.8 in central\n",
      "\tfound com.chuusai#shapeless_2.12;2.3.2 in central\n",
      "\tfound org.typelevel#macro-compat_2.12;1.1.1 in central\n",
      "\tfound org.apache.spark#spark-avro_2.12;3.2.0 in central\n",
      "\tfound org.tukaani#xz;1.8 in central\n",
      "\tfound org.spark-project.spark#unused;1.0.0 in central\n",
      "\tfound org.testng#testng;6.8.8 in central\n",
      "\tfound org.beanshell#bsh;2.0b4 in central\n",
      "\tfound com.beust#jcommander;1.27 in central\n",
      "\tfound org.scalanlp#breeze_2.12;1.2 in central\n",
      "\tfound org.scalanlp#breeze-macros_2.12;1.2 in central\n",
      "\tfound com.github.fommil.netlib#core;1.1.2 in central\n",
      "\tfound net.sourceforge.f2j#arpack_combined_all;0.1 in central\n",
      "\tfound net.sf.opencsv#opencsv;2.3 in central\n",
      "\tfound com.github.wendykierp#JTransforms;3.1 in central\n",
      "\tfound pl.edu.icm#JLargeArrays;1.5 in central\n",
      "\tfound org.apache.commons#commons-math3;3.2 in central\n",
      "\tfound com.chuusai#shapeless_2.12;2.3.3 in central\n",
      "\tfound org.typelevel#spire_2.12;0.17.0 in central\n",
      "\tfound org.typelevel#spire-macros_2.12;0.17.0 in central\n",
      "\tfound org.typelevel#algebra_2.12;2.0.1 in central\n",
      "\tfound org.typelevel#cats-kernel_2.12;2.1.1 in central\n",
      "\tfound org.typelevel#spire-platform_2.12;0.17.0 in central\n",
      "\tfound org.typelevel#spire-util_2.12;0.17.0 in central\n",
      "\tfound org.scala-lang.modules#scala-collection-compat_2.12;2.1.1 in central\n",
      "\tfound com.microsoft.azure#synapseml-deep-learning_2.12;0.11.1 in central\n",
      "\tfound com.microsoft.azure#synapseml-opencv_2.12;0.11.1 in central\n",
      "\tfound org.openpnp#opencv;3.2.0-1 in central\n",
      "\tfound com.microsoft.azure#onnx-protobuf_2.12;0.9.3 in central\n",
      "\tfound com.microsoft.onnxruntime#onnxruntime_gpu;1.8.1 in central\n",
      "\tfound com.microsoft.azure#synapseml-cognitive_2.12;0.11.1 in central\n",
      "\tfound com.microsoft.cognitiveservices.speech#client-jar-sdk;1.14.0 in central\n",
      "\tfound com.microsoft.azure#synapseml-vw_2.12;0.11.1 in central\n",
      "\tfound com.github.vowpalwabbit#vw-jni;9.3.0 in central\n",
      "\tfound com.microsoft.azure#synapseml-lightgbm_2.12;0.11.1 in central\n",
      "\tfound com.microsoft.ml.lightgbm#lightgbmlib;3.3.500 in central\n",
      ":: resolution report :: resolve 1135ms :: artifacts dl 31ms\n",
      "\t:: modules in use:\n",
      "\tcom.beust#jcommander;1.27 from central in [default]\n",
      "\tcom.chuusai#shapeless_2.12;2.3.3 from central in [default]\n",
      "\tcom.github.fommil.netlib#core;1.1.2 from central in [default]\n",
      "\tcom.github.vowpalwabbit#vw-jni;9.3.0 from central in [default]\n",
      "\tcom.github.wendykierp#JTransforms;3.1 from central in [default]\n",
      "\tcom.jcraft#jsch;0.1.54 from central in [default]\n",
      "\tcom.linkedin.isolation-forest#isolation-forest_3.2.0_2.12;2.0.8 from central in [default]\n",
      "\tcom.microsoft.azure#onnx-protobuf_2.12;0.9.3 from central in [default]\n",
      "\tcom.microsoft.azure#synapseml-cognitive_2.12;0.11.1 from central in [default]\n",
      "\tcom.microsoft.azure#synapseml-core_2.12;0.11.1 from central in [default]\n",
      "\tcom.microsoft.azure#synapseml-deep-learning_2.12;0.11.1 from central in [default]\n",
      "\tcom.microsoft.azure#synapseml-lightgbm_2.12;0.11.1 from central in [default]\n",
      "\tcom.microsoft.azure#synapseml-opencv_2.12;0.11.1 from central in [default]\n",
      "\tcom.microsoft.azure#synapseml-vw_2.12;0.11.1 from central in [default]\n",
      "\tcom.microsoft.azure#synapseml_2.12;0.11.1 from central in [default]\n",
      "\tcom.microsoft.cognitiveservices.speech#client-jar-sdk;1.14.0 from central in [default]\n",
      "\tcom.microsoft.ml.lightgbm#lightgbmlib;3.3.500 from central in [default]\n",
      "\tcom.microsoft.onnxruntime#onnxruntime_gpu;1.8.1 from central in [default]\n",
      "\tcommons-codec#commons-codec;1.15 from central in [default]\n",
      "\tcommons-logging#commons-logging;1.2 from central in [default]\n",
      "\tio.spray#spray-json_2.12;1.3.5 from central in [default]\n",
      "\tnet.sf.opencsv#opencsv;2.3 from central in [default]\n",
      "\tnet.sourceforge.f2j#arpack_combined_all;0.1 from central in [default]\n",
      "\torg.apache.commons#commons-math3;3.2 from central in [default]\n",
      "\torg.apache.httpcomponents#httpclient;4.5.13 from central in [default]\n",
      "\torg.apache.httpcomponents#httpcore;4.4.13 from central in [default]\n",
      "\torg.apache.httpcomponents#httpmime;4.5.13 from central in [default]\n",
      "\torg.apache.httpcomponents.client5#httpclient5;5.1.3 from central in [default]\n",
      "\torg.apache.httpcomponents.core5#httpcore5;5.1.3 from central in [default]\n",
      "\torg.apache.httpcomponents.core5#httpcore5-h2;5.1.3 from central in [default]\n",
      "\torg.apache.spark#spark-avro_2.12;3.2.0 from central in [default]\n",
      "\torg.beanshell#bsh;2.0b4 from central in [default]\n",
      "\torg.openpnp#opencv;3.2.0-1 from central in [default]\n",
      "\torg.scala-lang#scala-reflect;2.12.15 from central in [default]\n",
      "\torg.scala-lang.modules#scala-collection-compat_2.12;2.1.1 from central in [default]\n",
      "\torg.scalactic#scalactic_2.12;3.2.14 from central in [default]\n",
      "\torg.scalanlp#breeze-macros_2.12;1.2 from central in [default]\n",
      "\torg.scalanlp#breeze_2.12;1.2 from central in [default]\n",
      "\torg.slf4j#slf4j-api;1.7.25 from central in [default]\n",
      "\torg.spark-project.spark#unused;1.0.0 from central in [default]\n",
      "\torg.testng#testng;6.8.8 from central in [default]\n",
      "\torg.tukaani#xz;1.8 from central in [default]\n",
      "\torg.typelevel#algebra_2.12;2.0.1 from central in [default]\n",
      "\torg.typelevel#cats-kernel_2.12;2.1.1 from central in [default]\n",
      "\torg.typelevel#macro-compat_2.12;1.1.1 from central in [default]\n",
      "\torg.typelevel#spire-macros_2.12;0.17.0 from central in [default]\n",
      "\torg.typelevel#spire-platform_2.12;0.17.0 from central in [default]\n",
      "\torg.typelevel#spire-util_2.12;0.17.0 from central in [default]\n",
      "\torg.typelevel#spire_2.12;0.17.0 from central in [default]\n",
      "\tpl.edu.icm#JLargeArrays;1.5 from central in [default]\n",
      "\t:: evicted modules:\n",
      "\tcommons-codec#commons-codec;1.11 by [commons-codec#commons-codec;1.15] in [default]\n",
      "\tcom.chuusai#shapeless_2.12;2.3.2 by [com.chuusai#shapeless_2.12;2.3.3] in [default]\n",
      "\torg.scala-lang#scala-reflect;2.12.10 by [org.scala-lang#scala-reflect;2.12.15] in [default]\n",
      "\torg.apache.commons#commons-math3;3.5 by [org.apache.commons#commons-math3;3.2] in [default]\n",
      "\torg.slf4j#slf4j-api;1.7.5 by [org.slf4j#slf4j-api;1.7.25] in [default]\n",
      "\torg.scala-lang.modules#scala-collection-compat_2.12;2.2.0 by [org.scala-lang.modules#scala-collection-compat_2.12;2.1.1] in [default]\n",
      "\t---------------------------------------------------------------------\n",
      "\t|                  |            modules            ||   artifacts   |\n",
      "\t|       conf       | number| search|dwnlded|evicted|| number|dwnlded|\n",
      "\t---------------------------------------------------------------------\n",
      "\t|      default     |   56  |   0   |   0   |   6   ||   51  |   0   |\n",
      "\t---------------------------------------------------------------------\n",
      ":: retrieving :: org.apache.spark#spark-submit-parent-5f313bad-974d-4efe-ba4b-1802937f68ff\n",
      "\tconfs: [default]\n",
      "\t0 artifacts copied, 51 already retrieved (0kB/14ms)\n",
      "23/06/16 05:27:26 WARN NativeCodeLoader: Unable to load native-hadoop library for your platform... using builtin-java classes where applicable\n",
      "Setting default log level to \"WARN\".\n",
      "To adjust logging level use sc.setLogLevel(newLevel). For SparkR, use setLogLevel(newLevel).\n"
     ]
    },
    {
     "data": {
      "text/html": [
       "\n",
       "            <div>\n",
       "                <p><b>SparkSession - hive</b></p>\n",
       "                \n",
       "        <div>\n",
       "            <p><b>SparkContext</b></p>\n",
       "\n",
       "            <p><a href=\"http://bac044c6c4c0:4040\">Spark UI</a></p>\n",
       "\n",
       "            <dl>\n",
       "              <dt>Version</dt>\n",
       "                <dd><code>v3.4.0</code></dd>\n",
       "              <dt>Master</dt>\n",
       "                <dd><code>local[*]</code></dd>\n",
       "              <dt>AppName</dt>\n",
       "                <dd><code>pyspark-shell</code></dd>\n",
       "            </dl>\n",
       "        </div>\n",
       "        \n",
       "            </div>\n",
       "        "
      ],
      "text/plain": [
       "<pyspark.sql.session.SparkSession at 0x7fd45d071280>"
      ]
     },
     "execution_count": 1,
     "metadata": {},
     "output_type": "execute_result"
    }
   ],
   "source": [
    "from pyspark.sql import SparkSession\n",
    "from os.path import abspath\n",
    "\n",
    "warehouse_location = abspath('spark-warehouse')\n",
    "\n",
    "spark = SparkSession.builder    \\\n",
    "    .config('spark.driver.memory', '32g')   \\\n",
    "    .config(\"spark.sql.warehouse.dir\", warehouse_location) \\\n",
    "    .config(\"spark.sql.catalogImplementation\",\"hive\") \\\n",
    "    .config(\"spark.jars.packages\", \"com.microsoft.azure:synapseml_2.12:0.11.1\") \\\n",
    "    .enableHiveSupport()   \\\n",
    "    .getOrCreate()\n",
    "spark"
   ]
  },
  {
   "cell_type": "code",
   "execution_count": 2,
   "metadata": {},
   "outputs": [
    {
     "name": "stderr",
     "output_type": "stream",
     "text": [
      "23/06/16 05:27:45 WARN HiveConf: HiveConf of name hive.stats.jdbc.timeout does not exist\n",
      "23/06/16 05:27:45 WARN HiveConf: HiveConf of name hive.stats.retries.wait does not exist\n",
      "23/06/16 05:27:47 WARN ObjectStore: Version information not found in metastore. hive.metastore.schema.verification is not enabled so recording the schema version 2.3.0\n",
      "23/06/16 05:27:47 WARN ObjectStore: setMetaStoreSchemaVersion called but recording version is disabled: version = 2.3.0, comment = Set by MetaStore UNKNOWN@172.17.0.2\n",
      "23/06/16 05:27:48 WARN ObjectStore: Failed to get database global_temp, returning NoSuchObjectException\n"
     ]
    },
    {
     "data": {
      "text/plain": [
       "[Table(name='data_mart', catalog='spark_catalog', namespace=['default'], description=None, tableType='MANAGED', isTemporary=False),\n",
       " Table(name='order_priors_prods', catalog='spark_catalog', namespace=['default'], description=None, tableType='MANAGED', isTemporary=False),\n",
       " Table(name='order_trains_prods', catalog='spark_catalog', namespace=['default'], description=None, tableType='MANAGED', isTemporary=False),\n",
       " Table(name='prd_mart', catalog='spark_catalog', namespace=['default'], description=None, tableType='MANAGED', isTemporary=False),\n",
       " Table(name='test_data', catalog='spark_catalog', namespace=['default'], description=None, tableType='MANAGED', isTemporary=False),\n",
       " Table(name='train_data', catalog='spark_catalog', namespace=['default'], description=None, tableType='MANAGED', isTemporary=False),\n",
       " Table(name='up_mart', catalog='spark_catalog', namespace=['default'], description=None, tableType='MANAGED', isTemporary=False),\n",
       " Table(name='user_mart', catalog='spark_catalog', namespace=['default'], description=None, tableType='MANAGED', isTemporary=False),\n",
       " Table(name='user_mart_01', catalog='spark_catalog', namespace=['default'], description=None, tableType='MANAGED', isTemporary=False)]"
      ]
     },
     "execution_count": 2,
     "metadata": {},
     "output_type": "execute_result"
    }
   ],
   "source": [
    "spark.catalog.listTables()"
   ]
  },
  {
   "cell_type": "code",
   "execution_count": 28,
   "metadata": {},
   "outputs": [
    {
     "name": "stdout",
     "output_type": "stream",
     "text": [
      "root\n",
      " |-- up_cnt: long (nullable = true)\n",
      " |-- up_reord_cnt: long (nullable = true)\n",
      " |-- up_no_reord_cnt: long (nullable = true)\n",
      " |-- up_reordered_avg: double (nullable = true)\n",
      " |-- up_max_ord_num: integer (nullable = true)\n",
      " |-- up_min_ord_num: integer (nullable = true)\n",
      " |-- up_avg_cart: double (nullable = true)\n",
      " |-- up_avg_prior_days: double (nullable = true)\n",
      " |-- up_max_prior_days: double (nullable = true)\n",
      " |-- up_min_prior_days: double (nullable = true)\n",
      " |-- up_avg_ord_dow: double (nullable = true)\n",
      " |-- up_avg_ord_hour: double (nullable = true)\n",
      " |-- up_usr_ratio: double (nullable = true)\n",
      " |-- up_usr_reord_ratio: double (nullable = true)\n",
      " |-- up_usr_ord_num_diff: integer (nullable = true)\n",
      " |-- usr_total_cnt: long (nullable = true)\n",
      " |-- prd_uq_cnt: long (nullable = true)\n",
      " |-- order_uq_cnt: long (nullable = true)\n",
      " |-- usr_avg_prd_cnt: double (nullable = true)\n",
      " |-- usr_avg_uq_prd_cnt: double (nullable = true)\n",
      " |-- usr_uq_prd_ratio: double (nullable = true)\n",
      " |-- usr_reord_cnt: long (nullable = true)\n",
      " |-- usr_no_reord_cnt: long (nullable = true)\n",
      " |-- usr_reordered_avg: double (nullable = true)\n",
      " |-- usr_avg_prior_days: double (nullable = true)\n",
      " |-- usr_max_prior_days: double (nullable = true)\n",
      " |-- usr_min_prior_days: double (nullable = true)\n",
      " |-- usr_avg_order_dow: double (nullable = true)\n",
      " |-- usr_avg_order_hour_of_day: double (nullable = true)\n",
      " |-- usr_max_order_number: integer (nullable = true)\n",
      " |-- days_since_prior_order: double (nullable = true)\n",
      " |-- prd_reordered_cnt: long (nullable = true)\n",
      " |-- prd_no_reordered_cnt: long (nullable = true)\n",
      " |-- prd_avg_reordered: double (nullable = true)\n",
      " |-- prd_unq_usr_cnt: long (nullable = true)\n",
      " |-- prd_total_cnt: long (nullable = true)\n",
      " |-- prd_usr_ratio: double (nullable = true)\n",
      " |-- prd_avg_prior_days: double (nullable = true)\n",
      " |-- prd_min_prior_days: double (nullable = true)\n",
      " |-- prd_max_prior_days: double (nullable = true)\n",
      " |-- aisle_distinct_usr_cnt: long (nullable = true)\n",
      " |-- aisle_total_cnt: long (nullable = true)\n",
      " |-- aisle_usr_ratio: double (nullable = true)\n",
      " |-- usr_ratio_diff: double (nullable = true)\n",
      " |-- reordered: integer (nullable = true)\n",
      "\n"
     ]
    }
   ],
   "source": [
    "train_sdf = spark.table('train_data')\n",
    "test_sdf = spark.table('test_data')\n",
    "train_sdf.printSchema()"
   ]
  },
  {
   "cell_type": "code",
   "execution_count": 29,
   "metadata": {},
   "outputs": [],
   "source": [
    "train_sdf = train_sdf.fillna(0)"
   ]
  },
  {
   "cell_type": "code",
   "execution_count": 30,
   "metadata": {},
   "outputs": [
    {
     "name": "stdout",
     "output_type": "stream",
     "text": [
      "+------+------------+---------------+------------------+--------------+--------------+------------------+------------------+-----------------+-----------------+------------------+------------------+--------------------+--------------------+-------------------+-------------+----------+------------+------------------+------------------+------------------+-------------+----------------+-------------------+------------------+------------------+------------------+------------------+-------------------------+--------------------+----------------------+-----------------+--------------------+-------------------+---------------+-------------+-------------------+------------------+------------------+------------------+----------------------+---------------+-------------------+--------------------+---------+--------------------+\n",
      "|up_cnt|up_reord_cnt|up_no_reord_cnt|  up_reordered_avg|up_max_ord_num|up_min_ord_num|       up_avg_cart| up_avg_prior_days|up_max_prior_days|up_min_prior_days|    up_avg_ord_dow|   up_avg_ord_hour|        up_usr_ratio|  up_usr_reord_ratio|up_usr_ord_num_diff|usr_total_cnt|prd_uq_cnt|order_uq_cnt|   usr_avg_prd_cnt|usr_avg_uq_prd_cnt|  usr_uq_prd_ratio|usr_reord_cnt|usr_no_reord_cnt|  usr_reordered_avg|usr_avg_prior_days|usr_max_prior_days|usr_min_prior_days| usr_avg_order_dow|usr_avg_order_hour_of_day|usr_max_order_number|days_since_prior_order|prd_reordered_cnt|prd_no_reordered_cnt|  prd_avg_reordered|prd_unq_usr_cnt|prd_total_cnt|      prd_usr_ratio|prd_avg_prior_days|prd_min_prior_days|prd_max_prior_days|aisle_distinct_usr_cnt|aisle_total_cnt|    aisle_usr_ratio|      usr_ratio_diff|reordered|            features|\n",
      "+------+------------+---------------+------------------+--------------+--------------+------------------+------------------+-----------------+-----------------+------------------+------------------+--------------------+--------------------+-------------------+-------------+----------+------------+------------------+------------------+------------------+-------------+----------------+-------------------+------------------+------------------+------------------+------------------+-------------------------+--------------------+----------------------+-----------------+--------------------+-------------------+---------------+-------------+-------------------+------------------+------------------+------------------+----------------------+---------------+-------------------+--------------------+---------+--------------------+\n",
      "|     3|           2|              1|0.6666666666666666|             8|             6| 5.333333333333333|              18.0|             27.0|             13.0|1.6666666666666667|              12.0|0.015384615384615385|0.021505376344086023|                  6|          195|       102|          14|13.928571428571429| 1.911764705882353|0.5230769230769231|           93|             102|0.47692307692307695|15.967032967032967|              30.0|               3.0| 2.005128205128205|       10.441025641025641|                  14|                  30.0|             2361|                1985| 0.5432581684307409|           1985|         4346|0.45674183156925907|10.554764243614931|               0.0|              30.0|                 89923|         458838|0.19597984473823005|   0.260761986831029|        0|[3.0,2.0,1.0,0.66...|\n",
      "|     5|           4|              1|               0.8|            14|             6|              10.8|              18.4|             30.0|              8.0|               1.8|               9.4| 0.02564102564102564|0.043010752688172046|                  0|          195|       102|          14|13.928571428571429| 1.911764705882353|0.5230769230769231|           93|             102|0.47692307692307695|15.967032967032967|              30.0|               3.0| 2.005128205128205|       10.441025641025641|                  14|                  30.0|            22419|                7474| 0.7499749105141672|           7474|        29893| 0.2500250894858328| 10.29117531796644|               0.0|              30.0|                124393|        1452343|0.08564987747384743| 0.16437521201198535|        0|[5.0,4.0,1.0,0.8,...|\n",
      "|     1|           0|              1|               0.0|             5|             5|               6.0|               8.0|              8.0|              8.0|               3.0|              11.0|0.005128205128205128|                 0.0|                  9|          195|       102|          14|13.928571428571429| 1.911764705882353|0.5230769230769231|           93|             102|0.47692307692307695|15.967032967032967|              30.0|               3.0| 2.005128205128205|       10.441025641025641|                  14|                  30.0|             1587|                 737| 0.6828743545611016|            737|         2324|0.31712564543889843|10.083408476104598|               0.0|              30.0|                 18799|          71860|0.26160590036181464| 0.05551974507708379|        0|[1.0,0.0,1.0,0.0,...|\n",
      "|     3|           2|              1|0.6666666666666666|            20|             2|11.666666666666666|22.333333333333332|             30.0|              7.0|1.3333333333333333|15.333333333333334|0.014563106796116505|0.014492753623188406|                  0|          206|        68|          20|              10.3|3.0294117647058822|0.3300970873786408|          138|              68| 0.6699029126213593| 13.54639175257732|              30.0|               2.0|1.7281553398058251|       13.631067961165048|                  20|                   6.0|             3773|                1735| 0.6850036310820624|           1735|         5508|0.31499636891793753|10.052741812642802|               0.0|              30.0|                 26073|          87197|0.29901258070805187|0.015983788209885663|        0|[3.0,2.0,1.0,0.66...|\n",
      "|     8|           7|              1|             0.875|            20|             2|             9.625|            15.375|             30.0|              5.0|             1.625|              13.5|0.038834951456310676|0.050724637681159424|                  0|          206|        68|          20|              10.3|3.0294117647058822|0.3300970873786408|          138|              68| 0.6699029126213593| 13.54639175257732|              30.0|               2.0|1.7281553398058251|       13.631067961165048|                  20|                   6.0|             7556|                4567| 0.6232780664851935|           4567|        12123|0.37672193351480654| 11.31117903930131|               0.0|              30.0|                 25372|          70887|  0.357921762805592|0.018800170709214525|        1|[8.0,7.0,1.0,0.87...|\n",
      "|     2|           1|              1|               0.5|            20|            16|              12.5|               9.0|             11.0|              7.0|               1.5|              11.0|0.009708737864077669|0.007246376811594203|                  0|          206|        68|          20|              10.3|3.0294117647058822|0.3300970873786408|          138|              68| 0.6699029126213593| 13.54639175257732|              30.0|               2.0|1.7281553398058251|       13.631067961165048|                  20|                   6.0|             2689|                1787| 0.6007596067917784|           1787|         4476|0.39924039320822163|10.838115734098517|               0.0|              30.0|                159418|        1765313|0.09030579846180252|  0.3089345947464191|        0|[2.0,1.0,1.0,0.5,...|\n",
      "|     3|           2|              1|0.6666666666666666|            20|            15| 7.666666666666667|12.333333333333334|             28.0|              2.0|               2.0|11.666666666666666|0.014563106796116505|0.014492753623188406|                  0|          206|        68|          20|              10.3|3.0294117647058822|0.3300970873786408|          138|              68| 0.6699029126213593| 13.54639175257732|              30.0|               2.0|1.7281553398058251|       13.631067961165048|                  20|                   6.0|             4967|                5454| 0.4766337203723251|           5454|        10421| 0.5233662796276749|10.328053609503502|               0.0|              30.0|                177141|        3642188|0.04863587491914201|  0.4747304047085329|        0|[3.0,2.0,1.0,0.66...|\n",
      "|     1|           0|              1|               0.0|             3|             3|              27.0|              30.0|             30.0|             30.0|               5.0|              12.0|0.013157894736842105|                 0.0|                  0|           76|        58|           3|25.333333333333332|1.3103448275862069|0.7631578947368421|           18|              58|0.23684210526315788| 24.26086956521739|              30.0|               6.0|2.6973684210526314|       14.263157894736842|                   3|                  30.0|             1610|                 804| 0.6669428334714167|            804|         2414|0.33305716652858325|10.779496243923994|               0.0|              30.0|                 63506|         357537|0.17762077770971954|  0.1554363888188637|        0|[1.0,0.0,1.0,0.0,...|\n",
      "|     2|           1|              1|               0.5|             3|             2|               2.0|              18.0|             30.0|              6.0|               2.5|              13.0| 0.02631578947368421| 0.05555555555555555|                  0|           76|        58|           3|25.333333333333332|1.3103448275862069|0.7631578947368421|           18|              58|0.23684210526315788| 24.26086956521739|              30.0|               6.0|2.6973684210526314|       14.263157894736842|                   3|                  30.0|               38|                  40|0.48717948717948717|             40|           78| 0.5128205128205128|10.126760563380282|               0.0|              30.0|                 85357|         575881|0.14821985792203599|  0.3646006548984768|        0|[2.0,1.0,1.0,0.5,...|\n",
      "|     1|           0|              1|               0.0|             3|             3|               9.0|              12.0|             12.0|             12.0|               3.0|              19.0|0.006993006993006993|                 0.0|                  2|          143|        94|           5|              28.6|1.5212765957446808|0.6573426573426573|           49|              94|0.34265734265734266|20.746376811594203|              30.0|              12.0| 4.013986013986014|       16.902097902097903|                   5|                  30.0|            32924|               16097| 0.6716305256930704|          16097|        49021| 0.3283694743069297|10.672086837137464|               0.0|              30.0|                177141|        3642188|0.04863587491914201|  0.2797335993877877|        0|[1.0,0.0,1.0,0.0,...|\n",
      "+------+------------+---------------+------------------+--------------+--------------+------------------+------------------+-----------------+-----------------+------------------+------------------+--------------------+--------------------+-------------------+-------------+----------+------------+------------------+------------------+------------------+-------------+----------------+-------------------+------------------+------------------+------------------+------------------+-------------------------+--------------------+----------------------+-----------------+--------------------+-------------------+---------------+-------------+-------------------+------------------+------------------+------------------+----------------------+---------------+-------------------+--------------------+---------+--------------------+\n",
      "only showing top 10 rows\n",
      "\n"
     ]
    }
   ],
   "source": [
    "from pyspark.ml.feature import VectorAssembler\n",
    "\n",
    "vector_columns = [col for col in train_sdf.columns if col != 'reordered']\n",
    "vector_assembler = VectorAssembler(inputCols=vector_columns, outputCol='features')\n",
    "train_sdf_vectorized = vector_assembler.transform(train_sdf)\n",
    "train_sdf_vectorized.show(10)"
   ]
  },
  {
   "cell_type": "code",
   "execution_count": 31,
   "metadata": {},
   "outputs": [
    {
     "data": {
      "text/plain": [
       "8474661"
      ]
     },
     "execution_count": 31,
     "metadata": {},
     "output_type": "execute_result"
    }
   ],
   "source": [
    "train_sdf.count()"
   ]
  },
  {
   "cell_type": "code",
   "execution_count": 32,
   "metadata": {},
   "outputs": [
    {
     "name": "stderr",
     "output_type": "stream",
     "text": [
      "                                                                                \r"
     ]
    }
   ],
   "source": [
    "from synapse.ml.lightgbm import LightGBMClassifier\n",
    "\n",
    "lgbm_estimator = LightGBMClassifier(\n",
    "    labelCol='reordered', numLeaves=100,  maxDepth=10, \n",
    "    numIterations=100, earlyStoppingRound=15\n",
    ")\n",
    "lgbm_model = lgbm_estimator.fit(train_sdf_vectorized)"
   ]
  },
  {
   "cell_type": "code",
   "execution_count": 33,
   "metadata": {},
   "outputs": [],
   "source": [
    "def make_test_sdf_ids_n_test_sdf(test_sdf):\n",
    "    id_cols = ['user_id', 'product_id', 'order_id']\n",
    "    test_sdf_id = test_sdf.select(*id_cols)\n",
    "    test_sdf_dropped = test_sdf.drop(*id_cols)\n",
    "    return test_sdf_id, test_sdf_dropped"
   ]
  },
  {
   "cell_type": "code",
   "execution_count": 34,
   "metadata": {},
   "outputs": [],
   "source": [
    "test_sdf_id, test_sdf = make_test_sdf_ids_n_test_sdf(test_sdf)"
   ]
  },
  {
   "cell_type": "code",
   "execution_count": 35,
   "metadata": {},
   "outputs": [
    {
     "name": "stdout",
     "output_type": "stream",
     "text": [
      "+-------+----------+--------+\n",
      "|user_id|product_id|order_id|\n",
      "+-------+----------+--------+\n",
      "|    141|      9387|  726111|\n",
      "|    141|     47766|  726111|\n",
      "|    141|     10941|  726111|\n",
      "|    141|     32256|  726111|\n",
      "|    141|     44632|  726111|\n",
      "|    141|     21137|  726111|\n",
      "|    141|     31717|  726111|\n",
      "|    141|     17968|  726111|\n",
      "|    141|     20734|  726111|\n",
      "|    141|     34448|  726111|\n",
      "+-------+----------+--------+\n",
      "only showing top 10 rows\n",
      "\n",
      "+------+------------+---------------+----------------+--------------+--------------+-----------+-----------------+-----------------+-----------------+--------------+---------------+--------------------+-------------------+-------------------+-------------+----------+------------+---------------+------------------+------------------+-------------+----------------+-------------------+------------------+------------------+------------------+------------------+-------------------------+--------------------+----------------------+-----------------+--------------------+-------------------+---------------+-------------+-------------------+------------------+------------------+------------------+----------------------+---------------+-------------------+-------------------+\n",
      "|up_cnt|up_reord_cnt|up_no_reord_cnt|up_reordered_avg|up_max_ord_num|up_min_ord_num|up_avg_cart|up_avg_prior_days|up_max_prior_days|up_min_prior_days|up_avg_ord_dow|up_avg_ord_hour|        up_usr_ratio| up_usr_reord_ratio|up_usr_ord_num_diff|usr_total_cnt|prd_uq_cnt|order_uq_cnt|usr_avg_prd_cnt|usr_avg_uq_prd_cnt|  usr_uq_prd_ratio|usr_reord_cnt|usr_no_reord_cnt|  usr_reordered_avg|usr_avg_prior_days|usr_max_prior_days|usr_min_prior_days| usr_avg_order_dow|usr_avg_order_hour_of_day|usr_max_order_number|days_since_prior_order|prd_reordered_cnt|prd_no_reordered_cnt|  prd_avg_reordered|prd_unq_usr_cnt|prd_total_cnt|      prd_usr_ratio|prd_avg_prior_days|prd_min_prior_days|prd_max_prior_days|aisle_distinct_usr_cnt|aisle_total_cnt|    aisle_usr_ratio|     usr_ratio_diff|\n",
      "+------+------------+---------------+----------------+--------------+--------------+-----------+-----------------+-----------------+-----------------+--------------+---------------+--------------------+-------------------+-------------------+-------------+----------+------------+---------------+------------------+------------------+-------------+----------------+-------------------+------------------+------------------+------------------+------------------+-------------------------+--------------------+----------------------+-----------------+--------------------+-------------------+---------------+-------------+-------------------+------------------+------------------+------------------+----------------------+---------------+-------------------+-------------------+\n",
      "|     1|           0|              1|             0.0|             1|             1|        4.0|             null|             null|             null|           0.0|           15.0|0.024390243902439025|                0.0|                  3|           41|        35|           4|          10.25|1.1714285714285715|0.8536585365853658|            6|              35|0.14634146341463414|3.5357142857142856|               6.0|               2.0|2.5853658536585367|       13.268292682926829|                   4|                  20.0|            23537|               12650| 0.6504269489043026|          12650|        36187|0.34957305109569736|10.780686720642988|               0.0|              30.0|                177141|        3642188|0.04863587491914201|0.30093717617655535|\n",
      "|     2|           1|              1|             0.5|             4|             1|        3.0|              2.0|              2.0|              2.0|           2.0|           13.0| 0.04878048780487805|0.16666666666666666|                  0|           41|        35|           4|          10.25|1.1714285714285715|0.8536585365853658|            6|              35|0.14634146341463414|3.5357142857142856|               6.0|               2.0|2.5853658536585367|       13.268292682926829|                   4|                  20.0|           134044|               42771| 0.7581031021123773|          42771|       176815|0.24189689788762267|11.198919741628925|               0.0|              30.0|                177141|        3642188|0.04863587491914201|0.19326102296848066|\n",
      "|     1|           0|              1|             0.0|             2|             2|        7.0|              6.0|              6.0|              6.0|           6.0|           12.0|0.024390243902439025|                0.0|                  2|           41|        35|           4|          10.25|1.1714285714285715|0.8536585365853658|            6|              35|0.14634146341463414|3.5357142857142856|               6.0|               2.0|2.5853658536585367|       13.268292682926829|                   4|                  20.0|               43|                  71|0.37719298245614036|             71|          114| 0.6228070175438597| 9.063063063063064|               0.0|              30.0|                 54202|         234065|0.23156815414521606|0.39123886339864367|\n",
      "|     1|           0|              1|             0.0|             3|             3|        5.0|              3.0|              3.0|              3.0|           2.0|           14.0|0.024390243902439025|                0.0|                  1|           41|        35|           4|          10.25|1.1714285714285715|0.8536585365853658|            6|              35|0.14634146341463414|3.5357142857142856|               6.0|               2.0|2.5853658536585367|       13.268292682926829|                   4|                  20.0|              122|                 384|0.24110671936758893|            384|          506|  0.758893280632411|11.146808510638298|               0.0|              30.0|                  6631|          15901|  0.417017797622791|   0.34187548300962|\n",
      "|     2|           1|              1|             0.5|             4|             1|        4.5|              2.0|              2.0|              2.0|           2.0|           13.0| 0.04878048780487805|0.16666666666666666|                  0|           41|        35|           4|          10.25|1.1714285714285715|0.8536585365853658|            6|              35|0.14634146341463414|3.5357142857142856|               6.0|               2.0|2.5853658536585367|       13.268292682926829|                   4|                  20.0|            58513|               17373| 0.7710644914740532|          17373|        75886|0.22893550852594682|11.459154969000602|               0.0|              30.0|                 99755|         841533|0.11853961757887094|0.11039589094707589|\n",
      "|     1|           0|              1|             0.0|             4|             4|        9.0|              2.0|              2.0|              2.0|           4.0|           11.0|0.024390243902439025|                0.0|                  0|           41|        35|           4|          10.25|1.1714285714285715|0.8536585365853658|            6|              35|0.14634146341463414|3.5357142857142856|               6.0|               2.0|2.5853658536585367|       13.268292682926829|                   4|                  20.0|           205845|               58838| 0.7777038948477991|          58838|       264683|0.22229610515220094| 10.03712850345864|               0.0|              30.0|                177141|        3642188|0.04863587491914201|0.17366023023305893|\n",
      "|     1|           0|              1|             0.0|             4|             4|        2.0|              2.0|              2.0|              2.0|           4.0|           11.0|0.024390243902439025|                0.0|                  0|           41|        35|           4|          10.25|1.1714285714285715|0.8536585365853658|            6|              35|0.14634146341463414|3.5357142857142856|               6.0|               2.0|2.5853658536585367|       13.268292682926829|                   4|                  20.0|            43103|               26421| 0.6199729589781946|          26421|        69524| 0.3800270410218054| 10.50425033879512|               0.0|              30.0|                 76738|         377741| 0.2031497772283125| 0.1768772637934929|\n",
      "|     1|           0|              1|             0.0|             2|             2|        6.0|              6.0|              6.0|              6.0|           6.0|           12.0|0.024390243902439025|                0.0|                  2|           41|        35|           4|          10.25|1.1714285714285715|0.8536585365853658|            6|              35|0.14634146341463414|3.5357142857142856|               6.0|               2.0|2.5853658536585367|       13.268292682926829|                   4|                  20.0|               35|                  77|             0.3125|             77|          112|             0.6875|10.548076923076923|               1.0|              30.0|                 54202|         234065|0.23156815414521606|0.45593184585478397|\n",
      "|     1|           0|              1|             0.0|             4|             4|        5.0|              2.0|              2.0|              2.0|           4.0|           11.0|0.024390243902439025|                0.0|                  0|           41|        35|           4|          10.25|1.1714285714285715|0.8536585365853658|            6|              35|0.14634146341463414|3.5357142857142856|               6.0|               2.0|2.5853658536585367|       13.268292682926829|                   4|                  20.0|             5869|                4491| 0.5665057915057915|           4491|        10360| 0.4334942084942085| 10.00725526262007|               0.0|              30.0|                 76177|         306487|0.24854887809270867|0.18494533040149982|\n",
      "|     1|           0|              1|             0.0|             3|             3|       11.0|              3.0|              3.0|              3.0|           2.0|           14.0|0.024390243902439025|                0.0|                  1|           41|        35|           4|          10.25|1.1714285714285715|0.8536585365853658|            6|              35|0.14634146341463414|3.5357142857142856|               6.0|               2.0|2.5853658536585367|       13.268292682926829|                   4|                  20.0|            11164|                5686| 0.6625519287833828|           5686|        16850| 0.3374480712166172|10.718476903870162|               0.0|              30.0|                 41929|         175757| 0.2385623332214364|0.09888573799518077|\n",
      "+------+------------+---------------+----------------+--------------+--------------+-----------+-----------------+-----------------+-----------------+--------------+---------------+--------------------+-------------------+-------------------+-------------+----------+------------+---------------+------------------+------------------+-------------+----------------+-------------------+------------------+------------------+------------------+------------------+-------------------------+--------------------+----------------------+-----------------+--------------------+-------------------+---------------+-------------+-------------------+------------------+------------------+------------------+----------------------+---------------+-------------------+-------------------+\n",
      "only showing top 10 rows\n",
      "\n"
     ]
    },
    {
     "data": {
      "text/plain": [
       "(None, None)"
      ]
     },
     "execution_count": 35,
     "metadata": {},
     "output_type": "execute_result"
    }
   ],
   "source": [
    "test_sdf_id.show(10), test_sdf.show(10)"
   ]
  },
  {
   "cell_type": "code",
   "execution_count": 40,
   "metadata": {},
   "outputs": [],
   "source": [
    "test_sdf = test_sdf.fillna(0)"
   ]
  },
  {
   "cell_type": "code",
   "execution_count": 41,
   "metadata": {},
   "outputs": [
    {
     "name": "stderr",
     "output_type": "stream",
     "text": [
      "[Stage 43:===============================================>     (156 + 18) / 174]\r"
     ]
    },
    {
     "name": "stdout",
     "output_type": "stream",
     "text": [
      "+------+------------+---------------+----------------+--------------+--------------+-----------+-----------------+-----------------+-----------------+--------------+---------------+------------+------------------+-------------------+-------------+----------+------------+---------------+------------------+----------------+-------------+----------------+-----------------+------------------+------------------+------------------+-----------------+-------------------------+--------------------+----------------------+-----------------+--------------------+-----------------+---------------+-------------+-------------+------------------+------------------+------------------+----------------------+---------------+---------------+--------------+\n",
      "|up_cnt|up_reord_cnt|up_no_reord_cnt|up_reordered_avg|up_max_ord_num|up_min_ord_num|up_avg_cart|up_avg_prior_days|up_max_prior_days|up_min_prior_days|up_avg_ord_dow|up_avg_ord_hour|up_usr_ratio|up_usr_reord_ratio|up_usr_ord_num_diff|usr_total_cnt|prd_uq_cnt|order_uq_cnt|usr_avg_prd_cnt|usr_avg_uq_prd_cnt|usr_uq_prd_ratio|usr_reord_cnt|usr_no_reord_cnt|usr_reordered_avg|usr_avg_prior_days|usr_max_prior_days|usr_min_prior_days|usr_avg_order_dow|usr_avg_order_hour_of_day|usr_max_order_number|days_since_prior_order|prd_reordered_cnt|prd_no_reordered_cnt|prd_avg_reordered|prd_unq_usr_cnt|prd_total_cnt|prd_usr_ratio|prd_avg_prior_days|prd_min_prior_days|prd_max_prior_days|aisle_distinct_usr_cnt|aisle_total_cnt|aisle_usr_ratio|usr_ratio_diff|\n",
      "+------+------------+---------------+----------------+--------------+--------------+-----------+-----------------+-----------------+-----------------+--------------+---------------+------------+------------------+-------------------+-------------+----------+------------+---------------+------------------+----------------+-------------+----------------+-----------------+------------------+------------------+------------------+-----------------+-------------------------+--------------------+----------------------+-----------------+--------------------+-----------------+---------------+-------------+-------------+------------------+------------------+------------------+----------------------+---------------+---------------+--------------+\n",
      "|     0|           0|              0|               0|             0|             0|          0|                0|                0|                0|             0|              0|           0|                 0|                  0|            0|         0|           0|              0|                 0|               0|            0|               0|                0|                 0|                 0|                 0|                0|                        0|                   0|                     0|                0|                   0|                0|              0|            0|            0|                 0|                 0|                 0|                     0|              0|              0|             0|\n",
      "+------+------------+---------------+----------------+--------------+--------------+-----------+-----------------+-----------------+-----------------+--------------+---------------+------------+------------------+-------------------+-------------+----------+------------+---------------+------------------+----------------+-------------+----------------+-----------------+------------------+------------------+------------------+-----------------+-------------------------+--------------------+----------------------+-----------------+--------------------+-----------------+---------------+-------------+-------------+------------------+------------------+------------------+----------------------+---------------+---------------+--------------+\n",
      "\n"
     ]
    },
    {
     "name": "stderr",
     "output_type": "stream",
     "text": [
      "                                                                                \r"
     ]
    }
   ],
   "source": [
    "import pyspark.sql.functions as F\n",
    "\n",
    "test_sdf.select([F.count(F.when(F.col(c).isNull() | F.isnan(c), c)).alias(c) for c in test_sdf.columns]).show()"
   ]
  },
  {
   "cell_type": "code",
   "execution_count": 42,
   "metadata": {},
   "outputs": [
    {
     "name": "stdout",
     "output_type": "stream",
     "text": [
      "+------+------------+---------------+----------------+--------------+--------------+-----------+-----------------+-----------------+-----------------+--------------+---------------+--------------------+-------------------+-------------------+-------------+----------+------------+---------------+------------------+------------------+-------------+----------------+-------------------+------------------+------------------+------------------+------------------+-------------------------+--------------------+----------------------+-----------------+--------------------+-------------------+---------------+-------------+-------------------+------------------+------------------+------------------+----------------------+---------------+-------------------+-------------------+--------------------+\n",
      "|up_cnt|up_reord_cnt|up_no_reord_cnt|up_reordered_avg|up_max_ord_num|up_min_ord_num|up_avg_cart|up_avg_prior_days|up_max_prior_days|up_min_prior_days|up_avg_ord_dow|up_avg_ord_hour|        up_usr_ratio| up_usr_reord_ratio|up_usr_ord_num_diff|usr_total_cnt|prd_uq_cnt|order_uq_cnt|usr_avg_prd_cnt|usr_avg_uq_prd_cnt|  usr_uq_prd_ratio|usr_reord_cnt|usr_no_reord_cnt|  usr_reordered_avg|usr_avg_prior_days|usr_max_prior_days|usr_min_prior_days| usr_avg_order_dow|usr_avg_order_hour_of_day|usr_max_order_number|days_since_prior_order|prd_reordered_cnt|prd_no_reordered_cnt|  prd_avg_reordered|prd_unq_usr_cnt|prd_total_cnt|      prd_usr_ratio|prd_avg_prior_days|prd_min_prior_days|prd_max_prior_days|aisle_distinct_usr_cnt|aisle_total_cnt|    aisle_usr_ratio|     usr_ratio_diff|            features|\n",
      "+------+------------+---------------+----------------+--------------+--------------+-----------+-----------------+-----------------+-----------------+--------------+---------------+--------------------+-------------------+-------------------+-------------+----------+------------+---------------+------------------+------------------+-------------+----------------+-------------------+------------------+------------------+------------------+------------------+-------------------------+--------------------+----------------------+-----------------+--------------------+-------------------+---------------+-------------+-------------------+------------------+------------------+------------------+----------------------+---------------+-------------------+-------------------+--------------------+\n",
      "|     1|           0|              1|             0.0|             1|             1|        4.0|              0.0|              0.0|              0.0|           0.0|           15.0|0.024390243902439025|                0.0|                  3|           41|        35|           4|          10.25|1.1714285714285715|0.8536585365853658|            6|              35|0.14634146341463414|3.5357142857142856|               6.0|               2.0|2.5853658536585367|       13.268292682926829|                   4|                  20.0|            23537|               12650| 0.6504269489043026|          12650|        36187|0.34957305109569736|10.780686720642988|               0.0|              30.0|                177141|        3642188|0.04863587491914201|0.30093717617655535|[1.0,0.0,1.0,0.0,...|\n",
      "|     2|           1|              1|             0.5|             4|             1|        3.0|              2.0|              2.0|              2.0|           2.0|           13.0| 0.04878048780487805|0.16666666666666666|                  0|           41|        35|           4|          10.25|1.1714285714285715|0.8536585365853658|            6|              35|0.14634146341463414|3.5357142857142856|               6.0|               2.0|2.5853658536585367|       13.268292682926829|                   4|                  20.0|           134044|               42771| 0.7581031021123773|          42771|       176815|0.24189689788762267|11.198919741628925|               0.0|              30.0|                177141|        3642188|0.04863587491914201|0.19326102296848066|[2.0,1.0,1.0,0.5,...|\n",
      "|     1|           0|              1|             0.0|             2|             2|        7.0|              6.0|              6.0|              6.0|           6.0|           12.0|0.024390243902439025|                0.0|                  2|           41|        35|           4|          10.25|1.1714285714285715|0.8536585365853658|            6|              35|0.14634146341463414|3.5357142857142856|               6.0|               2.0|2.5853658536585367|       13.268292682926829|                   4|                  20.0|               43|                  71|0.37719298245614036|             71|          114| 0.6228070175438597| 9.063063063063064|               0.0|              30.0|                 54202|         234065|0.23156815414521606|0.39123886339864367|[1.0,0.0,1.0,0.0,...|\n",
      "|     1|           0|              1|             0.0|             3|             3|        5.0|              3.0|              3.0|              3.0|           2.0|           14.0|0.024390243902439025|                0.0|                  1|           41|        35|           4|          10.25|1.1714285714285715|0.8536585365853658|            6|              35|0.14634146341463414|3.5357142857142856|               6.0|               2.0|2.5853658536585367|       13.268292682926829|                   4|                  20.0|              122|                 384|0.24110671936758893|            384|          506|  0.758893280632411|11.146808510638298|               0.0|              30.0|                  6631|          15901|  0.417017797622791|   0.34187548300962|[1.0,0.0,1.0,0.0,...|\n",
      "|     2|           1|              1|             0.5|             4|             1|        4.5|              2.0|              2.0|              2.0|           2.0|           13.0| 0.04878048780487805|0.16666666666666666|                  0|           41|        35|           4|          10.25|1.1714285714285715|0.8536585365853658|            6|              35|0.14634146341463414|3.5357142857142856|               6.0|               2.0|2.5853658536585367|       13.268292682926829|                   4|                  20.0|            58513|               17373| 0.7710644914740532|          17373|        75886|0.22893550852594682|11.459154969000602|               0.0|              30.0|                 99755|         841533|0.11853961757887094|0.11039589094707589|[2.0,1.0,1.0,0.5,...|\n",
      "|     1|           0|              1|             0.0|             4|             4|        9.0|              2.0|              2.0|              2.0|           4.0|           11.0|0.024390243902439025|                0.0|                  0|           41|        35|           4|          10.25|1.1714285714285715|0.8536585365853658|            6|              35|0.14634146341463414|3.5357142857142856|               6.0|               2.0|2.5853658536585367|       13.268292682926829|                   4|                  20.0|           205845|               58838| 0.7777038948477991|          58838|       264683|0.22229610515220094| 10.03712850345864|               0.0|              30.0|                177141|        3642188|0.04863587491914201|0.17366023023305893|[1.0,0.0,1.0,0.0,...|\n",
      "|     1|           0|              1|             0.0|             4|             4|        2.0|              2.0|              2.0|              2.0|           4.0|           11.0|0.024390243902439025|                0.0|                  0|           41|        35|           4|          10.25|1.1714285714285715|0.8536585365853658|            6|              35|0.14634146341463414|3.5357142857142856|               6.0|               2.0|2.5853658536585367|       13.268292682926829|                   4|                  20.0|            43103|               26421| 0.6199729589781946|          26421|        69524| 0.3800270410218054| 10.50425033879512|               0.0|              30.0|                 76738|         377741| 0.2031497772283125| 0.1768772637934929|[1.0,0.0,1.0,0.0,...|\n",
      "|     1|           0|              1|             0.0|             2|             2|        6.0|              6.0|              6.0|              6.0|           6.0|           12.0|0.024390243902439025|                0.0|                  2|           41|        35|           4|          10.25|1.1714285714285715|0.8536585365853658|            6|              35|0.14634146341463414|3.5357142857142856|               6.0|               2.0|2.5853658536585367|       13.268292682926829|                   4|                  20.0|               35|                  77|             0.3125|             77|          112|             0.6875|10.548076923076923|               1.0|              30.0|                 54202|         234065|0.23156815414521606|0.45593184585478397|[1.0,0.0,1.0,0.0,...|\n",
      "|     1|           0|              1|             0.0|             4|             4|        5.0|              2.0|              2.0|              2.0|           4.0|           11.0|0.024390243902439025|                0.0|                  0|           41|        35|           4|          10.25|1.1714285714285715|0.8536585365853658|            6|              35|0.14634146341463414|3.5357142857142856|               6.0|               2.0|2.5853658536585367|       13.268292682926829|                   4|                  20.0|             5869|                4491| 0.5665057915057915|           4491|        10360| 0.4334942084942085| 10.00725526262007|               0.0|              30.0|                 76177|         306487|0.24854887809270867|0.18494533040149982|[1.0,0.0,1.0,0.0,...|\n",
      "|     1|           0|              1|             0.0|             3|             3|       11.0|              3.0|              3.0|              3.0|           2.0|           14.0|0.024390243902439025|                0.0|                  1|           41|        35|           4|          10.25|1.1714285714285715|0.8536585365853658|            6|              35|0.14634146341463414|3.5357142857142856|               6.0|               2.0|2.5853658536585367|       13.268292682926829|                   4|                  20.0|            11164|                5686| 0.6625519287833828|           5686|        16850| 0.3374480712166172|10.718476903870162|               0.0|              30.0|                 41929|         175757| 0.2385623332214364|0.09888573799518077|[1.0,0.0,1.0,0.0,...|\n",
      "+------+------------+---------------+----------------+--------------+--------------+-----------+-----------------+-----------------+-----------------+--------------+---------------+--------------------+-------------------+-------------------+-------------+----------+------------+---------------+------------------+------------------+-------------+----------------+-------------------+------------------+------------------+------------------+------------------+-------------------------+--------------------+----------------------+-----------------+--------------------+-------------------+---------------+-------------+-------------------+------------------+------------------+------------------+----------------------+---------------+-------------------+-------------------+--------------------+\n",
      "only showing top 10 rows\n",
      "\n"
     ]
    },
    {
     "name": "stderr",
     "output_type": "stream",
     "text": [
      "23/06/16 05:52:27 WARN DAGScheduler: Broadcasting large task binary with size 1226.4 KiB\n"
     ]
    },
    {
     "name": "stdout",
     "output_type": "stream",
     "text": [
      "+------+------------+---------------+----------------+--------------+--------------+-----------+-----------------+-----------------+-----------------+--------------+---------------+--------------------+-------------------+-------------------+-------------+----------+------------+---------------+------------------+------------------+-------------+----------------+-------------------+------------------+------------------+------------------+------------------+-------------------------+--------------------+----------------------+-----------------+--------------------+-------------------+---------------+-------------+-------------------+------------------+------------------+------------------+----------------------+---------------+-------------------+-------------------+--------------------+--------------------+--------------------+----------+\n",
      "|up_cnt|up_reord_cnt|up_no_reord_cnt|up_reordered_avg|up_max_ord_num|up_min_ord_num|up_avg_cart|up_avg_prior_days|up_max_prior_days|up_min_prior_days|up_avg_ord_dow|up_avg_ord_hour|        up_usr_ratio| up_usr_reord_ratio|up_usr_ord_num_diff|usr_total_cnt|prd_uq_cnt|order_uq_cnt|usr_avg_prd_cnt|usr_avg_uq_prd_cnt|  usr_uq_prd_ratio|usr_reord_cnt|usr_no_reord_cnt|  usr_reordered_avg|usr_avg_prior_days|usr_max_prior_days|usr_min_prior_days| usr_avg_order_dow|usr_avg_order_hour_of_day|usr_max_order_number|days_since_prior_order|prd_reordered_cnt|prd_no_reordered_cnt|  prd_avg_reordered|prd_unq_usr_cnt|prd_total_cnt|      prd_usr_ratio|prd_avg_prior_days|prd_min_prior_days|prd_max_prior_days|aisle_distinct_usr_cnt|aisle_total_cnt|    aisle_usr_ratio|     usr_ratio_diff|            features|       rawPrediction|         probability|prediction|\n",
      "+------+------------+---------------+----------------+--------------+--------------+-----------+-----------------+-----------------+-----------------+--------------+---------------+--------------------+-------------------+-------------------+-------------+----------+------------+---------------+------------------+------------------+-------------+----------------+-------------------+------------------+------------------+------------------+------------------+-------------------------+--------------------+----------------------+-----------------+--------------------+-------------------+---------------+-------------+-------------------+------------------+------------------+------------------+----------------------+---------------+-------------------+-------------------+--------------------+--------------------+--------------------+----------+\n",
      "|     1|           0|              1|             0.0|             1|             1|        4.0|              0.0|              0.0|              0.0|           0.0|           15.0|0.024390243902439025|                0.0|                  3|           41|        35|           4|          10.25|1.1714285714285715|0.8536585365853658|            6|              35|0.14634146341463414|3.5357142857142856|               6.0|               2.0|2.5853658536585367|       13.268292682926829|                   4|                  20.0|            23537|               12650| 0.6504269489043026|          12650|        36187|0.34957305109569736|10.780686720642988|               0.0|              30.0|                177141|        3642188|0.04863587491914201|0.30093717617655535|[1.0,0.0,1.0,0.0,...|[2.01674136083444...|[0.88254363825497...|       0.0|\n",
      "|     2|           1|              1|             0.5|             4|             1|        3.0|              2.0|              2.0|              2.0|           2.0|           13.0| 0.04878048780487805|0.16666666666666666|                  0|           41|        35|           4|          10.25|1.1714285714285715|0.8536585365853658|            6|              35|0.14634146341463414|3.5357142857142856|               6.0|               2.0|2.5853658536585367|       13.268292682926829|                   4|                  20.0|           134044|               42771| 0.7581031021123773|          42771|       176815|0.24189689788762267|11.198919741628925|               0.0|              30.0|                177141|        3642188|0.04863587491914201|0.19326102296848066|[2.0,1.0,1.0,0.5,...|[0.31395106406918...|[0.57784937692095...|       0.0|\n",
      "|     1|           0|              1|             0.0|             2|             2|        7.0|              6.0|              6.0|              6.0|           6.0|           12.0|0.024390243902439025|                0.0|                  2|           41|        35|           4|          10.25|1.1714285714285715|0.8536585365853658|            6|              35|0.14634146341463414|3.5357142857142856|               6.0|               2.0|2.5853658536585367|       13.268292682926829|                   4|                  20.0|               43|                  71|0.37719298245614036|             71|          114| 0.6228070175438597| 9.063063063063064|               0.0|              30.0|                 54202|         234065|0.23156815414521606|0.39123886339864367|[1.0,0.0,1.0,0.0,...|[3.00492322672273...|[0.95279604684705...|       0.0|\n",
      "|     1|           0|              1|             0.0|             3|             3|        5.0|              3.0|              3.0|              3.0|           2.0|           14.0|0.024390243902439025|                0.0|                  1|           41|        35|           4|          10.25|1.1714285714285715|0.8536585365853658|            6|              35|0.14634146341463414|3.5357142857142856|               6.0|               2.0|2.5853658536585367|       13.268292682926829|                   4|                  20.0|              122|                 384|0.24110671936758893|            384|          506|  0.758893280632411|11.146808510638298|               0.0|              30.0|                  6631|          15901|  0.417017797622791|   0.34187548300962|[1.0,0.0,1.0,0.0,...|[3.58539878804856...|[0.97302236263563...|       0.0|\n",
      "|     2|           1|              1|             0.5|             4|             1|        4.5|              2.0|              2.0|              2.0|           2.0|           13.0| 0.04878048780487805|0.16666666666666666|                  0|           41|        35|           4|          10.25|1.1714285714285715|0.8536585365853658|            6|              35|0.14634146341463414|3.5357142857142856|               6.0|               2.0|2.5853658536585367|       13.268292682926829|                   4|                  20.0|            58513|               17373| 0.7710644914740532|          17373|        75886|0.22893550852594682|11.459154969000602|               0.0|              30.0|                 99755|         841533|0.11853961757887094|0.11039589094707589|[2.0,1.0,1.0,0.5,...|[0.44257056412160...|[0.60887137397560...|       0.0|\n",
      "|     1|           0|              1|             0.0|             4|             4|        9.0|              2.0|              2.0|              2.0|           4.0|           11.0|0.024390243902439025|                0.0|                  0|           41|        35|           4|          10.25|1.1714285714285715|0.8536585365853658|            6|              35|0.14634146341463414|3.5357142857142856|               6.0|               2.0|2.5853658536585367|       13.268292682926829|                   4|                  20.0|           205845|               58838| 0.7777038948477991|          58838|       264683|0.22229610515220094| 10.03712850345864|               0.0|              30.0|                177141|        3642188|0.04863587491914201|0.17366023023305893|[1.0,0.0,1.0,0.0,...|[1.30277722705148...|[0.78630201476418...|       0.0|\n",
      "|     1|           0|              1|             0.0|             4|             4|        2.0|              2.0|              2.0|              2.0|           4.0|           11.0|0.024390243902439025|                0.0|                  0|           41|        35|           4|          10.25|1.1714285714285715|0.8536585365853658|            6|              35|0.14634146341463414|3.5357142857142856|               6.0|               2.0|2.5853658536585367|       13.268292682926829|                   4|                  20.0|            43103|               26421| 0.6199729589781946|          26421|        69524| 0.3800270410218054| 10.50425033879512|               0.0|              30.0|                 76738|         377741| 0.2031497772283125| 0.1768772637934929|[1.0,0.0,1.0,0.0,...|[1.97258707103286...|[0.87788871873172...|       0.0|\n",
      "|     1|           0|              1|             0.0|             2|             2|        6.0|              6.0|              6.0|              6.0|           6.0|           12.0|0.024390243902439025|                0.0|                  2|           41|        35|           4|          10.25|1.1714285714285715|0.8536585365853658|            6|              35|0.14634146341463414|3.5357142857142856|               6.0|               2.0|2.5853658536585367|       13.268292682926829|                   4|                  20.0|               35|                  77|             0.3125|             77|          112|             0.6875|10.548076923076923|               1.0|              30.0|                 54202|         234065|0.23156815414521606|0.45593184585478397|[1.0,0.0,1.0,0.0,...|[3.07513619944458...|[0.95585540684953...|       0.0|\n",
      "|     1|           0|              1|             0.0|             4|             4|        5.0|              2.0|              2.0|              2.0|           4.0|           11.0|0.024390243902439025|                0.0|                  0|           41|        35|           4|          10.25|1.1714285714285715|0.8536585365853658|            6|              35|0.14634146341463414|3.5357142857142856|               6.0|               2.0|2.5853658536585367|       13.268292682926829|                   4|                  20.0|             5869|                4491| 0.5665057915057915|           4491|        10360| 0.4334942084942085| 10.00725526262007|               0.0|              30.0|                 76177|         306487|0.24854887809270867|0.18494533040149982|[1.0,0.0,1.0,0.0,...|[2.43417952512956...|[0.91939680542843...|       0.0|\n",
      "|     1|           0|              1|             0.0|             3|             3|       11.0|              3.0|              3.0|              3.0|           2.0|           14.0|0.024390243902439025|                0.0|                  1|           41|        35|           4|          10.25|1.1714285714285715|0.8536585365853658|            6|              35|0.14634146341463414|3.5357142857142856|               6.0|               2.0|2.5853658536585367|       13.268292682926829|                   4|                  20.0|            11164|                5686| 0.6625519287833828|           5686|        16850| 0.3374480712166172|10.718476903870162|               0.0|              30.0|                 41929|         175757| 0.2385623332214364|0.09888573799518077|[1.0,0.0,1.0,0.0,...|[1.92297428301251...|[0.87246973791470...|       0.0|\n",
      "+------+------------+---------------+----------------+--------------+--------------+-----------+-----------------+-----------------+-----------------+--------------+---------------+--------------------+-------------------+-------------------+-------------+----------+------------+---------------+------------------+------------------+-------------+----------------+-------------------+------------------+------------------+------------------+------------------+-------------------------+--------------------+----------------------+-----------------+--------------------+-------------------+---------------+-------------+-------------------+------------------+------------------+------------------+----------------------+---------------+-------------------+-------------------+--------------------+--------------------+--------------------+----------+\n",
      "only showing top 10 rows\n",
      "\n"
     ]
    }
   ],
   "source": [
    "test_sdf_vectorized = vector_assembler.transform(test_sdf)\n",
    "test_sdf_vectorized.show(10)\n",
    "predictions = lgbm_model.transform(test_sdf_vectorized)\n",
    "predictions.show(10)"
   ]
  },
  {
   "cell_type": "code",
   "execution_count": 44,
   "metadata": {},
   "outputs": [],
   "source": [
    "def make_predictions_with_ids(predictions, sdf_id):\n",
    "    sdf_ids_with_row_id = sdf_id.withColumn('row_id', F.monotonically_increasing_id())\n",
    "    predictions_with_row_id = predictions.withColumn('row_id', F.monotonically_increasing_id())\n",
    "    return sdf_ids_with_row_id.join(predictions_with_row_id, 'row_id').drop('row_id')"
   ]
  },
  {
   "cell_type": "code",
   "execution_count": 45,
   "metadata": {},
   "outputs": [
    {
     "name": "stderr",
     "output_type": "stream",
     "text": [
      "23/06/16 05:56:06 WARN DAGScheduler: Broadcasting large task binary with size 1236.8 KiB\n",
      "23/06/16 05:56:29 WARN DAGScheduler: Broadcasting large task binary with size 1259.0 KiB\n"
     ]
    },
    {
     "name": "stdout",
     "output_type": "stream",
     "text": [
      "+-------+----------+--------+------+------------+---------------+----------------+--------------+--------------+-----------+-----------------+-----------------+-----------------+--------------+---------------+--------------------+--------------------+-------------------+-------------+----------+------------+------------------+------------------+------------------+-------------+----------------+-------------------+------------------+------------------+------------------+------------------+-------------------------+--------------------+----------------------+-----------------+--------------------+-------------------+---------------+-------------+-------------------+------------------+------------------+------------------+----------------------+---------------+-------------------+--------------------+--------------------+--------------------+--------------------+----------+\n",
      "|user_id|product_id|order_id|up_cnt|up_reord_cnt|up_no_reord_cnt|up_reordered_avg|up_max_ord_num|up_min_ord_num|up_avg_cart|up_avg_prior_days|up_max_prior_days|up_min_prior_days|up_avg_ord_dow|up_avg_ord_hour|        up_usr_ratio|  up_usr_reord_ratio|up_usr_ord_num_diff|usr_total_cnt|prd_uq_cnt|order_uq_cnt|   usr_avg_prd_cnt|usr_avg_uq_prd_cnt|  usr_uq_prd_ratio|usr_reord_cnt|usr_no_reord_cnt|  usr_reordered_avg|usr_avg_prior_days|usr_max_prior_days|usr_min_prior_days| usr_avg_order_dow|usr_avg_order_hour_of_day|usr_max_order_number|days_since_prior_order|prd_reordered_cnt|prd_no_reordered_cnt|  prd_avg_reordered|prd_unq_usr_cnt|prd_total_cnt|      prd_usr_ratio|prd_avg_prior_days|prd_min_prior_days|prd_max_prior_days|aisle_distinct_usr_cnt|aisle_total_cnt|    aisle_usr_ratio|      usr_ratio_diff|            features|       rawPrediction|         probability|prediction|\n",
      "+-------+----------+--------+------+------------+---------------+----------------+--------------+--------------+-----------+-----------------+-----------------+-----------------+--------------+---------------+--------------------+--------------------+-------------------+-------------+----------+------------+------------------+------------------+------------------+-------------+----------------+-------------------+------------------+------------------+------------------+------------------+-------------------------+--------------------+----------------------+-----------------+--------------------+-------------------+---------------+-------------+-------------------+------------------+------------------+------------------+----------------------+---------------+-------------------+--------------------+--------------------+--------------------+--------------------+----------+\n",
      "|    141|      9387|  726111|     1|           0|              1|             0.0|             1|             1|        4.0|              0.0|              0.0|              0.0|           0.0|           15.0|0.024390243902439025|                 0.0|                  3|           41|        35|           4|             10.25|1.1714285714285715|0.8536585365853658|            6|              35|0.14634146341463414|3.5357142857142856|               6.0|               2.0|2.5853658536585367|       13.268292682926829|                   4|                  20.0|            23537|               12650| 0.6504269489043026|          12650|        36187|0.34957305109569736|10.780686720642988|               0.0|              30.0|                177141|        3642188|0.04863587491914201| 0.30093717617655535|[1.0,0.0,1.0,0.0,...|[2.01674136083444...|[0.88254363825497...|       0.0|\n",
      "|    141|     17454|  726111|     1|           0|              1|             0.0|             1|             1|        8.0|              0.0|              0.0|              0.0|           0.0|           15.0|0.024390243902439025|                 0.0|                  3|           41|        35|           4|             10.25|1.1714285714285715|0.8536585365853658|            6|              35|0.14634146341463414|3.5357142857142856|               6.0|               2.0|2.5853658536585367|       13.268292682926829|                   4|                  20.0|             2017|                1324| 0.6037114636336426|           1324|         3341|0.39628853636635736|  9.24178917735377|               0.0|              30.0|                 14068|          33865| 0.4154141443968699|-0.01912560803051...|[1.0,0.0,1.0,0.0,...|[2.30403928744548...|[0.90921101897626...|       0.0|\n",
      "|    141|     26209|  726111|     1|           0|              1|             0.0|             4|             4|        3.0|              2.0|              2.0|              2.0|           4.0|           11.0|0.024390243902439025|                 0.0|                  0|           41|        35|           4|             10.25|1.1714285714285715|0.8536585365853658|            6|              35|0.14634146341463414|3.5357142857142856|               6.0|               2.0|2.5853658536585367|       13.268292682926829|                   4|                  20.0|            95768|               44859| 0.6810072034531064|          44859|       140627|0.31899279654689355|11.135485385786456|               0.0|              30.0|                177141|        3642188|0.04863587491914201| 0.27035692162775155|[1.0,0.0,1.0,0.0,...|[1.69621619931555...|[0.84503990243098...|       0.0|\n",
      "|    141|     13176|  726111|     2|           1|              1|             0.5|             4|             1|        4.5|              2.0|              2.0|              2.0|           2.0|           13.0| 0.04878048780487805| 0.16666666666666666|                  0|           41|        35|           4|             10.25|1.1714285714285715|0.8536585365853658|            6|              35|0.14634146341463414|3.5357142857142856|               6.0|               2.0|2.5853658536585367|       13.268292682926829|                   4|                  20.0|           315913|               63537|  0.832555013835815|          63537|       379450|0.16744498616418502| 10.06454486916168|               0.0|              30.0|                177141|        3642188|0.04863587491914201| 0.11880911124504301|[2.0,1.0,1.0,0.5,...|[0.25447197951816...|[0.56327689966053...|       0.0|\n",
      "|    151|      8414| 1855063|     2|           1|              1|             0.5|            11|             7|       13.5|              2.0|              2.0|              2.0|           2.0|           17.5|0.012195121951219513|0.022727272727272728|                  0|          164|       120|          11|14.909090909090908|1.3666666666666667|0.7317073170731707|           44|             120| 0.2682926829268293| 5.859060402684563|              25.0|               2.0|2.4146341463414633|       15.463414634146341|                  11|                  11.0|             1384|                 812| 0.6302367941712204|            812|         2196| 0.3697632058287796|10.238598175708113|               0.0|              30.0|                  9056|          20931| 0.4326596913668721|-0.06289648553809252|[2.0,1.0,1.0,0.5,...|[1.85816128906428...|[0.86508248733418...|       0.0|\n",
      "|    151|     34658| 1855063|     1|           0|              1|             0.0|             9|             9|        3.0|              3.0|              3.0|              3.0|           2.0|           17.0|0.006097560975609756|                 0.0|                  2|          164|       120|          11|14.909090909090908|1.3666666666666667|0.7317073170731707|           44|             120| 0.2682926829268293| 5.859060402684563|              25.0|               2.0|2.4146341463414633|       15.463414634146341|                  11|                  11.0|             2623|                1085| 0.7073894282632147|           1085|         3708|0.29261057173678534|10.519613416714042|               0.0|              30.0|                 60265|         242996| 0.2480081976658052| 0.04460237407098014|[1.0,0.0,1.0,0.0,...|[2.41898766442848...|[0.91826379545487...|       0.0|\n",
      "|    200|     15386| 2986791|     4|           3|              1|            0.75|             8|             5|      11.75|             24.5|             30.0|             17.0|           3.5|          15.25|0.023255813953488372| 0.03571428571428571|                  1|          172|        88|           9| 19.11111111111111|1.9545454545454546|0.5116279069767442|           84|              88| 0.4883720930232558| 21.78048780487805|              30.0|               6.0| 3.116279069767442|       14.034883720930232|                   9|                  30.0|             3040|                1548| 0.6625980819529207|           1548|         4588|0.33740191804707936|12.711984841307437|               0.0|              30.0|                111930|         722470| 0.1549268481736266| 0.18247506987345277|[4.0,3.0,1.0,0.75...|[0.72492129492388...|[0.67368979780823...|       0.0|\n",
      "|    200|     42557| 2986791|     1|           0|              1|             0.0|             3|             3|        6.0|              6.0|              6.0|              6.0|           2.0|           13.0|0.005813953488372093|                 0.0|                  6|          172|        88|           9| 19.11111111111111|1.9545454545454546|0.5116279069767442|           84|              88| 0.4883720930232558| 21.78048780487805|              30.0|               6.0| 3.116279069767442|       14.034883720930232|                   9|                  30.0|             4759|                3565|  0.571720326765978|           3565|         8324| 0.4282796732340221|11.027511196417146|               0.0|              30.0|                 81973|         289400|0.28325155494125775| 0.14502811829276435|[1.0,0.0,1.0,0.0,...|[3.06877059129057...|[0.95558602382997...|       0.0|\n",
      "|    200|     16521| 2986791|     4|           3|              1|            0.75|             6|             1|        5.5|             11.0|             21.0|              6.0|           3.5|          11.75|0.023255813953488372| 0.03571428571428571|                  3|          172|        88|           9| 19.11111111111111|1.9545454545454546|0.5116279069767442|           84|              88| 0.4883720930232558| 21.78048780487805|              30.0|               6.0| 3.116279069767442|       14.034883720930232|                   9|                  30.0|             5240|                5291|0.49757857753299783|           5291|        10531| 0.5024214224670022|10.177414440946482|               0.0|              30.0|                 76177|         306487|0.24854887809270867|  0.2538725443742935|[4.0,3.0,1.0,0.75...|[1.80587037032674...|[0.85886203010016...|       0.0|\n",
      "|    221|     39877| 2088686|    10|           9|              1|             0.9|            23|             8|        6.9|             14.2|             22.0|              7.0|           3.0|           16.1| 0.04329004329004329| 0.05357142857142857|                  0|          231|        63|          23|10.043478260869565|3.6666666666666665|0.2727272727272727|          168|              63| 0.7272727272727273|12.247706422018348|              22.0|               2.0|2.4761904761904763|       15.632034632034632|                  23|                  15.0|            41566|               17213|  0.707157318089794|          17213|        58779|  0.292842681910206|  9.76983029541169|               0.0|              30.0|                177141|        3642188|0.04863587491914201|   0.244206806991064|[10.0,9.0,1.0,0.9...|[-0.4639181409525...|[0.38605674450812...|       1.0|\n",
      "+-------+----------+--------+------+------------+---------------+----------------+--------------+--------------+-----------+-----------------+-----------------+-----------------+--------------+---------------+--------------------+--------------------+-------------------+-------------+----------+------------+------------------+------------------+------------------+-------------+----------------+-------------------+------------------+------------------+------------------+------------------+-------------------------+--------------------+----------------------+-----------------+--------------------+-------------------+---------------+-------------+-------------------+------------------+------------------+------------------+----------------------+---------------+-------------------+--------------------+--------------------+--------------------+--------------------+----------+\n",
      "only showing top 10 rows\n",
      "\n"
     ]
    },
    {
     "name": "stderr",
     "output_type": "stream",
     "text": [
      "                                                                                \r"
     ]
    }
   ],
   "source": [
    "predictions = make_predictions_with_ids(predictions, test_sdf_id)\n",
    "predictions.show(10)"
   ]
  },
  {
   "cell_type": "code",
   "execution_count": 46,
   "metadata": {},
   "outputs": [],
   "source": [
    "from pyspark.ml.functions import vector_to_array\n",
    "\n",
    "def make_reordered_with_threshold(predictions, threshold=0.21):\n",
    "    predictions = predictions.withColumn('probability_arr', vector_to_array('probability')) \\\n",
    "                                .withColumn('1_proba', F.col('probability_arr')[1]) \\\n",
    "                                .withColumn('reordered', (F.col('1_proba') > threshold).cast('int'))\n",
    "    return predictions\n"
   ]
  },
  {
   "cell_type": "code",
   "execution_count": 47,
   "metadata": {},
   "outputs": [
    {
     "name": "stderr",
     "output_type": "stream",
     "text": [
      "23/06/16 06:00:32 WARN DAGScheduler: Broadcasting large task binary with size 1236.8 KiB\n",
      "23/06/16 06:00:51 WARN DAGScheduler: Broadcasting large task binary with size 1276.7 KiB\n"
     ]
    },
    {
     "name": "stdout",
     "output_type": "stream",
     "text": [
      "+-------+----------+--------+------+------------+---------------+----------------+--------------+--------------+-----------+-----------------+-----------------+-----------------+--------------+---------------+--------------------+--------------------+-------------------+-------------+----------+------------+------------------+------------------+------------------+-------------+----------------+-------------------+------------------+------------------+------------------+------------------+-------------------------+--------------------+----------------------+-----------------+--------------------+-------------------+---------------+-------------+-------------------+------------------+------------------+------------------+----------------------+---------------+-------------------+--------------------+--------------------+--------------------+--------------------+----------+--------------------+-------------------+---------+\n",
      "|user_id|product_id|order_id|up_cnt|up_reord_cnt|up_no_reord_cnt|up_reordered_avg|up_max_ord_num|up_min_ord_num|up_avg_cart|up_avg_prior_days|up_max_prior_days|up_min_prior_days|up_avg_ord_dow|up_avg_ord_hour|        up_usr_ratio|  up_usr_reord_ratio|up_usr_ord_num_diff|usr_total_cnt|prd_uq_cnt|order_uq_cnt|   usr_avg_prd_cnt|usr_avg_uq_prd_cnt|  usr_uq_prd_ratio|usr_reord_cnt|usr_no_reord_cnt|  usr_reordered_avg|usr_avg_prior_days|usr_max_prior_days|usr_min_prior_days| usr_avg_order_dow|usr_avg_order_hour_of_day|usr_max_order_number|days_since_prior_order|prd_reordered_cnt|prd_no_reordered_cnt|  prd_avg_reordered|prd_unq_usr_cnt|prd_total_cnt|      prd_usr_ratio|prd_avg_prior_days|prd_min_prior_days|prd_max_prior_days|aisle_distinct_usr_cnt|aisle_total_cnt|    aisle_usr_ratio|      usr_ratio_diff|            features|       rawPrediction|         probability|prediction|     probability_arr|            1_proba|reordered|\n",
      "+-------+----------+--------+------+------------+---------------+----------------+--------------+--------------+-----------+-----------------+-----------------+-----------------+--------------+---------------+--------------------+--------------------+-------------------+-------------+----------+------------+------------------+------------------+------------------+-------------+----------------+-------------------+------------------+------------------+------------------+------------------+-------------------------+--------------------+----------------------+-----------------+--------------------+-------------------+---------------+-------------+-------------------+------------------+------------------+------------------+----------------------+---------------+-------------------+--------------------+--------------------+--------------------+--------------------+----------+--------------------+-------------------+---------+\n",
      "|    141|      9387|  726111|     1|           0|              1|             0.0|             1|             1|        4.0|              0.0|              0.0|              0.0|           0.0|           15.0|0.024390243902439025|                 0.0|                  3|           41|        35|           4|             10.25|1.1714285714285715|0.8536585365853658|            6|              35|0.14634146341463414|3.5357142857142856|               6.0|               2.0|2.5853658536585367|       13.268292682926829|                   4|                  20.0|            23537|               12650| 0.6504269489043026|          12650|        36187|0.34957305109569736|10.780686720642988|               0.0|              30.0|                177141|        3642188|0.04863587491914201| 0.30093717617655535|[1.0,0.0,1.0,0.0,...|[2.01674136083444...|[0.88254363825497...|       0.0|[0.88254363825497...|0.11745636174502372|        0|\n",
      "|    141|     17454|  726111|     1|           0|              1|             0.0|             1|             1|        8.0|              0.0|              0.0|              0.0|           0.0|           15.0|0.024390243902439025|                 0.0|                  3|           41|        35|           4|             10.25|1.1714285714285715|0.8536585365853658|            6|              35|0.14634146341463414|3.5357142857142856|               6.0|               2.0|2.5853658536585367|       13.268292682926829|                   4|                  20.0|             2017|                1324| 0.6037114636336426|           1324|         3341|0.39628853636635736|  9.24178917735377|               0.0|              30.0|                 14068|          33865| 0.4154141443968699|-0.01912560803051...|[1.0,0.0,1.0,0.0,...|[2.30403928744548...|[0.90921101897626...|       0.0|[0.90921101897626...|0.09078898102373223|        0|\n",
      "|    141|     26209|  726111|     1|           0|              1|             0.0|             4|             4|        3.0|              2.0|              2.0|              2.0|           4.0|           11.0|0.024390243902439025|                 0.0|                  0|           41|        35|           4|             10.25|1.1714285714285715|0.8536585365853658|            6|              35|0.14634146341463414|3.5357142857142856|               6.0|               2.0|2.5853658536585367|       13.268292682926829|                   4|                  20.0|            95768|               44859| 0.6810072034531064|          44859|       140627|0.31899279654689355|11.135485385786456|               0.0|              30.0|                177141|        3642188|0.04863587491914201| 0.27035692162775155|[1.0,0.0,1.0,0.0,...|[1.69621619931555...|[0.84503990243098...|       0.0|[0.84503990243098...|0.15496009756901152|        0|\n",
      "|    141|     13176|  726111|     2|           1|              1|             0.5|             4|             1|        4.5|              2.0|              2.0|              2.0|           2.0|           13.0| 0.04878048780487805| 0.16666666666666666|                  0|           41|        35|           4|             10.25|1.1714285714285715|0.8536585365853658|            6|              35|0.14634146341463414|3.5357142857142856|               6.0|               2.0|2.5853658536585367|       13.268292682926829|                   4|                  20.0|           315913|               63537|  0.832555013835815|          63537|       379450|0.16744498616418502| 10.06454486916168|               0.0|              30.0|                177141|        3642188|0.04863587491914201| 0.11880911124504301|[2.0,1.0,1.0,0.5,...|[0.25447197951816...|[0.56327689966053...|       0.0|[0.56327689966053...|0.43672310033946743|        1|\n",
      "|    151|      8414| 1855063|     2|           1|              1|             0.5|            11|             7|       13.5|              2.0|              2.0|              2.0|           2.0|           17.5|0.012195121951219513|0.022727272727272728|                  0|          164|       120|          11|14.909090909090908|1.3666666666666667|0.7317073170731707|           44|             120| 0.2682926829268293| 5.859060402684563|              25.0|               2.0|2.4146341463414633|       15.463414634146341|                  11|                  11.0|             1384|                 812| 0.6302367941712204|            812|         2196| 0.3697632058287796|10.238598175708113|               0.0|              30.0|                  9056|          20931| 0.4326596913668721|-0.06289648553809252|[2.0,1.0,1.0,0.5,...|[1.85816128906428...|[0.86508248733418...|       0.0|[0.86508248733418...| 0.1349175126658111|        0|\n",
      "|    151|     34658| 1855063|     1|           0|              1|             0.0|             9|             9|        3.0|              3.0|              3.0|              3.0|           2.0|           17.0|0.006097560975609756|                 0.0|                  2|          164|       120|          11|14.909090909090908|1.3666666666666667|0.7317073170731707|           44|             120| 0.2682926829268293| 5.859060402684563|              25.0|               2.0|2.4146341463414633|       15.463414634146341|                  11|                  11.0|             2623|                1085| 0.7073894282632147|           1085|         3708|0.29261057173678534|10.519613416714042|               0.0|              30.0|                 60265|         242996| 0.2480081976658052| 0.04460237407098014|[1.0,0.0,1.0,0.0,...|[2.41898766442848...|[0.91826379545487...|       0.0|[0.91826379545487...| 0.0817362045451294|        0|\n",
      "|    200|     15386| 2986791|     4|           3|              1|            0.75|             8|             5|      11.75|             24.5|             30.0|             17.0|           3.5|          15.25|0.023255813953488372| 0.03571428571428571|                  1|          172|        88|           9| 19.11111111111111|1.9545454545454546|0.5116279069767442|           84|              88| 0.4883720930232558| 21.78048780487805|              30.0|               6.0| 3.116279069767442|       14.034883720930232|                   9|                  30.0|             3040|                1548| 0.6625980819529207|           1548|         4588|0.33740191804707936|12.711984841307437|               0.0|              30.0|                111930|         722470| 0.1549268481736266| 0.18247506987345277|[4.0,3.0,1.0,0.75...|[0.72492129492388...|[0.67368979780823...|       0.0|[0.67368979780823...|0.32631020219176443|        1|\n",
      "|    200|     42557| 2986791|     1|           0|              1|             0.0|             3|             3|        6.0|              6.0|              6.0|              6.0|           2.0|           13.0|0.005813953488372093|                 0.0|                  6|          172|        88|           9| 19.11111111111111|1.9545454545454546|0.5116279069767442|           84|              88| 0.4883720930232558| 21.78048780487805|              30.0|               6.0| 3.116279069767442|       14.034883720930232|                   9|                  30.0|             4759|                3565|  0.571720326765978|           3565|         8324| 0.4282796732340221|11.027511196417146|               0.0|              30.0|                 81973|         289400|0.28325155494125775| 0.14502811829276435|[1.0,0.0,1.0,0.0,...|[3.06877059129057...|[0.95558602382997...|       0.0|[0.95558602382997...|0.04441397617002423|        0|\n",
      "|    200|     16521| 2986791|     4|           3|              1|            0.75|             6|             1|        5.5|             11.0|             21.0|              6.0|           3.5|          11.75|0.023255813953488372| 0.03571428571428571|                  3|          172|        88|           9| 19.11111111111111|1.9545454545454546|0.5116279069767442|           84|              88| 0.4883720930232558| 21.78048780487805|              30.0|               6.0| 3.116279069767442|       14.034883720930232|                   9|                  30.0|             5240|                5291|0.49757857753299783|           5291|        10531| 0.5024214224670022|10.177414440946482|               0.0|              30.0|                 76177|         306487|0.24854887809270867|  0.2538725443742935|[4.0,3.0,1.0,0.75...|[1.80587037032674...|[0.85886203010016...|       0.0|[0.85886203010016...|0.14113796989983815|        0|\n",
      "|    221|     39877| 2088686|    10|           9|              1|             0.9|            23|             8|        6.9|             14.2|             22.0|              7.0|           3.0|           16.1| 0.04329004329004329| 0.05357142857142857|                  0|          231|        63|          23|10.043478260869565|3.6666666666666665|0.2727272727272727|          168|              63| 0.7272727272727273|12.247706422018348|              22.0|               2.0|2.4761904761904763|       15.632034632034632|                  23|                  15.0|            41566|               17213|  0.707157318089794|          17213|        58779|  0.292842681910206|  9.76983029541169|               0.0|              30.0|                177141|        3642188|0.04863587491914201|   0.244206806991064|[10.0,9.0,1.0,0.9...|[-0.4639181409525...|[0.38605674450812...|       1.0|[0.38605674450812...| 0.6139432554918733|        1|\n",
      "+-------+----------+--------+------+------------+---------------+----------------+--------------+--------------+-----------+-----------------+-----------------+-----------------+--------------+---------------+--------------------+--------------------+-------------------+-------------+----------+------------+------------------+------------------+------------------+-------------+----------------+-------------------+------------------+------------------+------------------+------------------+-------------------------+--------------------+----------------------+-----------------+--------------------+-------------------+---------------+-------------+-------------------+------------------+------------------+------------------+----------------------+---------------+-------------------+--------------------+--------------------+--------------------+--------------------+----------+--------------------+-------------------+---------+\n",
      "only showing top 10 rows\n",
      "\n"
     ]
    },
    {
     "name": "stderr",
     "output_type": "stream",
     "text": [
      "                                                                                \r"
     ]
    }
   ],
   "source": [
    "predictions = make_reordered_with_threshold(predictions)\n",
    "predictions.show(10)"
   ]
  },
  {
   "cell_type": "code",
   "execution_count": 56,
   "metadata": {},
   "outputs": [],
   "source": [
    "def make_submission(predictions):\n",
    "    predictions_grp = predictions.groupby('order_id').agg(\n",
    "        F.count('*').alias('total_cnt_by_order_id'),\n",
    "        F.sum(F.col('reordered')).alias('reordered_cnt')\n",
    "    )\n",
    "    udf_get_product_ids_str = F.udf(lambda product_id_group: ' '.join(map(str, product_id_group)))\n",
    "    submission_01 = predictions.filter(F.col('reordered') == 1).groupby('order_id').agg(\n",
    "        udf_get_product_ids_str(F.collect_list('product_id')).alias('products')\n",
    "    )\n",
    "    submission_02 = predictions_grp.filter(F.col('reordered_cnt') == 0)  \\\n",
    "                                    .withColumn('products', F.lit('None'))  \\\n",
    "                                    .select('order_id', 'products')\n",
    "    submission = submission_01.union(submission_02)\n",
    "    return submission"
   ]
  },
  {
   "cell_type": "code",
   "execution_count": 57,
   "metadata": {},
   "outputs": [
    {
     "name": "stderr",
     "output_type": "stream",
     "text": [
      "23/06/16 06:26:07 WARN DAGScheduler: Broadcasting large task binary with size 1216.7 KiB\n",
      "23/06/16 06:26:20 WARN DAGScheduler: Broadcasting large task binary with size 1210.8 KiB\n",
      "23/06/16 06:26:36 WARN DAGScheduler: Broadcasting large task binary with size 1200.7 KiB\n",
      "23/06/16 06:26:37 WARN DAGScheduler: Broadcasting large task binary with size 1222.2 KiB\n",
      "[Stage 85:=====================================================>  (24 + 1) / 25]\r"
     ]
    },
    {
     "name": "stdout",
     "output_type": "stream",
     "text": [
      "+--------+--------------------+\n",
      "|order_id|            products|\n",
      "+--------+--------------------+\n",
      "|      34|39180 39475 2596 ...|\n",
      "|     137|5134 2326 23794 2...|\n",
      "|     353|33000 21137 40688...|\n",
      "|     386|21479 42265 21903...|\n",
      "|     497|39947 31964 27275...|\n",
      "|     604|13176 19660 24852...|\n",
      "|     758|           651 19660|\n",
      "|    1304|42585 42265 24852...|\n",
      "|    1802|17830 31612 33043...|\n",
      "|    2247|33198 19125 13176...|\n",
      "+--------+--------------------+\n",
      "only showing top 10 rows\n",
      "\n"
     ]
    },
    {
     "name": "stderr",
     "output_type": "stream",
     "text": [
      "23/06/16 06:26:38 WARN DAGScheduler: Broadcasting large task binary with size 1282.7 KiB\n",
      "                                                                                \r"
     ]
    }
   ],
   "source": [
    "submission = make_submission(predictions)\n",
    "submission.show(10)"
   ]
  },
  {
   "cell_type": "code",
   "execution_count": 81,
   "metadata": {},
   "outputs": [
    {
     "name": "stderr",
     "output_type": "stream",
     "text": [
      "                                                                                \r"
     ]
    },
    {
     "name": "stdout",
     "output_type": "stream",
     "text": [
      "+------+------------+---------------+----------------+--------------+--------------+-----------+-----------------+-----------------+-----------------+--------------+---------------+--------------------+------------------+-------------------+-------------+----------+------------+------------------+------------------+-------------------+-------------+----------------+-------------------+------------------+------------------+------------------+------------------+-------------------------+--------------------+----------------------+-----------------+--------------------+------------------+---------------+-------------+-------------------+------------------+------------------+------------------+----------------------+---------------+-------------------+-------------------+---------+-----+\n",
      "|up_cnt|up_reord_cnt|up_no_reord_cnt|up_reordered_avg|up_max_ord_num|up_min_ord_num|up_avg_cart|up_avg_prior_days|up_max_prior_days|up_min_prior_days|up_avg_ord_dow|up_avg_ord_hour|        up_usr_ratio|up_usr_reord_ratio|up_usr_ord_num_diff|usr_total_cnt|prd_uq_cnt|order_uq_cnt|   usr_avg_prd_cnt|usr_avg_uq_prd_cnt|   usr_uq_prd_ratio|usr_reord_cnt|usr_no_reord_cnt|  usr_reordered_avg|usr_avg_prior_days|usr_max_prior_days|usr_min_prior_days| usr_avg_order_dow|usr_avg_order_hour_of_day|usr_max_order_number|days_since_prior_order|prd_reordered_cnt|prd_no_reordered_cnt| prd_avg_reordered|prd_unq_usr_cnt|prd_total_cnt|      prd_usr_ratio|prd_avg_prior_days|prd_min_prior_days|prd_max_prior_days|aisle_distinct_usr_cnt|aisle_total_cnt|    aisle_usr_ratio|     usr_ratio_diff|reordered|isVal|\n",
      "+------+------------+---------------+----------------+--------------+--------------+-----------+-----------------+-----------------+-----------------+--------------+---------------+--------------------+------------------+-------------------+-------------+----------+------------+------------------+------------------+-------------------+-------------+----------------+-------------------+------------------+------------------+------------------+------------------+-------------------------+--------------------+----------------------+-----------------+--------------------+------------------+---------------+-------------+-------------------+------------------+------------------+------------------+----------------------+---------------+-------------------+-------------------+---------+-----+\n",
      "|     1|           0|              1|             0.0|             1|             1|        1.0|              0.0|              0.0|              0.0|           0.0|            0.0|0.004694835680751174|               0.0|                 16|          213|       107|          17|12.529411764705882|1.9906542056074767| 0.5023474178403756|          106|             107|0.49765258215962443|14.603092783505154|              30.0|               2.0| 0.539906103286385|       13.873239436619718|                  17|                   6.0|             3442|                4080|0.4575910662057963|           4080|         7522| 0.5424089337942036|10.512551411147355|               0.0|              30.0|                 77939|         254317| 0.3064639799934727|0.23594495380073094|        0|false|\n",
      "|     1|           0|              1|             0.0|             1|             1|        1.0|              0.0|              0.0|              0.0|           0.0|            8.0|            0.015625|               0.0|                  4|           64|        37|           5|              12.8|1.7297297297297298|           0.578125|           27|              37|           0.421875|11.839285714285714|              30.0|               6.0|              0.25|                13.796875|                   5|                  23.0|             9276|               10571|0.4673754219781327|          10571|        19847| 0.5326245780218672| 10.61903996571306|               0.0|              30.0|                159213|        3418021|0.04658046278826256| 0.4860441152336047|        0|false|\n",
      "|     1|           0|              1|             0.0|             1|             1|        1.0|              0.0|              0.0|              0.0|           0.0|            9.0|0.005617977528089...|               0.0|                 11|          178|       125|          12|14.833333333333334|             1.424|  0.702247191011236|           53|             125|0.29775280898876405|12.157575757575758|              30.0|               0.0| 2.842696629213483|        13.44943820224719|                  12|                  17.0|               96|                  83|0.5363128491620112|             83|          179|0.46368715083798884|14.785276073619633|               0.0|              30.0|                  7970|          34303|0.23234119464769845|0.23134595619029039|        0|false|\n",
      "|     1|           0|              1|             0.0|             1|             1|        1.0|              0.0|              0.0|              0.0|           0.0|            9.0|                0.25|               0.0|                  2|            4|         4|           3|1.3333333333333333|               1.0|                1.0|            0|               4|                0.0|              30.0|              30.0|              30.0|               2.5|                    16.25|                   3|                  26.0|              836|                 988|0.4583333333333333|            988|         1824| 0.5416666666666666|13.951679434295816|               0.0|              30.0|                 44854|         163524| 0.2742961277855238| 0.2673705388811428|        0|false|\n",
      "|     1|           0|              1|             0.0|             1|             1|        1.0|              0.0|              0.0|              0.0|           0.0|           10.0| 0.00205761316872428|               0.0|                 42|          486|       137|          43| 11.30232558139535|3.5474452554744524|0.28189300411522633|          349|             137| 0.7181069958847737| 7.745263157894737|              30.0|               1.0|2.2448559670781894|       12.701646090534979|                  43|                   6.0|             3685|                1666|0.6886563259203887|           1666|         5351| 0.3113436740796113|10.542652614833964|               0.0|              30.0|                 75604|         333933|0.22640469794839085|0.08493897613122042|        0|false|\n",
      "|     1|           0|              1|             0.0|             1|             1|        1.0|              0.0|              0.0|              0.0|           0.0|           10.0| 0.01694915254237288|               0.0|                 19|           59|        15|          20|              2.95| 3.933333333333333| 0.2542372881355932|           44|              15| 0.7457627118644068| 17.45098039215686|              30.0|               0.0|2.3389830508474576|       10.186440677966102|                  20|                  19.0|             1509|                1083|0.5821759259259259|           1083|         2592|0.41782407407407407|11.921269579554822|               0.0|              30.0|                 85357|         575881|0.14821985792203599| 0.2696042161520381|        0|false|\n",
      "|     1|           0|              1|             0.0|             1|             1|        1.0|              0.0|              0.0|              0.0|           0.0|           10.0| 0.03333333333333333|               0.0|                  3|           30|        20|           4|               7.5|               1.5| 0.6666666666666666|           10|              20| 0.3333333333333333| 21.73913043478261|              30.0|              11.0|2.2666666666666666|       11.733333333333333|                   4|                  30.0|             1481|                 652|0.6943272386310361|            652|         2133| 0.3056727613689639|10.572144288577155|               0.0|              30.0|                177141|        3642188|0.04863587491914201|0.25703688644982187|        0|false|\n",
      "|     1|           0|              1|             0.0|             1|             1|        1.0|              0.0|              0.0|              0.0|           0.0|           11.0|0.007092198581560...|               0.0|                 18|          141|        59|          19| 7.421052631578948| 2.389830508474576|0.41843971631205673|           82|              59| 0.5815602836879432|         9.7265625|              30.0|               5.0|2.3120567375886525|       13.595744680851064|                  19|                  18.0|             2360|                1844|0.5613701236917221|           1844|         4204| 0.4386298763082778| 11.94010889292196|               0.0|              30.0|                159418|        1765313|0.09030579846180252| 0.3483240778464753|        0|false|\n",
      "|     1|           0|              1|             0.0|             1|             1|        1.0|              0.0|              0.0|              0.0|           0.0|           11.0|0.011627906976744186|               0.0|                 22|           86|        29|          23| 3.739130434782609|2.9655172413793105| 0.3372093023255814|           57|              29| 0.6627906976744186|16.195121951219512|              29.0|               4.0|1.8488372093023255|       13.569767441860465|                  23|                  13.0|             1449|                 782|0.6494845360824743|            782|         2231|0.35051546391752575|15.139378238341969|               0.0|              30.0|                 92240|         452134|0.20401031552592816| 0.1465051483915976|        0|false|\n",
      "|     1|           0|              1|             0.0|             1|             1|        1.0|              0.0|              0.0|              0.0|           0.0|           11.0|0.015873015873015872|               0.0|                  7|           63|        55|           8|             7.875|1.1454545454545455|  0.873015873015873|            8|              55|0.12698412698412698|14.771929824561404|              30.0|               7.0| 2.634920634920635|       14.396825396825397|                   8|                  25.0|              467|                 884|0.3456698741672835|            884|         1351| 0.6543301258327165|13.413625304136254|               0.0|              30.0|                 40216|         118477|   0.33944141056914|0.31488871526357654|        1|false|\n",
      "+------+------------+---------------+----------------+--------------+--------------+-----------+-----------------+-----------------+-----------------+--------------+---------------+--------------------+------------------+-------------------+-------------+----------+------------+------------------+------------------+-------------------+-------------+----------------+-------------------+------------------+------------------+------------------+------------------+-------------------------+--------------------+----------------------+-----------------+--------------------+------------------+---------------+-------------+-------------------+------------------+------------------+------------------+----------------------+---------------+-------------------+-------------------+---------+-----+\n",
      "only showing top 10 rows\n",
      "\n"
     ]
    },
    {
     "name": "stderr",
     "output_type": "stream",
     "text": [
      "                                                                                \r"
     ]
    },
    {
     "data": {
      "text/plain": [
       "(8474661, 6778222, 1696439, 8474661)"
      ]
     },
     "execution_count": 81,
     "metadata": {},
     "output_type": "execute_result"
    }
   ],
   "source": [
    "train_sdf = spark.table('train_data')\n",
    "test_sdf = spark.table('test_data')\n",
    "train_sdf = train_sdf.fillna(0)\n",
    "tr_sdf, val_sdf = train_sdf.randomSplit([0.8, 0.2])\n",
    "tr_sdf = tr_sdf.withColumn('isVal', F.lit(False))\n",
    "val_sdf = val_sdf.withColumn('isVal', F.lit(True))\n",
    "tr_val_sdf = tr_sdf.union(val_sdf)\n",
    "tr_val_sdf.show(10)\n",
    "train_sdf.count(), tr_sdf.count(), val_sdf.count(), tr_val_sdf.count()"
   ]
  },
  {
   "cell_type": "code",
   "execution_count": 72,
   "metadata": {},
   "outputs": [],
   "source": [
    "def make_test_sdf_ids_n_test_sdf(test_sdf):\n",
    "    id_cols = ['user_id', 'product_id', 'order_id']\n",
    "    test_sdf_id = test_sdf.select(*id_cols)\n",
    "    test_sdf_dropped = test_sdf.drop(*id_cols)\n",
    "    return test_sdf_id, test_sdf_dropped\n",
    "\n",
    "def make_predictions_with_ids(predictions, sdf_id):\n",
    "    sdf_ids_with_row_id = sdf_id.withColumn('row_id', F.monotonically_increasing_id())\n",
    "    predictions_with_row_id = predictions.withColumn('row_id', F.monotonically_increasing_id())\n",
    "    return sdf_ids_with_row_id.join(predictions_with_row_id, 'row_id').drop('row_id')\n",
    "\n",
    "def make_reordered_with_threshold(predictions, label='reordered', col_type='int', threshold=0.21):\n",
    "    predictions = predictions.withColumn('probability_arr', vector_to_array('probability')) \\\n",
    "                                .withColumn('1_proba', F.col('probability_arr')[1]) \\\n",
    "                                .withColumn(label, (F.col('1_proba') > threshold).cast(col_type))\n",
    "    return predictions\n",
    "\n",
    "def make_submission(predictions):\n",
    "    predictions_grp = predictions.groupby('order_id').agg(\n",
    "        F.count('*').alias('total_cnt_by_order_id'),\n",
    "        F.sum(F.col('reordered')).alias('reordered_cnt')\n",
    "    )\n",
    "    udf_get_product_ids_str = F.udf(lambda product_id_group: ' '.join(map(str, product_id_group)))\n",
    "    submission_01 = predictions.filter(F.col('reordered') == 1).groupby('order_id').agg(\n",
    "        udf_get_product_ids_str(F.collect_list('product_id')).alias('products')\n",
    "    )\n",
    "    submission_02 = predictions_grp.filter(F.col('reordered_cnt') == 0)  \\\n",
    "                                    .withColumn('products', F.lit('None'))  \\\n",
    "                                    .select('order_id', 'products')\n",
    "    submission = submission_01.union(submission_02)\n",
    "    return submission"
   ]
  },
  {
   "cell_type": "code",
   "execution_count": 60,
   "metadata": {},
   "outputs": [],
   "source": [
    "from pyspark.ml.feature import VectorAssembler\n",
    "from hyperopt import fmin, tpe, hp, STATUS_OK, Trials\n",
    "from synapse.ml.lightgbm import LightGBMClassifier\n",
    "from pyspark.ml.evaluation import BinaryClassificationEvaluator, MulticlassClassificationEvaluator\n",
    "\n",
    "search_space = {\n",
    "    'maxDepth': hp.quniform('maxDepth', 10, 20, 1),\n",
    "    'numLeaves': hp.quniform('numLeaves', 32, 78, 4),\n",
    "    'baggingFraction': hp.uniform('baggingFraction', 0.6, 1.0),\n",
    "    'featureFraction': hp.uniform('featureFraction', 0.6, 1.0),\n",
    "    'learningRate': hp.uniform('learningRate', 0.01, 0.1),\n",
    "}\n",
    "vector_columns = [column_name for column_name in train_sdf.columns if column_name != 'reordered']\n",
    "vector_assembler = VectorAssembler(inputCols=vector_columns, outputCol='features')\n",
    "tr_sdf_vectorized = vector_assembler.transform(tr_sdf)\n",
    "val_sdf_vectorized = vector_assembler.transform(val_sdf)\n",
    "f1_eval = MulticlassClassificationEvaluator(labelCol='reordered')"
   ]
  },
  {
   "cell_type": "code",
   "execution_count": 66,
   "metadata": {},
   "outputs": [],
   "source": [
    "def objective_func(space):\n",
    "    lgbm_classifier = LightGBMClassifier(\n",
    "        numIterations=50, \n",
    "        maxDepth=int(space['maxDepth']),\n",
    "        numLeaves=int(space['numLeaves']),\n",
    "        baggingFraction=space['baggingFraction'],\n",
    "        featureFraction=space['featureFraction'],\n",
    "        learningRate=space['learningRate'],\n",
    "        featuresCol='features',\n",
    "        labelCol='reordered'\n",
    "    )\n",
    "    lgbm_model = lgbm_classifier.fit(tr_sdf_vectorized)\n",
    "    predictions = lgbm_model.transform(val_sdf_vectorized)\n",
    "    predictions = make_reordered_with_threshold(predictions, label='prediction', col_type='double')\n",
    "    f1_eval = MulticlassClassificationEvaluator(labelCol='reordered')\n",
    "    f1_score = f1_eval.evaluate(predictions)\n",
    "    print('space:', space, 'f1_score:', f1_score)\n",
    "    return {'loss': -1*f1_score, 'status': STATUS_OK}"
   ]
  },
  {
   "cell_type": "code",
   "execution_count": 67,
   "metadata": {},
   "outputs": [
    {
     "name": "stdout",
     "output_type": "stream",
     "text": [
      "  0%|          | 0/25 [00:00<?, ?trial/s, best loss=?]"
     ]
    },
    {
     "name": "stderr",
     "output_type": "stream",
     "text": [
      "[Stage 127:===================================================>  (96 + 4) / 100]\r"
     ]
    },
    {
     "name": "stdout",
     "output_type": "stream",
     "text": [
      "space:                                                \n",
      "{'baggingFraction': 0.7523826538313113, 'featureFraction': 0.6644398196577093, 'learningRate': 0.01867697015202177, 'maxDepth': 13.0, 'numLeaves': 56.0}\n",
      "f1_score:                                             \n",
      "0.8908494032123885                                    \n",
      "  4%|▍         | 1/25 [00:52<20:59, 52.49s/trial, best loss: -0.8908494032123885]"
     ]
    },
    {
     "name": "stderr",
     "output_type": "stream",
     "text": [
      "[Stage 132:===================================================>  (96 + 4) / 100]\r"
     ]
    },
    {
     "name": "stdout",
     "output_type": "stream",
     "text": [
      "space:                                                                           \n",
      "{'baggingFraction': 0.6272292951923831, 'featureFraction': 0.618365626486771, 'learningRate': 0.08248127898357833, 'maxDepth': 13.0, 'numLeaves': 32.0}\n",
      "f1_score:                                                                        \n",
      "0.8801132625400485                                                               \n",
      "  8%|▊         | 2/25 [01:42<19:36, 51.16s/trial, best loss: -0.8908494032123885]"
     ]
    },
    {
     "name": "stderr",
     "output_type": "stream",
     "text": [
      "[Stage 137:====================================================> (98 + 2) / 100]\r"
     ]
    },
    {
     "name": "stdout",
     "output_type": "stream",
     "text": [
      "space:                                                                           \n",
      "{'baggingFraction': 0.6552312083139652, 'featureFraction': 0.9181954119235816, 'learningRate': 0.0867127892714699, 'maxDepth': 17.0, 'numLeaves': 44.0}\n",
      "f1_score:                                                                        \n",
      "0.8799800203635076                                                               \n",
      " 12%|█▏        | 3/25 [02:35<19:05, 52.05s/trial, best loss: -0.8908494032123885]"
     ]
    },
    {
     "name": "stderr",
     "output_type": "stream",
     "text": [
      "[Stage 142:=====================================================>(99 + 1) / 100]\r"
     ]
    },
    {
     "name": "stdout",
     "output_type": "stream",
     "text": [
      "space:                                                                           \n",
      "{'baggingFraction': 0.8330794216351993, 'featureFraction': 0.751032552297082, 'learningRate': 0.04255464263744633, 'maxDepth': 11.0, 'numLeaves': 56.0}\n",
      "f1_score:                                                                        \n",
      "0.882928884226569                                                                \n",
      " 16%|█▌        | 4/25 [03:31<18:45, 53.57s/trial, best loss: -0.8908494032123885]"
     ]
    },
    {
     "name": "stderr",
     "output_type": "stream",
     "text": [
      "[Stage 147:===================================================>  (95 + 5) / 100]\r"
     ]
    },
    {
     "name": "stdout",
     "output_type": "stream",
     "text": [
      "space:                                                                           \n",
      "{'baggingFraction': 0.8317614050923511, 'featureFraction': 0.9791482439540392, 'learningRate': 0.04724661340171592, 'maxDepth': 14.0, 'numLeaves': 60.0}\n",
      "f1_score:                                                                        \n",
      "0.8821702107174978                                                               \n",
      " 20%|██        | 5/25 [04:28<18:15, 54.79s/trial, best loss: -0.8908494032123885]"
     ]
    },
    {
     "name": "stderr",
     "output_type": "stream",
     "text": [
      "                                                                                \r"
     ]
    },
    {
     "name": "stdout",
     "output_type": "stream",
     "text": [
      "space:                                                                           \n",
      "{'baggingFraction': 0.7144118546240904, 'featureFraction': 0.9231144374153256, 'learningRate': 0.0845496148146356, 'maxDepth': 16.0, 'numLeaves': 72.0}\n",
      "f1_score:                                                                        \n",
      "0.8804590891864423                                                               \n",
      " 24%|██▍       | 6/25 [05:26<17:39, 55.78s/trial, best loss: -0.8908494032123885]"
     ]
    },
    {
     "name": "stderr",
     "output_type": "stream",
     "text": [
      "[Stage 157:===================================================>  (96 + 4) / 100]\r"
     ]
    },
    {
     "name": "stdout",
     "output_type": "stream",
     "text": [
      "space:                                                                           \n",
      "{'baggingFraction': 0.947706593943254, 'featureFraction': 0.8720472471336851, 'learningRate': 0.036945059625637246, 'maxDepth': 13.0, 'numLeaves': 48.0}\n",
      "f1_score:                                                                        \n",
      "0.8838743101411976                                                               \n",
      " 28%|██▊       | 7/25 [06:20<16:32, 55.14s/trial, best loss: -0.8908494032123885]"
     ]
    },
    {
     "name": "stderr",
     "output_type": "stream",
     "text": [
      "[Stage 162:===================================================>  (96 + 4) / 100]\r"
     ]
    },
    {
     "name": "stdout",
     "output_type": "stream",
     "text": [
      "space:                                                                           \n",
      "{'baggingFraction': 0.600970642231452, 'featureFraction': 0.8807033612442248, 'learningRate': 0.0998572419001273, 'maxDepth': 13.0, 'numLeaves': 40.0}\n",
      "f1_score:                                                                        \n",
      "0.879783484353046                                                                \n",
      " 32%|███▏      | 8/25 [07:11<15:19, 54.07s/trial, best loss: -0.8908494032123885]"
     ]
    },
    {
     "name": "stderr",
     "output_type": "stream",
     "text": [
      "[Stage 167:=====================================================>(99 + 1) / 100]\r"
     ]
    },
    {
     "name": "stdout",
     "output_type": "stream",
     "text": [
      "space:                                                                           \n",
      "{'baggingFraction': 0.766208408950289, 'featureFraction': 0.7177014107361189, 'learningRate': 0.07909747530838022, 'maxDepth': 17.0, 'numLeaves': 52.0}\n",
      "f1_score:                                                                        \n",
      "0.8802991117256171                                                               \n",
      " 36%|███▌      | 9/25 [08:05<14:24, 54.02s/trial, best loss: -0.8908494032123885]"
     ]
    },
    {
     "name": "stderr",
     "output_type": "stream",
     "text": [
      "[Stage 172:===================================================>  (96 + 4) / 100]\r"
     ]
    },
    {
     "name": "stdout",
     "output_type": "stream",
     "text": [
      "space:                                                                           \n",
      "{'baggingFraction': 0.7277450131325933, 'featureFraction': 0.7674540326567835, 'learningRate': 0.08818378689392853, 'maxDepth': 14.0, 'numLeaves': 36.0}\n",
      "f1_score:                                                                        \n",
      "0.879794864162653                                                                \n",
      " 40%|████      | 10/25 [08:56<13:16, 53.07s/trial, best loss: -0.8908494032123885]"
     ]
    },
    {
     "name": "stderr",
     "output_type": "stream",
     "text": [
      "[Stage 177:===================================================>  (96 + 4) / 100]\r"
     ]
    },
    {
     "name": "stdout",
     "output_type": "stream",
     "text": [
      "space:                                                                            \n",
      "{'baggingFraction': 0.8636711328520192, 'featureFraction': 0.9101602363477865, 'learningRate': 0.03843538472681732, 'maxDepth': 18.0, 'numLeaves': 32.0}\n",
      "f1_score:                                                                         \n",
      "0.8828192371792942                                                                \n",
      " 44%|████▍     | 11/25 [09:47<12:11, 52.23s/trial, best loss: -0.8908494032123885]"
     ]
    },
    {
     "name": "stderr",
     "output_type": "stream",
     "text": [
      "[Stage 182:====================================================> (97 + 3) / 100]\r"
     ]
    },
    {
     "name": "stdout",
     "output_type": "stream",
     "text": [
      "space:                                                                            \n",
      "{'baggingFraction': 0.7589007955639231, 'featureFraction': 0.8628224792291972, 'learningRate': 0.05732834071679437, 'maxDepth': 16.0, 'numLeaves': 72.0}\n",
      "f1_score:                                                                         \n",
      "0.8814554908095036                                                                \n",
      " 48%|████▊     | 12/25 [10:43<11:35, 53.49s/trial, best loss: -0.8908494032123885]"
     ]
    },
    {
     "name": "stderr",
     "output_type": "stream",
     "text": [
      "[Stage 187:===================================================>  (96 + 4) / 100]\r"
     ]
    },
    {
     "name": "stdout",
     "output_type": "stream",
     "text": [
      "space:                                                                            \n",
      "{'baggingFraction': 0.9021842791680892, 'featureFraction': 0.6296661854127912, 'learningRate': 0.040511546972943104, 'maxDepth': 20.0, 'numLeaves': 52.0}\n",
      "f1_score:                                                                         \n",
      "0.8838087501359744                                                                \n",
      " 52%|█████▏    | 13/25 [11:36<10:39, 53.31s/trial, best loss: -0.8908494032123885]"
     ]
    },
    {
     "name": "stderr",
     "output_type": "stream",
     "text": [
      "[Stage 192:===================================================>  (96 + 4) / 100]\r"
     ]
    },
    {
     "name": "stdout",
     "output_type": "stream",
     "text": [
      "space:                                                                            \n",
      "{'baggingFraction': 0.7510502809324785, 'featureFraction': 0.9140946152369207, 'learningRate': 0.030250585752388127, 'maxDepth': 19.0, 'numLeaves': 40.0}\n",
      "f1_score:                                                                         \n",
      "0.8851922918329392                                                                \n",
      " 56%|█████▌    | 14/25 [12:28<09:41, 52.86s/trial, best loss: -0.8908494032123885]"
     ]
    },
    {
     "name": "stderr",
     "output_type": "stream",
     "text": [
      "[Stage 197:=====================================================>(99 + 1) / 100]\r"
     ]
    },
    {
     "name": "stdout",
     "output_type": "stream",
     "text": [
      "space:                                                                            \n",
      "{'baggingFraction': 0.8581192651753409, 'featureFraction': 0.7543819037251154, 'learningRate': 0.08998816490345093, 'maxDepth': 17.0, 'numLeaves': 52.0}\n",
      "f1_score:                                                                         \n",
      "0.8801335226677738                                                                \n",
      " 60%|██████    | 15/25 [13:21<08:51, 53.13s/trial, best loss: -0.8908494032123885]"
     ]
    },
    {
     "name": "stderr",
     "output_type": "stream",
     "text": [
      "[Stage 202:====================================================> (97 + 3) / 100]\r"
     ]
    },
    {
     "name": "stdout",
     "output_type": "stream",
     "text": [
      "space:                                                                            \n",
      "{'baggingFraction': 0.8830232598937888, 'featureFraction': 0.6768185896035331, 'learningRate': 0.030065544163690144, 'maxDepth': 10.0, 'numLeaves': 68.0}\n",
      "f1_score:                                                                         \n",
      "0.8862764296448044                                                                \n",
      " 64%|██████▍   | 16/25 [14:16<08:01, 53.52s/trial, best loss: -0.8908494032123885]"
     ]
    },
    {
     "name": "stderr",
     "output_type": "stream",
     "text": [
      "[Stage 207:=====================================================>(99 + 1) / 100]\r"
     ]
    },
    {
     "name": "stdout",
     "output_type": "stream",
     "text": [
      "space:                                                                            \n",
      "{'baggingFraction': 0.7568170866980257, 'featureFraction': 0.8644127081834434, 'learningRate': 0.09424783320894094, 'maxDepth': 13.0, 'numLeaves': 36.0}\n",
      "f1_score:                                                                         \n",
      "0.8796024086228249                                                                \n",
      " 68%|██████▊   | 17/25 [15:06<06:59, 52.43s/trial, best loss: -0.8908494032123885]"
     ]
    },
    {
     "name": "stderr",
     "output_type": "stream",
     "text": [
      "[Stage 212:====================================================> (97 + 3) / 100]\r"
     ]
    },
    {
     "name": "stdout",
     "output_type": "stream",
     "text": [
      "space:                                                                            \n",
      "{'baggingFraction': 0.7996996270095972, 'featureFraction': 0.6909548853078793, 'learningRate': 0.08999505247765194, 'maxDepth': 16.0, 'numLeaves': 36.0}\n",
      "f1_score:                                                                         \n",
      "0.8799959507248069                                                                \n",
      " 72%|███████▏  | 18/25 [15:57<06:04, 52.09s/trial, best loss: -0.8908494032123885]"
     ]
    },
    {
     "name": "stderr",
     "output_type": "stream",
     "text": [
      "[Stage 217:===================================================>  (96 + 4) / 100]\r"
     ]
    },
    {
     "name": "stdout",
     "output_type": "stream",
     "text": [
      "space:                                                                            \n",
      "{'baggingFraction': 0.9164668263089214, 'featureFraction': 0.7875878559805819, 'learningRate': 0.09724801426811427, 'maxDepth': 15.0, 'numLeaves': 56.0}\n",
      "f1_score:                                                                         \n",
      "0.8801736359401188                                                                \n",
      " 76%|███████▌  | 19/25 [16:51<05:15, 52.66s/trial, best loss: -0.8908494032123885]"
     ]
    },
    {
     "name": "stderr",
     "output_type": "stream",
     "text": [
      "[Stage 222:===================================================>  (96 + 4) / 100]\r"
     ]
    },
    {
     "name": "stdout",
     "output_type": "stream",
     "text": [
      "space:                                                                            \n",
      "{'baggingFraction': 0.8329360266493108, 'featureFraction': 0.652827132241539, 'learningRate': 0.04369857062894339, 'maxDepth': 17.0, 'numLeaves': 36.0}\n",
      "                                                                                  \r"
     ]
    },
    {
     "name": "stderr",
     "output_type": "stream",
     "text": [
      "                                                                                \r"
     ]
    },
    {
     "name": "stdout",
     "output_type": "stream",
     "text": [
      "f1_score:\n",
      "0.8830305235453941                                                                \n",
      " 80%|████████  | 20/25 [17:42<04:21, 52.26s/trial, best loss: -0.8908494032123885]"
     ]
    },
    {
     "name": "stderr",
     "output_type": "stream",
     "text": [
      "[Stage 227:====================================================> (97 + 3) / 100]\r"
     ]
    },
    {
     "name": "stdout",
     "output_type": "stream",
     "text": [
      "space:                                                                            \n",
      "{'baggingFraction': 0.9899423025141096, 'featureFraction': 0.6555093885155099, 'learningRate': 0.010129679035660458, 'maxDepth': 10.0, 'numLeaves': 64.0}\n",
      "f1_score:                                                                         \n",
      "0.8895538667336589                                                                \n",
      " 84%|████████▍ | 21/25 [18:36<03:30, 52.59s/trial, best loss: -0.8908494032123885]"
     ]
    },
    {
     "name": "stderr",
     "output_type": "stream",
     "text": [
      "[Stage 232:====================================================> (98 + 2) / 100]\r"
     ]
    },
    {
     "name": "stdout",
     "output_type": "stream",
     "text": [
      "space:                                                                            \n",
      "{'baggingFraction': 0.9990850277937957, 'featureFraction': 0.6074630864058319, 'learningRate': 0.010773107205551734, 'maxDepth': 11.0, 'numLeaves': 64.0}\n",
      "f1_score:                                                                         \n",
      "0.8901524485100457                                                                \n",
      " 88%|████████▊ | 22/25 [19:27<02:36, 52.26s/trial, best loss: -0.8908494032123885]"
     ]
    },
    {
     "name": "stderr",
     "output_type": "stream",
     "text": [
      "[Stage 237:====================================================> (98 + 2) / 100]\r"
     ]
    },
    {
     "name": "stdout",
     "output_type": "stream",
     "text": [
      "space:                                                                            \n",
      "{'baggingFraction': 0.6779798216518752, 'featureFraction': 0.611292153423481, 'learningRate': 0.010353110067299644, 'maxDepth': 11.0, 'numLeaves': 76.0}\n",
      "f1_score:                                                                         \n",
      "0.8899294084168872                                                                \n",
      " 92%|█████████▏| 23/25 [20:21<01:45, 52.55s/trial, best loss: -0.8908494032123885]"
     ]
    },
    {
     "name": "stderr",
     "output_type": "stream",
     "text": [
      "[Stage 242:===================================================>  (96 + 4) / 100]\r"
     ]
    },
    {
     "name": "stdout",
     "output_type": "stream",
     "text": [
      "space:                                                                            \n",
      "{'baggingFraction': 0.9536569345860515, 'featureFraction': 0.7053638044032232, 'learningRate': 0.017661750965652052, 'maxDepth': 11.0, 'numLeaves': 64.0}\n",
      "f1_score:                                                                         \n",
      "0.8911706398136663                                                                \n",
      " 96%|█████████▌| 24/25 [21:13<00:52, 52.65s/trial, best loss: -0.8911706398136663]"
     ]
    },
    {
     "name": "stderr",
     "output_type": "stream",
     "text": [
      "[Stage 247:=====================================================>(99 + 1) / 100]\r"
     ]
    },
    {
     "name": "stdout",
     "output_type": "stream",
     "text": [
      "space:                                                                            \n",
      "{'baggingFraction': 0.9618616429017719, 'featureFraction': 0.7113274159882055, 'learningRate': 0.020850854970521544, 'maxDepth': 12.0, 'numLeaves': 60.0}\n",
      "f1_score:                                                                         \n",
      "0.8896441492674925                                                                \n",
      "100%|██████████| 25/25 [22:06<00:00, 53.08s/trial, best loss: -0.8911706398136663]\n"
     ]
    },
    {
     "name": "stderr",
     "output_type": "stream",
     "text": [
      "                                                                                \r"
     ]
    }
   ],
   "source": [
    "algo = tpe.suggest\n",
    "trials = Trials()\n",
    "best = fmin(fn=objective_func, space=search_space, max_evals=25, algo=algo, trials=trials)"
   ]
  },
  {
   "cell_type": "code",
   "execution_count": 73,
   "metadata": {},
   "outputs": [
    {
     "name": "stdout",
     "output_type": "stream",
     "text": [
      "best: {'baggingFraction': 0.9536569345860515, 'featureFraction': 0.7053638044032232, 'learningRate': 0.017661750965652052, 'maxDepth': 11.0, 'numLeaves': 64.0}\n"
     ]
    }
   ],
   "source": [
    "print('best:', best)"
   ]
  },
  {
   "cell_type": "code",
   "execution_count": 82,
   "metadata": {},
   "outputs": [
    {
     "name": "stderr",
     "output_type": "stream",
     "text": [
      "                                                                                \r"
     ]
    }
   ],
   "source": [
    "train_sdf_vectorized = vector_assembler.transform(train_sdf)\n",
    "lgbm_classifier = LightGBMClassifier(\n",
    "        numIterations=300, \n",
    "        maxDepth=int(best['maxDepth']),\n",
    "        numLeaves=int(best['numLeaves']),\n",
    "        baggingFraction=best['baggingFraction'],\n",
    "        featureFraction=best['featureFraction'],\n",
    "        learningRate=best['learningRate'],\n",
    "        featuresCol='features',\n",
    "        labelCol='reordered'\n",
    "    )\n",
    "lgbm_model = lgbm_estimator.fit(train_sdf_vectorized)\n",
    "test_sdf_id, test_sdf = make_test_sdf_ids_n_test_sdf(test_sdf)\n",
    "test_sdf = test_sdf.fillna(0)\n",
    "test_sdf_vectorized = vector_assembler.transform(test_sdf)\n",
    "predictions = lgbm_model.transform(test_sdf_vectorized)"
   ]
  },
  {
   "cell_type": "code",
   "execution_count": 83,
   "metadata": {},
   "outputs": [
    {
     "name": "stderr",
     "output_type": "stream",
     "text": [
      "23/06/16 09:15:10 WARN DAGScheduler: Broadcasting large task binary with size 1236.8 KiB\n",
      "23/06/16 09:15:28 WARN DAGScheduler: Broadcasting large task binary with size 1259.0 KiB\n"
     ]
    },
    {
     "name": "stdout",
     "output_type": "stream",
     "text": [
      "+-------+----------+--------+------+------------+---------------+----------------+--------------+--------------+-----------+-----------------+-----------------+-----------------+--------------+---------------+--------------------+--------------------+-------------------+-------------+----------+------------+------------------+------------------+------------------+-------------+----------------+-------------------+------------------+------------------+------------------+------------------+-------------------------+--------------------+----------------------+-----------------+--------------------+-------------------+---------------+-------------+-------------------+------------------+------------------+------------------+----------------------+---------------+-------------------+--------------------+--------------------+--------------------+--------------------+----------+\n",
      "|user_id|product_id|order_id|up_cnt|up_reord_cnt|up_no_reord_cnt|up_reordered_avg|up_max_ord_num|up_min_ord_num|up_avg_cart|up_avg_prior_days|up_max_prior_days|up_min_prior_days|up_avg_ord_dow|up_avg_ord_hour|        up_usr_ratio|  up_usr_reord_ratio|up_usr_ord_num_diff|usr_total_cnt|prd_uq_cnt|order_uq_cnt|   usr_avg_prd_cnt|usr_avg_uq_prd_cnt|  usr_uq_prd_ratio|usr_reord_cnt|usr_no_reord_cnt|  usr_reordered_avg|usr_avg_prior_days|usr_max_prior_days|usr_min_prior_days| usr_avg_order_dow|usr_avg_order_hour_of_day|usr_max_order_number|days_since_prior_order|prd_reordered_cnt|prd_no_reordered_cnt|  prd_avg_reordered|prd_unq_usr_cnt|prd_total_cnt|      prd_usr_ratio|prd_avg_prior_days|prd_min_prior_days|prd_max_prior_days|aisle_distinct_usr_cnt|aisle_total_cnt|    aisle_usr_ratio|      usr_ratio_diff|            features|       rawPrediction|         probability|prediction|\n",
      "+-------+----------+--------+------+------------+---------------+----------------+--------------+--------------+-----------+-----------------+-----------------+-----------------+--------------+---------------+--------------------+--------------------+-------------------+-------------+----------+------------+------------------+------------------+------------------+-------------+----------------+-------------------+------------------+------------------+------------------+------------------+-------------------------+--------------------+----------------------+-----------------+--------------------+-------------------+---------------+-------------+-------------------+------------------+------------------+------------------+----------------------+---------------+-------------------+--------------------+--------------------+--------------------+--------------------+----------+\n",
      "|    141|      9387|  726111|     1|           0|              1|             0.0|             1|             1|        4.0|              0.0|              0.0|              0.0|           0.0|           15.0|0.024390243902439025|                 0.0|                  3|           41|        35|           4|             10.25|1.1714285714285715|0.8536585365853658|            6|              35|0.14634146341463414|3.5357142857142856|               6.0|               2.0|2.5853658536585367|       13.268292682926829|                   4|                  20.0|            23537|               12650| 0.6504269489043026|          12650|        36187|0.34957305109569736|10.780686720642988|               0.0|              30.0|                177141|        3642188|0.04863587491914201| 0.30093717617655535|[1.0,0.0,1.0,0.0,...|[2.01674136083444...|[0.88254363825497...|       0.0|\n",
      "|    141|     17454|  726111|     1|           0|              1|             0.0|             1|             1|        8.0|              0.0|              0.0|              0.0|           0.0|           15.0|0.024390243902439025|                 0.0|                  3|           41|        35|           4|             10.25|1.1714285714285715|0.8536585365853658|            6|              35|0.14634146341463414|3.5357142857142856|               6.0|               2.0|2.5853658536585367|       13.268292682926829|                   4|                  20.0|             2017|                1324| 0.6037114636336426|           1324|         3341|0.39628853636635736|  9.24178917735377|               0.0|              30.0|                 14068|          33865| 0.4154141443968699|-0.01912560803051...|[1.0,0.0,1.0,0.0,...|[2.30403928744548...|[0.90921101897626...|       0.0|\n",
      "|    141|     26209|  726111|     1|           0|              1|             0.0|             4|             4|        3.0|              2.0|              2.0|              2.0|           4.0|           11.0|0.024390243902439025|                 0.0|                  0|           41|        35|           4|             10.25|1.1714285714285715|0.8536585365853658|            6|              35|0.14634146341463414|3.5357142857142856|               6.0|               2.0|2.5853658536585367|       13.268292682926829|                   4|                  20.0|            95768|               44859| 0.6810072034531064|          44859|       140627|0.31899279654689355|11.135485385786456|               0.0|              30.0|                177141|        3642188|0.04863587491914201| 0.27035692162775155|[1.0,0.0,1.0,0.0,...|[1.69621619931555...|[0.84503990243098...|       0.0|\n",
      "|    141|     13176|  726111|     2|           1|              1|             0.5|             4|             1|        4.5|              2.0|              2.0|              2.0|           2.0|           13.0| 0.04878048780487805| 0.16666666666666666|                  0|           41|        35|           4|             10.25|1.1714285714285715|0.8536585365853658|            6|              35|0.14634146341463414|3.5357142857142856|               6.0|               2.0|2.5853658536585367|       13.268292682926829|                   4|                  20.0|           315913|               63537|  0.832555013835815|          63537|       379450|0.16744498616418502| 10.06454486916168|               0.0|              30.0|                177141|        3642188|0.04863587491914201| 0.11880911124504301|[2.0,1.0,1.0,0.5,...|[0.25447197951816...|[0.56327689966053...|       0.0|\n",
      "|    151|      8414| 1855063|     2|           1|              1|             0.5|            11|             7|       13.5|              2.0|              2.0|              2.0|           2.0|           17.5|0.012195121951219513|0.022727272727272728|                  0|          164|       120|          11|14.909090909090908|1.3666666666666667|0.7317073170731707|           44|             120| 0.2682926829268293| 5.859060402684563|              25.0|               2.0|2.4146341463414633|       15.463414634146341|                  11|                  11.0|             1384|                 812| 0.6302367941712204|            812|         2196| 0.3697632058287796|10.238598175708113|               0.0|              30.0|                  9056|          20931| 0.4326596913668721|-0.06289648553809252|[2.0,1.0,1.0,0.5,...|[1.85816128906428...|[0.86508248733418...|       0.0|\n",
      "|    151|     34658| 1855063|     1|           0|              1|             0.0|             9|             9|        3.0|              3.0|              3.0|              3.0|           2.0|           17.0|0.006097560975609756|                 0.0|                  2|          164|       120|          11|14.909090909090908|1.3666666666666667|0.7317073170731707|           44|             120| 0.2682926829268293| 5.859060402684563|              25.0|               2.0|2.4146341463414633|       15.463414634146341|                  11|                  11.0|             2623|                1085| 0.7073894282632147|           1085|         3708|0.29261057173678534|10.519613416714042|               0.0|              30.0|                 60265|         242996| 0.2480081976658052| 0.04460237407098014|[1.0,0.0,1.0,0.0,...|[2.41898766442848...|[0.91826379545487...|       0.0|\n",
      "|    200|     15386| 2986791|     4|           3|              1|            0.75|             8|             5|      11.75|             24.5|             30.0|             17.0|           3.5|          15.25|0.023255813953488372| 0.03571428571428571|                  1|          172|        88|           9| 19.11111111111111|1.9545454545454546|0.5116279069767442|           84|              88| 0.4883720930232558| 21.78048780487805|              30.0|               6.0| 3.116279069767442|       14.034883720930232|                   9|                  30.0|             3040|                1548| 0.6625980819529207|           1548|         4588|0.33740191804707936|12.711984841307437|               0.0|              30.0|                111930|         722470| 0.1549268481736266| 0.18247506987345277|[4.0,3.0,1.0,0.75...|[0.72492129492388...|[0.67368979780823...|       0.0|\n",
      "|    200|     42557| 2986791|     1|           0|              1|             0.0|             3|             3|        6.0|              6.0|              6.0|              6.0|           2.0|           13.0|0.005813953488372093|                 0.0|                  6|          172|        88|           9| 19.11111111111111|1.9545454545454546|0.5116279069767442|           84|              88| 0.4883720930232558| 21.78048780487805|              30.0|               6.0| 3.116279069767442|       14.034883720930232|                   9|                  30.0|             4759|                3565|  0.571720326765978|           3565|         8324| 0.4282796732340221|11.027511196417146|               0.0|              30.0|                 81973|         289400|0.28325155494125775| 0.14502811829276435|[1.0,0.0,1.0,0.0,...|[3.06877059129057...|[0.95558602382997...|       0.0|\n",
      "|    200|     16521| 2986791|     4|           3|              1|            0.75|             6|             1|        5.5|             11.0|             21.0|              6.0|           3.5|          11.75|0.023255813953488372| 0.03571428571428571|                  3|          172|        88|           9| 19.11111111111111|1.9545454545454546|0.5116279069767442|           84|              88| 0.4883720930232558| 21.78048780487805|              30.0|               6.0| 3.116279069767442|       14.034883720930232|                   9|                  30.0|             5240|                5291|0.49757857753299783|           5291|        10531| 0.5024214224670022|10.177414440946482|               0.0|              30.0|                 76177|         306487|0.24854887809270867|  0.2538725443742935|[4.0,3.0,1.0,0.75...|[1.80587037032674...|[0.85886203010016...|       0.0|\n",
      "|    221|     39877| 2088686|    10|           9|              1|             0.9|            23|             8|        6.9|             14.2|             22.0|              7.0|           3.0|           16.1| 0.04329004329004329| 0.05357142857142857|                  0|          231|        63|          23|10.043478260869565|3.6666666666666665|0.2727272727272727|          168|              63| 0.7272727272727273|12.247706422018348|              22.0|               2.0|2.4761904761904763|       15.632034632034632|                  23|                  15.0|            41566|               17213|  0.707157318089794|          17213|        58779|  0.292842681910206|  9.76983029541169|               0.0|              30.0|                177141|        3642188|0.04863587491914201|   0.244206806991064|[10.0,9.0,1.0,0.9...|[-0.4639181409525...|[0.38605674450812...|       1.0|\n",
      "+-------+----------+--------+------+------------+---------------+----------------+--------------+--------------+-----------+-----------------+-----------------+-----------------+--------------+---------------+--------------------+--------------------+-------------------+-------------+----------+------------+------------------+------------------+------------------+-------------+----------------+-------------------+------------------+------------------+------------------+------------------+-------------------------+--------------------+----------------------+-----------------+--------------------+-------------------+---------------+-------------+-------------------+------------------+------------------+------------------+----------------------+---------------+-------------------+--------------------+--------------------+--------------------+--------------------+----------+\n",
      "only showing top 10 rows\n",
      "\n"
     ]
    },
    {
     "name": "stderr",
     "output_type": "stream",
     "text": [
      "                                                                                \r"
     ]
    }
   ],
   "source": [
    "predictions = make_predictions_with_ids(predictions, test_sdf_id)\n",
    "predictions.show(10)"
   ]
  },
  {
   "cell_type": "code",
   "execution_count": 84,
   "metadata": {},
   "outputs": [
    {
     "name": "stderr",
     "output_type": "stream",
     "text": [
      "23/06/16 09:15:33 WARN DAGScheduler: Broadcasting large task binary with size 1236.8 KiB\n",
      "23/06/16 09:15:52 WARN DAGScheduler: Broadcasting large task binary with size 1276.7 KiB\n"
     ]
    },
    {
     "name": "stdout",
     "output_type": "stream",
     "text": [
      "+-------+----------+--------+------+------------+---------------+----------------+--------------+--------------+-----------+-----------------+-----------------+-----------------+--------------+---------------+--------------------+--------------------+-------------------+-------------+----------+------------+------------------+------------------+------------------+-------------+----------------+-------------------+------------------+------------------+------------------+------------------+-------------------------+--------------------+----------------------+-----------------+--------------------+-------------------+---------------+-------------+-------------------+------------------+------------------+------------------+----------------------+---------------+-------------------+--------------------+--------------------+--------------------+--------------------+----------+--------------------+-------------------+---------+\n",
      "|user_id|product_id|order_id|up_cnt|up_reord_cnt|up_no_reord_cnt|up_reordered_avg|up_max_ord_num|up_min_ord_num|up_avg_cart|up_avg_prior_days|up_max_prior_days|up_min_prior_days|up_avg_ord_dow|up_avg_ord_hour|        up_usr_ratio|  up_usr_reord_ratio|up_usr_ord_num_diff|usr_total_cnt|prd_uq_cnt|order_uq_cnt|   usr_avg_prd_cnt|usr_avg_uq_prd_cnt|  usr_uq_prd_ratio|usr_reord_cnt|usr_no_reord_cnt|  usr_reordered_avg|usr_avg_prior_days|usr_max_prior_days|usr_min_prior_days| usr_avg_order_dow|usr_avg_order_hour_of_day|usr_max_order_number|days_since_prior_order|prd_reordered_cnt|prd_no_reordered_cnt|  prd_avg_reordered|prd_unq_usr_cnt|prd_total_cnt|      prd_usr_ratio|prd_avg_prior_days|prd_min_prior_days|prd_max_prior_days|aisle_distinct_usr_cnt|aisle_total_cnt|    aisle_usr_ratio|      usr_ratio_diff|            features|       rawPrediction|         probability|prediction|     probability_arr|            1_proba|reordered|\n",
      "+-------+----------+--------+------+------------+---------------+----------------+--------------+--------------+-----------+-----------------+-----------------+-----------------+--------------+---------------+--------------------+--------------------+-------------------+-------------+----------+------------+------------------+------------------+------------------+-------------+----------------+-------------------+------------------+------------------+------------------+------------------+-------------------------+--------------------+----------------------+-----------------+--------------------+-------------------+---------------+-------------+-------------------+------------------+------------------+------------------+----------------------+---------------+-------------------+--------------------+--------------------+--------------------+--------------------+----------+--------------------+-------------------+---------+\n",
      "|    141|      9387|  726111|     1|           0|              1|             0.0|             1|             1|        4.0|              0.0|              0.0|              0.0|           0.0|           15.0|0.024390243902439025|                 0.0|                  3|           41|        35|           4|             10.25|1.1714285714285715|0.8536585365853658|            6|              35|0.14634146341463414|3.5357142857142856|               6.0|               2.0|2.5853658536585367|       13.268292682926829|                   4|                  20.0|            23537|               12650| 0.6504269489043026|          12650|        36187|0.34957305109569736|10.780686720642988|               0.0|              30.0|                177141|        3642188|0.04863587491914201| 0.30093717617655535|[1.0,0.0,1.0,0.0,...|[2.01674136083444...|[0.88254363825497...|       0.0|[0.88254363825497...|0.11745636174502372|        0|\n",
      "|    141|     17454|  726111|     1|           0|              1|             0.0|             1|             1|        8.0|              0.0|              0.0|              0.0|           0.0|           15.0|0.024390243902439025|                 0.0|                  3|           41|        35|           4|             10.25|1.1714285714285715|0.8536585365853658|            6|              35|0.14634146341463414|3.5357142857142856|               6.0|               2.0|2.5853658536585367|       13.268292682926829|                   4|                  20.0|             2017|                1324| 0.6037114636336426|           1324|         3341|0.39628853636635736|  9.24178917735377|               0.0|              30.0|                 14068|          33865| 0.4154141443968699|-0.01912560803051...|[1.0,0.0,1.0,0.0,...|[2.30403928744548...|[0.90921101897626...|       0.0|[0.90921101897626...|0.09078898102373223|        0|\n",
      "|    141|     26209|  726111|     1|           0|              1|             0.0|             4|             4|        3.0|              2.0|              2.0|              2.0|           4.0|           11.0|0.024390243902439025|                 0.0|                  0|           41|        35|           4|             10.25|1.1714285714285715|0.8536585365853658|            6|              35|0.14634146341463414|3.5357142857142856|               6.0|               2.0|2.5853658536585367|       13.268292682926829|                   4|                  20.0|            95768|               44859| 0.6810072034531064|          44859|       140627|0.31899279654689355|11.135485385786456|               0.0|              30.0|                177141|        3642188|0.04863587491914201| 0.27035692162775155|[1.0,0.0,1.0,0.0,...|[1.69621619931555...|[0.84503990243098...|       0.0|[0.84503990243098...|0.15496009756901152|        0|\n",
      "|    141|     13176|  726111|     2|           1|              1|             0.5|             4|             1|        4.5|              2.0|              2.0|              2.0|           2.0|           13.0| 0.04878048780487805| 0.16666666666666666|                  0|           41|        35|           4|             10.25|1.1714285714285715|0.8536585365853658|            6|              35|0.14634146341463414|3.5357142857142856|               6.0|               2.0|2.5853658536585367|       13.268292682926829|                   4|                  20.0|           315913|               63537|  0.832555013835815|          63537|       379450|0.16744498616418502| 10.06454486916168|               0.0|              30.0|                177141|        3642188|0.04863587491914201| 0.11880911124504301|[2.0,1.0,1.0,0.5,...|[0.25447197951816...|[0.56327689966053...|       0.0|[0.56327689966053...|0.43672310033946743|        1|\n",
      "|    151|      8414| 1855063|     2|           1|              1|             0.5|            11|             7|       13.5|              2.0|              2.0|              2.0|           2.0|           17.5|0.012195121951219513|0.022727272727272728|                  0|          164|       120|          11|14.909090909090908|1.3666666666666667|0.7317073170731707|           44|             120| 0.2682926829268293| 5.859060402684563|              25.0|               2.0|2.4146341463414633|       15.463414634146341|                  11|                  11.0|             1384|                 812| 0.6302367941712204|            812|         2196| 0.3697632058287796|10.238598175708113|               0.0|              30.0|                  9056|          20931| 0.4326596913668721|-0.06289648553809252|[2.0,1.0,1.0,0.5,...|[1.85816128906428...|[0.86508248733418...|       0.0|[0.86508248733418...| 0.1349175126658111|        0|\n",
      "|    151|     34658| 1855063|     1|           0|              1|             0.0|             9|             9|        3.0|              3.0|              3.0|              3.0|           2.0|           17.0|0.006097560975609756|                 0.0|                  2|          164|       120|          11|14.909090909090908|1.3666666666666667|0.7317073170731707|           44|             120| 0.2682926829268293| 5.859060402684563|              25.0|               2.0|2.4146341463414633|       15.463414634146341|                  11|                  11.0|             2623|                1085| 0.7073894282632147|           1085|         3708|0.29261057173678534|10.519613416714042|               0.0|              30.0|                 60265|         242996| 0.2480081976658052| 0.04460237407098014|[1.0,0.0,1.0,0.0,...|[2.41898766442848...|[0.91826379545487...|       0.0|[0.91826379545487...| 0.0817362045451294|        0|\n",
      "|    200|     15386| 2986791|     4|           3|              1|            0.75|             8|             5|      11.75|             24.5|             30.0|             17.0|           3.5|          15.25|0.023255813953488372| 0.03571428571428571|                  1|          172|        88|           9| 19.11111111111111|1.9545454545454546|0.5116279069767442|           84|              88| 0.4883720930232558| 21.78048780487805|              30.0|               6.0| 3.116279069767442|       14.034883720930232|                   9|                  30.0|             3040|                1548| 0.6625980819529207|           1548|         4588|0.33740191804707936|12.711984841307437|               0.0|              30.0|                111930|         722470| 0.1549268481736266| 0.18247506987345277|[4.0,3.0,1.0,0.75...|[0.72492129492388...|[0.67368979780823...|       0.0|[0.67368979780823...|0.32631020219176443|        1|\n",
      "|    200|     42557| 2986791|     1|           0|              1|             0.0|             3|             3|        6.0|              6.0|              6.0|              6.0|           2.0|           13.0|0.005813953488372093|                 0.0|                  6|          172|        88|           9| 19.11111111111111|1.9545454545454546|0.5116279069767442|           84|              88| 0.4883720930232558| 21.78048780487805|              30.0|               6.0| 3.116279069767442|       14.034883720930232|                   9|                  30.0|             4759|                3565|  0.571720326765978|           3565|         8324| 0.4282796732340221|11.027511196417146|               0.0|              30.0|                 81973|         289400|0.28325155494125775| 0.14502811829276435|[1.0,0.0,1.0,0.0,...|[3.06877059129057...|[0.95558602382997...|       0.0|[0.95558602382997...|0.04441397617002423|        0|\n",
      "|    200|     16521| 2986791|     4|           3|              1|            0.75|             6|             1|        5.5|             11.0|             21.0|              6.0|           3.5|          11.75|0.023255813953488372| 0.03571428571428571|                  3|          172|        88|           9| 19.11111111111111|1.9545454545454546|0.5116279069767442|           84|              88| 0.4883720930232558| 21.78048780487805|              30.0|               6.0| 3.116279069767442|       14.034883720930232|                   9|                  30.0|             5240|                5291|0.49757857753299783|           5291|        10531| 0.5024214224670022|10.177414440946482|               0.0|              30.0|                 76177|         306487|0.24854887809270867|  0.2538725443742935|[4.0,3.0,1.0,0.75...|[1.80587037032674...|[0.85886203010016...|       0.0|[0.85886203010016...|0.14113796989983815|        0|\n",
      "|    221|     39877| 2088686|    10|           9|              1|             0.9|            23|             8|        6.9|             14.2|             22.0|              7.0|           3.0|           16.1| 0.04329004329004329| 0.05357142857142857|                  0|          231|        63|          23|10.043478260869565|3.6666666666666665|0.2727272727272727|          168|              63| 0.7272727272727273|12.247706422018348|              22.0|               2.0|2.4761904761904763|       15.632034632034632|                  23|                  15.0|            41566|               17213|  0.707157318089794|          17213|        58779|  0.292842681910206|  9.76983029541169|               0.0|              30.0|                177141|        3642188|0.04863587491914201|   0.244206806991064|[10.0,9.0,1.0,0.9...|[-0.4639181409525...|[0.38605674450812...|       1.0|[0.38605674450812...| 0.6139432554918733|        1|\n",
      "+-------+----------+--------+------+------------+---------------+----------------+--------------+--------------+-----------+-----------------+-----------------+-----------------+--------------+---------------+--------------------+--------------------+-------------------+-------------+----------+------------+------------------+------------------+------------------+-------------+----------------+-------------------+------------------+------------------+------------------+------------------+-------------------------+--------------------+----------------------+-----------------+--------------------+-------------------+---------------+-------------+-------------------+------------------+------------------+------------------+----------------------+---------------+-------------------+--------------------+--------------------+--------------------+--------------------+----------+--------------------+-------------------+---------+\n",
      "only showing top 10 rows\n",
      "\n"
     ]
    },
    {
     "name": "stderr",
     "output_type": "stream",
     "text": [
      "                                                                                \r"
     ]
    }
   ],
   "source": [
    "predictions = make_reordered_with_threshold(predictions)\n",
    "predictions.show(10)"
   ]
  },
  {
   "cell_type": "code",
   "execution_count": 85,
   "metadata": {},
   "outputs": [],
   "source": [
    "submission = make_submission(predictions)"
   ]
  },
  {
   "cell_type": "code",
   "execution_count": 86,
   "metadata": {},
   "outputs": [
    {
     "name": "stderr",
     "output_type": "stream",
     "text": [
      "23/06/16 09:16:06 WARN DAGScheduler: Broadcasting large task binary with size 1216.7 KiB\n",
      "23/06/16 09:16:36 WARN DAGScheduler: Broadcasting large task binary with size 1210.9 KiB\n",
      "23/06/16 09:17:06 WARN DAGScheduler: Broadcasting large task binary with size 1200.7 KiB\n",
      "23/06/16 09:17:08 WARN DAGScheduler: Broadcasting large task binary with size 1222.2 KiB\n",
      "23/06/16 09:17:10 WARN DAGScheduler: Broadcasting large task binary with size 1521.9 KiB\n",
      "                                                                                \r"
     ]
    }
   ],
   "source": [
    "submission.coalesce(1).write.csv('data/instacart_market/submission_02', header=True)"
   ]
  },
  {
   "cell_type": "code",
   "execution_count": null,
   "metadata": {},
   "outputs": [],
   "source": []
  }
 ],
 "metadata": {
  "kernelspec": {
   "display_name": ".venv",
   "language": "python",
   "name": "python3"
  },
  "language_info": {
   "codemirror_mode": {
    "name": "ipython",
    "version": 3
   },
   "file_extension": ".py",
   "mimetype": "text/x-python",
   "name": "python",
   "nbconvert_exporter": "python",
   "pygments_lexer": "ipython3",
   "version": "3.8.13"
  },
  "orig_nbformat": 4
 },
 "nbformat": 4,
 "nbformat_minor": 2
}
