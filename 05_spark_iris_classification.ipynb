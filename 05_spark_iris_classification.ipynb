{
 "cells": [
  {
   "cell_type": "code",
   "execution_count": 1,
   "metadata": {},
   "outputs": [],
   "source": [
    "from sklearn.datasets import load_iris\n",
    "import pandas as pd\n",
    "import numpy as np"
   ]
  },
  {
   "cell_type": "code",
   "execution_count": 2,
   "metadata": {},
   "outputs": [
    {
     "data": {
      "text/plain": [
       "(numpy.ndarray,\n",
       " (150, 4),\n",
       " numpy.ndarray,\n",
       " (150,),\n",
       " ['sepal length (cm)',\n",
       "  'sepal width (cm)',\n",
       "  'petal length (cm)',\n",
       "  'petal width (cm)'])"
      ]
     },
     "execution_count": 2,
     "metadata": {},
     "output_type": "execute_result"
    }
   ],
   "source": [
    "iris = load_iris()\n",
    "iris_data = iris.data\n",
    "iris_label = iris.target\n",
    "\n",
    "type(iris_data), iris_data.shape, type(iris_label), iris_label.shape, iris.feature_names"
   ]
  },
  {
   "cell_type": "code",
   "execution_count": 3,
   "metadata": {},
   "outputs": [
    {
     "data": {
      "text/plain": [
       "['sepal_length', 'sepal_width', 'petal_length', 'petal_width']"
      ]
     },
     "execution_count": 3,
     "metadata": {},
     "output_type": "execute_result"
    }
   ],
   "source": [
    "iris_columns = list(map(lambda x: x.replace(' (cm)', '').replace('al ', 'al_'), iris.feature_names))\n",
    "iris_columns"
   ]
  },
  {
   "cell_type": "code",
   "execution_count": 4,
   "metadata": {},
   "outputs": [
    {
     "data": {
      "text/plain": [
       "(target\n",
       " 0    50\n",
       " 1    50\n",
       " 2    50\n",
       " Name: count, dtype: int64,\n",
       "      sepal_length  sepal_width  petal_length  petal_width  target\n",
       " 0             5.1          3.5           1.4          0.2       0\n",
       " 1             4.9          3.0           1.4          0.2       0\n",
       " 2             4.7          3.2           1.3          0.2       0\n",
       " 3             4.6          3.1           1.5          0.2       0\n",
       " 4             5.0          3.6           1.4          0.2       0\n",
       " ..            ...          ...           ...          ...     ...\n",
       " 145           6.7          3.0           5.2          2.3       2\n",
       " 146           6.3          2.5           5.0          1.9       2\n",
       " 147           6.5          3.0           5.2          2.0       2\n",
       " 148           6.2          3.4           5.4          2.3       2\n",
       " 149           5.9          3.0           5.1          1.8       2\n",
       " \n",
       " [150 rows x 5 columns])"
      ]
     },
     "execution_count": 4,
     "metadata": {},
     "output_type": "execute_result"
    }
   ],
   "source": [
    "iris_pdf = pd.DataFrame(iris_data, columns=iris_columns)\n",
    "iris_pdf['target'] = iris_label\n",
    "iris_pdf.target.value_counts(), iris_pdf"
   ]
  },
  {
   "cell_type": "code",
   "execution_count": 5,
   "metadata": {},
   "outputs": [
    {
     "name": "stdout",
     "output_type": "stream",
     "text": [
      "pred: [2 2 1 1 2 0 1 0 0 1 1 1 1 2 2 0 2 1 2 2 1 0 0 1 0 0 2 1 0 1]\n"
     ]
    }
   ],
   "source": [
    "from sklearn.tree import DecisionTreeClassifier\n",
    "from sklearn.model_selection import train_test_split\n",
    "\n",
    "X_train, X_test, y_train, y_test = train_test_split(iris_data, iris_label, test_size=0.2, random_state=11)\n",
    "dt_clf = DecisionTreeClassifier(random_state=11, max_depth=5)\n",
    "dt_clf.fit(X_train, y_train)\n",
    "pred = dt_clf.predict(X_test)\n",
    "print('pred:', pred)"
   ]
  },
  {
   "cell_type": "code",
   "execution_count": 6,
   "metadata": {},
   "outputs": [
    {
     "name": "stderr",
     "output_type": "stream",
     "text": [
      "Setting default log level to \"WARN\".\n",
      "To adjust logging level use sc.setLogLevel(newLevel). For SparkR, use setLogLevel(newLevel).\n",
      "23/06/05 05:42:26 WARN NativeCodeLoader: Unable to load native-hadoop library for your platform... using builtin-java classes where applicable\n",
      "23/06/05 05:42:27 WARN Utils: Service 'SparkUI' could not bind on port 4040. Attempting port 4041.\n"
     ]
    },
    {
     "data": {
      "text/html": [
       "\n",
       "            <div>\n",
       "                <p><b>SparkSession - in-memory</b></p>\n",
       "                \n",
       "        <div>\n",
       "            <p><b>SparkContext</b></p>\n",
       "\n",
       "            <p><a href=\"http://bac044c6c4c0:4041\">Spark UI</a></p>\n",
       "\n",
       "            <dl>\n",
       "              <dt>Version</dt>\n",
       "                <dd><code>v3.4.0</code></dd>\n",
       "              <dt>Master</dt>\n",
       "                <dd><code>local[*]</code></dd>\n",
       "              <dt>AppName</dt>\n",
       "                <dd><code>pyspark-shell</code></dd>\n",
       "            </dl>\n",
       "        </div>\n",
       "        \n",
       "            </div>\n",
       "        "
      ],
      "text/plain": [
       "<pyspark.sql.session.SparkSession at 0x7fecdd9682b0>"
      ]
     },
     "execution_count": 6,
     "metadata": {},
     "output_type": "execute_result"
    }
   ],
   "source": [
    "from pyspark.sql import SparkSession\n",
    "\n",
    "spark = SparkSession.builder.getOrCreate()\n",
    "spark"
   ]
  },
  {
   "cell_type": "code",
   "execution_count": 7,
   "metadata": {},
   "outputs": [
    {
     "name": "stderr",
     "output_type": "stream",
     "text": [
      "                                                                                \r"
     ]
    },
    {
     "name": "stdout",
     "output_type": "stream",
     "text": [
      "+------------+-----------+------------+-----------+------+\n",
      "|sepal_length|sepal_width|petal_length|petal_width|target|\n",
      "+------------+-----------+------------+-----------+------+\n",
      "|         5.1|        3.5|         1.4|        0.2|     0|\n",
      "|         4.9|        3.0|         1.4|        0.2|     0|\n",
      "|         4.7|        3.2|         1.3|        0.2|     0|\n",
      "|         4.6|        3.1|         1.5|        0.2|     0|\n",
      "|         5.0|        3.6|         1.4|        0.2|     0|\n",
      "|         5.4|        3.9|         1.7|        0.4|     0|\n",
      "|         4.6|        3.4|         1.4|        0.3|     0|\n",
      "|         5.0|        3.4|         1.5|        0.2|     0|\n",
      "|         4.4|        2.9|         1.4|        0.2|     0|\n",
      "|         4.9|        3.1|         1.5|        0.1|     0|\n",
      "+------------+-----------+------------+-----------+------+\n",
      "\n"
     ]
    },
    {
     "data": {
      "text/plain": [
       "(pyspark.sql.dataframe.DataFrame, None)"
      ]
     },
     "execution_count": 7,
     "metadata": {},
     "output_type": "execute_result"
    }
   ],
   "source": [
    "iris_sdf = spark.createDataFrame(iris_pdf)\n",
    "type(iris_sdf), iris_sdf.limit(10).show()"
   ]
  },
  {
   "cell_type": "code",
   "execution_count": 8,
   "metadata": {},
   "outputs": [
    {
     "name": "stderr",
     "output_type": "stream",
     "text": [
      "                                                                                \r"
     ]
    },
    {
     "data": {
      "text/plain": [
       "(150, 125, 25)"
      ]
     },
     "execution_count": 8,
     "metadata": {},
     "output_type": "execute_result"
    }
   ],
   "source": [
    "train_sdf, test_sdf = iris_sdf.randomSplit([0.8, 0.2], seed=42)\n",
    "train_sdf.cache()\n",
    "iris_sdf.count(), train_sdf.count(), test_sdf.count()"
   ]
  },
  {
   "cell_type": "code",
   "execution_count": 9,
   "metadata": {},
   "outputs": [
    {
     "name": "stdout",
     "output_type": "stream",
     "text": [
      "+------------+-----------+------------+-----------+------+\n",
      "|sepal_length|sepal_width|petal_length|petal_width|target|\n",
      "+------------+-----------+------------+-----------+------+\n",
      "|         4.6|        3.1|         1.5|        0.2|     0|\n",
      "|         4.7|        3.2|         1.3|        0.2|     0|\n",
      "|         5.0|        3.6|         1.4|        0.2|     0|\n",
      "|         5.1|        3.5|         1.4|        0.2|     0|\n",
      "|         5.4|        3.9|         1.7|        0.4|     0|\n",
      "|         4.6|        3.4|         1.4|        0.3|     0|\n",
      "|         4.8|        3.4|         1.6|        0.2|     0|\n",
      "|         4.9|        3.1|         1.5|        0.1|     0|\n",
      "|         5.0|        3.4|         1.5|        0.2|     0|\n",
      "|         4.3|        3.0|         1.1|        0.1|     0|\n",
      "|         5.1|        3.5|         1.4|        0.3|     0|\n",
      "|         5.4|        3.9|         1.3|        0.4|     0|\n",
      "|         5.7|        4.4|         1.5|        0.4|     0|\n",
      "|         5.8|        4.0|         1.2|        0.2|     0|\n",
      "|         4.6|        3.6|         1.0|        0.2|     0|\n",
      "|         5.1|        3.3|         1.7|        0.5|     0|\n",
      "|         5.1|        3.7|         1.5|        0.4|     0|\n",
      "|         5.1|        3.8|         1.5|        0.3|     0|\n",
      "|         5.4|        3.4|         1.7|        0.2|     0|\n",
      "|         5.7|        3.8|         1.7|        0.3|     0|\n",
      "+------------+-----------+------------+-----------+------+\n",
      "only showing top 20 rows\n",
      "\n"
     ]
    }
   ],
   "source": [
    "train_sdf.show()"
   ]
  },
  {
   "cell_type": "code",
   "execution_count": 10,
   "metadata": {},
   "outputs": [
    {
     "name": "stdout",
     "output_type": "stream",
     "text": [
      "+------------+-----------+------------+-----------+------+-----------------+\n",
      "|sepal_length|sepal_width|petal_length|petal_width|target|         features|\n",
      "+------------+-----------+------------+-----------+------+-----------------+\n",
      "|         4.6|        3.1|         1.5|        0.2|     0|[4.6,3.1,1.5,0.2]|\n",
      "|         4.7|        3.2|         1.3|        0.2|     0|[4.7,3.2,1.3,0.2]|\n",
      "|         5.0|        3.6|         1.4|        0.2|     0|[5.0,3.6,1.4,0.2]|\n",
      "|         5.1|        3.5|         1.4|        0.2|     0|[5.1,3.5,1.4,0.2]|\n",
      "|         5.4|        3.9|         1.7|        0.4|     0|[5.4,3.9,1.7,0.4]|\n",
      "|         4.6|        3.4|         1.4|        0.3|     0|[4.6,3.4,1.4,0.3]|\n",
      "|         4.8|        3.4|         1.6|        0.2|     0|[4.8,3.4,1.6,0.2]|\n",
      "|         4.9|        3.1|         1.5|        0.1|     0|[4.9,3.1,1.5,0.1]|\n",
      "|         5.0|        3.4|         1.5|        0.2|     0|[5.0,3.4,1.5,0.2]|\n",
      "|         4.3|        3.0|         1.1|        0.1|     0|[4.3,3.0,1.1,0.1]|\n",
      "|         5.1|        3.5|         1.4|        0.3|     0|[5.1,3.5,1.4,0.3]|\n",
      "|         5.4|        3.9|         1.3|        0.4|     0|[5.4,3.9,1.3,0.4]|\n",
      "|         5.7|        4.4|         1.5|        0.4|     0|[5.7,4.4,1.5,0.4]|\n",
      "|         5.8|        4.0|         1.2|        0.2|     0|[5.8,4.0,1.2,0.2]|\n",
      "|         4.6|        3.6|         1.0|        0.2|     0|[4.6,3.6,1.0,0.2]|\n",
      "|         5.1|        3.3|         1.7|        0.5|     0|[5.1,3.3,1.7,0.5]|\n",
      "|         5.1|        3.7|         1.5|        0.4|     0|[5.1,3.7,1.5,0.4]|\n",
      "|         5.1|        3.8|         1.5|        0.3|     0|[5.1,3.8,1.5,0.3]|\n",
      "|         5.4|        3.4|         1.7|        0.2|     0|[5.4,3.4,1.7,0.2]|\n",
      "|         5.7|        3.8|         1.7|        0.3|     0|[5.7,3.8,1.7,0.3]|\n",
      "+------------+-----------+------------+-----------+------+-----------------+\n",
      "only showing top 20 rows\n",
      "\n",
      "root\n",
      " |-- sepal_length: double (nullable = true)\n",
      " |-- sepal_width: double (nullable = true)\n",
      " |-- petal_length: double (nullable = true)\n",
      " |-- petal_width: double (nullable = true)\n",
      " |-- target: long (nullable = true)\n",
      " |-- features: vector (nullable = true)\n",
      "\n"
     ]
    },
    {
     "data": {
      "text/plain": [
       "(pyspark.sql.dataframe.DataFrame, None, None)"
      ]
     },
     "execution_count": 10,
     "metadata": {},
     "output_type": "execute_result"
    }
   ],
   "source": [
    "from pyspark.ml.feature import VectorAssembler\n",
    "\n",
    "vec_assembler = VectorAssembler(inputCols=iris_columns, outputCol='features')\n",
    "train_feautre_vector_df = vec_assembler.transform(train_sdf)\n",
    "type(train_feautre_vector_df), train_feautre_vector_df.show(), train_feautre_vector_df.printSchema()"
   ]
  },
  {
   "cell_type": "code",
   "execution_count": 11,
   "metadata": {},
   "outputs": [
    {
     "data": {
      "text/plain": [
       "(pyspark.ml.classification.DecisionTreeClassifier,\n",
       " DecisionTreeClassifier_c63967842092,\n",
       " pyspark.ml.classification.DecisionTreeClassificationModel,\n",
       " DecisionTreeClassificationModel: uid=DecisionTreeClassifier_c63967842092, depth=5, numNodes=13, numClasses=3, numFeatures=4)"
      ]
     },
     "execution_count": 11,
     "metadata": {},
     "output_type": "execute_result"
    }
   ],
   "source": [
    "from pyspark.ml.classification import DecisionTreeClassifier\n",
    "\n",
    "dt = DecisionTreeClassifier(featuresCol='features', labelCol='target', maxDepth=5)\n",
    "dt_model = dt.fit(train_feautre_vector_df)\n",
    "type(dt), dt, type(dt_model), dt_model"
   ]
  },
  {
   "cell_type": "code",
   "execution_count": 12,
   "metadata": {},
   "outputs": [
    {
     "name": "stdout",
     "output_type": "stream",
     "text": [
      "+------------+-----------+------------+-----------+------+-----------------+--------------+-------------+----------+\n",
      "|sepal_length|sepal_width|petal_length|petal_width|target|         features| rawPrediction|  probability|prediction|\n",
      "+------------+-----------+------------+-----------+------+-----------------+--------------+-------------+----------+\n",
      "|         4.9|        3.0|         1.4|        0.2|     0|[4.9,3.0,1.4,0.2]|[42.0,0.0,0.0]|[1.0,0.0,0.0]|       0.0|\n",
      "|         4.4|        2.9|         1.4|        0.2|     0|[4.4,2.9,1.4,0.2]|[42.0,0.0,0.0]|[1.0,0.0,0.0]|       0.0|\n",
      "|         5.4|        3.7|         1.5|        0.2|     0|[5.4,3.7,1.5,0.2]|[42.0,0.0,0.0]|[1.0,0.0,0.0]|       0.0|\n",
      "|         4.8|        3.0|         1.4|        0.1|     0|[4.8,3.0,1.4,0.1]|[42.0,0.0,0.0]|[1.0,0.0,0.0]|       0.0|\n",
      "|         5.0|        3.2|         1.2|        0.2|     0|[5.0,3.2,1.2,0.2]|[42.0,0.0,0.0]|[1.0,0.0,0.0]|       0.0|\n",
      "|         5.5|        4.2|         1.4|        0.2|     0|[5.5,4.2,1.4,0.2]|[42.0,0.0,0.0]|[1.0,0.0,0.0]|       0.0|\n",
      "|         5.1|        3.4|         1.5|        0.2|     0|[5.1,3.4,1.5,0.2]|[42.0,0.0,0.0]|[1.0,0.0,0.0]|       0.0|\n",
      "|         4.8|        3.0|         1.4|        0.3|     0|[4.8,3.0,1.4,0.3]|[42.0,0.0,0.0]|[1.0,0.0,0.0]|       0.0|\n",
      "|         5.6|        2.5|         3.9|        1.1|     1|[5.6,2.5,3.9,1.1]|[0.0,41.0,0.0]|[0.0,1.0,0.0]|       1.0|\n",
      "|         5.9|        3.2|         4.8|        1.8|     1|[5.9,3.2,4.8,1.8]|[0.0,0.0,35.0]|[0.0,0.0,1.0]|       2.0|\n",
      "|         5.5|        2.4|         3.7|        1.0|     1|[5.5,2.4,3.7,1.0]|[0.0,41.0,0.0]|[0.0,1.0,0.0]|       1.0|\n",
      "|         5.5|        2.4|         3.8|        1.1|     1|[5.5,2.4,3.8,1.1]|[0.0,41.0,0.0]|[0.0,1.0,0.0]|       1.0|\n",
      "|         5.4|        3.0|         4.5|        1.5|     1|[5.4,3.0,4.5,1.5]|[0.0,41.0,0.0]|[0.0,1.0,0.0]|       1.0|\n",
      "|         6.7|        3.1|         4.7|        1.5|     1|[6.7,3.1,4.7,1.5]|[0.0,41.0,0.0]|[0.0,1.0,0.0]|       1.0|\n",
      "|         5.7|        2.8|         4.1|        1.3|     1|[5.7,2.8,4.1,1.3]|[0.0,41.0,0.0]|[0.0,1.0,0.0]|       1.0|\n",
      "|         5.8|        2.7|         5.1|        1.9|     2|[5.8,2.7,5.1,1.9]|[0.0,0.0,35.0]|[0.0,0.0,1.0]|       2.0|\n",
      "|         6.5|        3.0|         5.8|        2.2|     2|[6.5,3.0,5.8,2.2]|[0.0,0.0,35.0]|[0.0,0.0,1.0]|       2.0|\n",
      "|         5.7|        2.5|         5.0|        2.0|     2|[5.7,2.5,5.0,2.0]|[0.0,0.0,35.0]|[0.0,0.0,1.0]|       2.0|\n",
      "|         6.5|        3.2|         5.1|        2.0|     2|[6.5,3.2,5.1,2.0]|[0.0,0.0,35.0]|[0.0,0.0,1.0]|       2.0|\n",
      "|         6.8|        3.0|         5.5|        2.1|     2|[6.8,3.0,5.5,2.1]|[0.0,0.0,35.0]|[0.0,0.0,1.0]|       2.0|\n",
      "+------------+-----------+------------+-----------+------+-----------------+--------------+-------------+----------+\n",
      "only showing top 20 rows\n",
      "\n"
     ]
    },
    {
     "name": "stderr",
     "output_type": "stream",
     "text": [
      "                                                                                \r"
     ]
    },
    {
     "data": {
      "text/plain": [
       "(pyspark.sql.dataframe.DataFrame, None)"
      ]
     },
     "execution_count": 12,
     "metadata": {},
     "output_type": "execute_result"
    }
   ],
   "source": [
    "test_feature_vector_df = vec_assembler.transform(test_sdf)\n",
    "pred = dt_model.transform(test_feature_vector_df)\n",
    "type(pred), pred.show()"
   ]
  },
  {
   "cell_type": "code",
   "execution_count": 13,
   "metadata": {},
   "outputs": [
    {
     "name": "stderr",
     "output_type": "stream",
     "text": [
      "                                                                                \r"
     ]
    },
    {
     "data": {
      "text/plain": [
       "0.96"
      ]
     },
     "execution_count": 13,
     "metadata": {},
     "output_type": "execute_result"
    }
   ],
   "source": [
    "from pyspark.ml.evaluation import MulticlassClassificationEvaluator\n",
    "\n",
    "evaluator_accuracy = MulticlassClassificationEvaluator(labelCol='target', predictionCol='prediction', metricName='accuracy')\n",
    "accuracy = evaluator_accuracy.evaluate(pred)\n",
    "accuracy"
   ]
  },
  {
   "cell_type": "code",
   "execution_count": 14,
   "metadata": {},
   "outputs": [
    {
     "name": "stderr",
     "output_type": "stream",
     "text": [
      "23/06/05 05:42:55 WARN InstanceBuilder: Failed to load implementation from:dev.ludovic.netlib.blas.JNIBLAS\n",
      "                                                                                \r"
     ]
    },
    {
     "name": "stdout",
     "output_type": "stream",
     "text": [
      "+------------+-----------+------------+-----------+------+-----------------+-----------------------------------------------------------+-----------------------------------------------------------------+----------+\n",
      "|sepal_length|sepal_width|petal_length|petal_width|target|features         |rawPrediction                                              |probability                                                      |prediction|\n",
      "+------------+-----------+------------+-----------+------+-----------------+-----------------------------------------------------------+-----------------------------------------------------------------+----------+\n",
      "|4.9         |3.0        |1.4         |0.2        |0     |[4.9,3.0,1.4,0.2]|[15.48225282549579,8.023363630935137,-23.50561645643093]   |[0.9994240359569829,5.759640430169748E-4,1.1682433017405761E-17] |0.0       |\n",
      "|4.4         |2.9        |1.4         |0.2        |0     |[4.4,2.9,1.4,0.2]|[16.842849444821244,6.515549924162652,-23.3583993689839]   |[0.9999672737237427,3.2726276257276276E-5,3.4738036045492054E-18]|0.0       |\n",
      "|5.4         |3.7        |1.5         |0.2        |0     |[5.4,3.7,1.5,0.2]|[17.610813622116,8.57434291603897,-26.185156538154974]     |[0.9998810241098361,1.1897589016377603E-4,9.541137533283797E-20] |0.0       |\n",
      "|4.8         |3.0        |1.4         |0.1        |0     |[4.8,3.0,1.4,0.1]|[16.555073402517962,7.967609380666332,-24.522682783184294] |[0.9998136064823256,1.8639351767433558E-4,1.4456934133583876E-18]|0.0       |\n",
      "|5.0         |3.2        |1.2         |0.2        |0     |[5.0,3.2,1.2,0.2]|[16.959577863236497,8.249557371546302,-25.209135234782806] |[0.9998351023208799,1.6489767912011724E-4,4.856115107182773E-19] |0.0       |\n",
      "|5.5         |4.2        |1.4         |0.2        |0     |[5.5,4.2,1.4,0.2]|[20.679957120694304,8.276101766303363,-28.956058886997674] |[0.9999958972761743,4.102723825619528E-6,2.7755583535489266E-22] |0.0       |\n",
      "|5.1         |3.4        |1.5         |0.2        |0     |[5.1,3.4,1.5,0.2]|[16.90930042962482,8.01557431703298,-24.9248747466578]     |[0.9998627715291174,1.3722847088253105E-4,6.7856110807478725E-19]|0.0       |\n",
      "|4.8         |3.0        |1.4         |0.3        |0     |[4.8,3.0,1.4,0.3]|[15.20664942355155,7.418339127652029,-22.62498855120358]   |[0.9995856190187586,4.143809812412546E-4,3.713200374064985E-17]  |0.0       |\n",
      "|5.6         |2.5        |3.9         |1.1        |1     |[5.6,2.5,3.9,1.1]|[-4.176159141234528,6.284155039716472,-2.107995898481942]  |[2.8643917561338172E-5,0.9997447746598731,2.2658142256543902E-4] |1.0       |\n",
      "|5.9         |3.2        |4.8         |1.8        |1     |[5.9,3.2,4.8,1.8]|[-8.41402905008266,3.5156268135191553,4.898402236563506]   |[1.3221108907270763E-6,0.20056335935105774,0.7994353185380516]   |2.0       |\n",
      "|5.5         |2.4        |3.7         |1.0        |1     |[5.5,2.4,3.7,1.0]|[-3.124743894040769,6.556604684604757,-3.4318607905639915] |[6.243048022854321E-5,0.9998916478678717,4.5921651899841234E-5]  |1.0       |\n",
      "|5.5         |2.4        |3.8         |1.1        |1     |[5.5,2.4,3.8,1.1]|[-4.104476377794452,6.189934199072708,-2.0854578212782577] |[3.3811855414984633E-5,0.9997115534241203,2.546347204648017E-4]  |1.0       |\n",
      "|5.4         |3.0        |4.5         |1.5        |1     |[5.4,3.0,4.5,1.5]|[-4.746681297865511,3.2519577404501074,1.4947235574154014] |[2.8641122355371165E-4,0.8526186531369304,0.1470949356395159]    |1.0       |\n",
      "|6.7         |3.1        |4.7         |1.5        |1     |[6.7,3.1,4.7,1.5]|[-9.907187606043621,7.218815743380443,2.688371862663182]   |[3.610907453023185E-8,0.9893389543647532,0.010661009526172301]   |1.0       |\n",
      "|5.7         |2.8        |4.1         |1.3        |1     |[5.7,2.8,4.1,1.3]|[-4.636893741172791,5.448803914106456,-0.8119101729336649] |[4.1590145479440025E-5,0.9980522483414022,0.0019061615131184349] |1.0       |\n",
      "|5.8         |2.7        |5.1         |1.9        |2     |[5.8,2.7,5.1,1.9]|[-12.768425526685121,3.355162118697814,9.413263407987309]  |[2.320600267977777E-10,0.0023333800528429097,0.9976666197150971] |2.0       |\n",
      "|6.5         |3.0        |5.8         |2.2        |2     |[6.5,3.0,5.8,2.2]|[-17.822626112692753,3.7673353321118883,14.055290780580869]|[1.430809500800362E-14,3.403948142937607E-5,0.9999659605185565]  |2.0       |\n",
      "|5.7         |2.5        |5.0         |2.0        |2     |[5.7,2.5,5.0,2.0]|[-14.003401071097606,3.130439328654189,10.872961742443419] |[1.5708852720437694E-11,4.3378727439437326E-4,0.9995662127098967]|2.0       |\n",
      "|6.5         |3.2        |5.1         |2.0        |2     |[6.5,3.2,5.1,2.0]|[-13.070666037094277,4.672586744085892,8.39807929300839]   |[4.6333966816265583E-10,0.023534027531235072,0.9764659720054253] |2.0       |\n",
      "|6.8         |3.0        |5.5         |2.1        |2     |[6.8,3.0,5.5,2.1]|[-17.427678403015,5.309244666021598,12.118433736993406]    |[1.471660109763035E-13,0.0011023709055891615,0.9988976290942636] |2.0       |\n",
      "+------------+-----------+------------+-----------+------+-----------------+-----------------------------------------------------------+-----------------------------------------------------------------+----------+\n",
      "only showing top 20 rows\n",
      "\n"
     ]
    }
   ],
   "source": [
    "from pyspark.ml.classification import LogisticRegression\n",
    "\n",
    "lr = LogisticRegression(featuresCol='features', labelCol='target', maxIter=10)\n",
    "\n",
    "lr_model = lr.fit(train_feautre_vector_df)\n",
    "preds = lr_model.transform(test_feature_vector_df)\n",
    "preds.show(truncate=False)"
   ]
  },
  {
   "cell_type": "code",
   "execution_count": 15,
   "metadata": {},
   "outputs": [
    {
     "data": {
      "text/plain": [
       "0.96"
      ]
     },
     "execution_count": 15,
     "metadata": {},
     "output_type": "execute_result"
    }
   ],
   "source": [
    "evaluator_accuracy = MulticlassClassificationEvaluator(labelCol='target', predictionCol='prediction', metricName='accuracy')\n",
    "accuracy = evaluator_accuracy.evaluate(preds)\n",
    "accuracy"
   ]
  },
  {
   "cell_type": "code",
   "execution_count": 18,
   "metadata": {},
   "outputs": [],
   "source": [
    "from pyspark.ml import Pipeline\n",
    "from pyspark.ml.feature import VectorAssembler\n",
    "from pyspark.ml.classification import DecisionTreeClassifier"
   ]
  },
  {
   "cell_type": "code",
   "execution_count": 19,
   "metadata": {},
   "outputs": [
    {
     "data": {
      "text/plain": [
       "['sepal_length', 'sepal_width', 'petal_length', 'petal_width']"
      ]
     },
     "execution_count": 19,
     "metadata": {},
     "output_type": "execute_result"
    }
   ],
   "source": [
    "iris_columns"
   ]
  },
  {
   "cell_type": "code",
   "execution_count": 22,
   "metadata": {},
   "outputs": [
    {
     "data": {
      "text/plain": [
       "(pyspark.ml.pipeline.Pipeline, pyspark.ml.pipeline.PipelineModel)"
      ]
     },
     "execution_count": 22,
     "metadata": {},
     "output_type": "execute_result"
    }
   ],
   "source": [
    "stage_1 = VectorAssembler(inputCols=iris_columns, outputCol='features')\n",
    "stage_2 = DecisionTreeClassifier(featuresCol='features', labelCol='target', maxDepth=5)\n",
    "\n",
    "pipeline = Pipeline(stages=[stage_1, stage_2])\n",
    "pipeline_model = pipeline.fit(train_sdf)\n",
    "type(pipeline), type(pipeline_model)"
   ]
  },
  {
   "cell_type": "code",
   "execution_count": 23,
   "metadata": {},
   "outputs": [
    {
     "name": "stdout",
     "output_type": "stream",
     "text": [
      "+------------+-----------+------------+-----------+------+-----------------+--------------+-------------+----------+\n",
      "|sepal_length|sepal_width|petal_length|petal_width|target|         features| rawPrediction|  probability|prediction|\n",
      "+------------+-----------+------------+-----------+------+-----------------+--------------+-------------+----------+\n",
      "|         4.9|        3.0|         1.4|        0.2|     0|[4.9,3.0,1.4,0.2]|[42.0,0.0,0.0]|[1.0,0.0,0.0]|       0.0|\n",
      "|         4.4|        2.9|         1.4|        0.2|     0|[4.4,2.9,1.4,0.2]|[42.0,0.0,0.0]|[1.0,0.0,0.0]|       0.0|\n",
      "|         5.4|        3.7|         1.5|        0.2|     0|[5.4,3.7,1.5,0.2]|[42.0,0.0,0.0]|[1.0,0.0,0.0]|       0.0|\n",
      "|         4.8|        3.0|         1.4|        0.1|     0|[4.8,3.0,1.4,0.1]|[42.0,0.0,0.0]|[1.0,0.0,0.0]|       0.0|\n",
      "|         5.0|        3.2|         1.2|        0.2|     0|[5.0,3.2,1.2,0.2]|[42.0,0.0,0.0]|[1.0,0.0,0.0]|       0.0|\n",
      "|         5.5|        4.2|         1.4|        0.2|     0|[5.5,4.2,1.4,0.2]|[42.0,0.0,0.0]|[1.0,0.0,0.0]|       0.0|\n",
      "|         5.1|        3.4|         1.5|        0.2|     0|[5.1,3.4,1.5,0.2]|[42.0,0.0,0.0]|[1.0,0.0,0.0]|       0.0|\n",
      "|         4.8|        3.0|         1.4|        0.3|     0|[4.8,3.0,1.4,0.3]|[42.0,0.0,0.0]|[1.0,0.0,0.0]|       0.0|\n",
      "|         5.6|        2.5|         3.9|        1.1|     1|[5.6,2.5,3.9,1.1]|[0.0,41.0,0.0]|[0.0,1.0,0.0]|       1.0|\n",
      "|         5.9|        3.2|         4.8|        1.8|     1|[5.9,3.2,4.8,1.8]|[0.0,0.0,35.0]|[0.0,0.0,1.0]|       2.0|\n",
      "|         5.5|        2.4|         3.7|        1.0|     1|[5.5,2.4,3.7,1.0]|[0.0,41.0,0.0]|[0.0,1.0,0.0]|       1.0|\n",
      "|         5.5|        2.4|         3.8|        1.1|     1|[5.5,2.4,3.8,1.1]|[0.0,41.0,0.0]|[0.0,1.0,0.0]|       1.0|\n",
      "|         5.4|        3.0|         4.5|        1.5|     1|[5.4,3.0,4.5,1.5]|[0.0,41.0,0.0]|[0.0,1.0,0.0]|       1.0|\n",
      "|         6.7|        3.1|         4.7|        1.5|     1|[6.7,3.1,4.7,1.5]|[0.0,41.0,0.0]|[0.0,1.0,0.0]|       1.0|\n",
      "|         5.7|        2.8|         4.1|        1.3|     1|[5.7,2.8,4.1,1.3]|[0.0,41.0,0.0]|[0.0,1.0,0.0]|       1.0|\n",
      "|         5.8|        2.7|         5.1|        1.9|     2|[5.8,2.7,5.1,1.9]|[0.0,0.0,35.0]|[0.0,0.0,1.0]|       2.0|\n",
      "|         6.5|        3.0|         5.8|        2.2|     2|[6.5,3.0,5.8,2.2]|[0.0,0.0,35.0]|[0.0,0.0,1.0]|       2.0|\n",
      "|         5.7|        2.5|         5.0|        2.0|     2|[5.7,2.5,5.0,2.0]|[0.0,0.0,35.0]|[0.0,0.0,1.0]|       2.0|\n",
      "|         6.5|        3.2|         5.1|        2.0|     2|[6.5,3.2,5.1,2.0]|[0.0,0.0,35.0]|[0.0,0.0,1.0]|       2.0|\n",
      "|         6.8|        3.0|         5.5|        2.1|     2|[6.8,3.0,5.5,2.1]|[0.0,0.0,35.0]|[0.0,0.0,1.0]|       2.0|\n",
      "+------------+-----------+------------+-----------+------+-----------------+--------------+-------------+----------+\n",
      "only showing top 20 rows\n",
      "\n"
     ]
    }
   ],
   "source": [
    "predictions = pipeline_model.transform(test_sdf)\n",
    "predictions.show()"
   ]
  },
  {
   "cell_type": "code",
   "execution_count": 24,
   "metadata": {},
   "outputs": [
    {
     "data": {
      "text/plain": [
       "0.96"
      ]
     },
     "execution_count": 24,
     "metadata": {},
     "output_type": "execute_result"
    }
   ],
   "source": [
    "evaluator_accuracy = MulticlassClassificationEvaluator(labelCol='target', predictionCol='prediction', metricName='accuracy')\n",
    "accuracy = evaluator_accuracy.evaluate(predictions)\n",
    "accuracy"
   ]
  },
  {
   "cell_type": "code",
   "execution_count": 25,
   "metadata": {},
   "outputs": [
    {
     "data": {
      "text/plain": [
       "[VectorAssembler_ba1fbc117635,\n",
       " DecisionTreeClassificationModel: uid=DecisionTreeClassifier_3ae85c253f5b, depth=5, numNodes=13, numClasses=3, numFeatures=4]"
      ]
     },
     "execution_count": 25,
     "metadata": {},
     "output_type": "execute_result"
    }
   ],
   "source": [
    "pipeline_model.stages"
   ]
  },
  {
   "cell_type": "code",
   "execution_count": 28,
   "metadata": {},
   "outputs": [
    {
     "data": {
      "text/plain": [
       "(VectorAssembler_ba1fbc117635,\n",
       " DecisionTreeClassificationModel: uid=DecisionTreeClassifier_3ae85c253f5b, depth=5, numNodes=13, numClasses=3, numFeatures=4)"
      ]
     },
     "execution_count": 28,
     "metadata": {},
     "output_type": "execute_result"
    }
   ],
   "source": [
    "vec_assembler = pipeline_model.stages[0]\n",
    "dt_model = pipeline_model.stages[-1]\n",
    "\n",
    "vec_assembler, dt_model"
   ]
  },
  {
   "cell_type": "code",
   "execution_count": 29,
   "metadata": {},
   "outputs": [
    {
     "name": "stderr",
     "output_type": "stream",
     "text": [
      "[Stage 114:==============================================>        (16 + 3) / 19]\r"
     ]
    },
    {
     "name": "stdout",
     "output_type": "stream",
     "text": [
      "+------------+-----------+------------+-----------+------+-----------------+--------------+-------------+----------+\n",
      "|sepal_length|sepal_width|petal_length|petal_width|target|         features| rawPrediction|  probability|prediction|\n",
      "+------------+-----------+------------+-----------+------+-----------------+--------------+-------------+----------+\n",
      "|         4.9|        3.0|         1.4|        0.2|     0|[4.9,3.0,1.4,0.2]|[42.0,0.0,0.0]|[1.0,0.0,0.0]|       0.0|\n",
      "|         4.4|        2.9|         1.4|        0.2|     0|[4.4,2.9,1.4,0.2]|[42.0,0.0,0.0]|[1.0,0.0,0.0]|       0.0|\n",
      "|         5.4|        3.7|         1.5|        0.2|     0|[5.4,3.7,1.5,0.2]|[42.0,0.0,0.0]|[1.0,0.0,0.0]|       0.0|\n",
      "|         4.8|        3.0|         1.4|        0.1|     0|[4.8,3.0,1.4,0.1]|[42.0,0.0,0.0]|[1.0,0.0,0.0]|       0.0|\n",
      "|         5.0|        3.2|         1.2|        0.2|     0|[5.0,3.2,1.2,0.2]|[42.0,0.0,0.0]|[1.0,0.0,0.0]|       0.0|\n",
      "|         5.5|        4.2|         1.4|        0.2|     0|[5.5,4.2,1.4,0.2]|[42.0,0.0,0.0]|[1.0,0.0,0.0]|       0.0|\n",
      "|         5.1|        3.4|         1.5|        0.2|     0|[5.1,3.4,1.5,0.2]|[42.0,0.0,0.0]|[1.0,0.0,0.0]|       0.0|\n",
      "|         4.8|        3.0|         1.4|        0.3|     0|[4.8,3.0,1.4,0.3]|[42.0,0.0,0.0]|[1.0,0.0,0.0]|       0.0|\n",
      "|         5.6|        2.5|         3.9|        1.1|     1|[5.6,2.5,3.9,1.1]|[0.0,41.0,0.0]|[0.0,1.0,0.0]|       1.0|\n",
      "|         5.9|        3.2|         4.8|        1.8|     1|[5.9,3.2,4.8,1.8]|[0.0,0.0,35.0]|[0.0,0.0,1.0]|       2.0|\n",
      "|         5.5|        2.4|         3.7|        1.0|     1|[5.5,2.4,3.7,1.0]|[0.0,41.0,0.0]|[0.0,1.0,0.0]|       1.0|\n",
      "|         5.5|        2.4|         3.8|        1.1|     1|[5.5,2.4,3.8,1.1]|[0.0,41.0,0.0]|[0.0,1.0,0.0]|       1.0|\n",
      "|         5.4|        3.0|         4.5|        1.5|     1|[5.4,3.0,4.5,1.5]|[0.0,41.0,0.0]|[0.0,1.0,0.0]|       1.0|\n",
      "|         6.7|        3.1|         4.7|        1.5|     1|[6.7,3.1,4.7,1.5]|[0.0,41.0,0.0]|[0.0,1.0,0.0]|       1.0|\n",
      "|         5.7|        2.8|         4.1|        1.3|     1|[5.7,2.8,4.1,1.3]|[0.0,41.0,0.0]|[0.0,1.0,0.0]|       1.0|\n",
      "|         5.8|        2.7|         5.1|        1.9|     2|[5.8,2.7,5.1,1.9]|[0.0,0.0,35.0]|[0.0,0.0,1.0]|       2.0|\n",
      "|         6.5|        3.0|         5.8|        2.2|     2|[6.5,3.0,5.8,2.2]|[0.0,0.0,35.0]|[0.0,0.0,1.0]|       2.0|\n",
      "|         5.7|        2.5|         5.0|        2.0|     2|[5.7,2.5,5.0,2.0]|[0.0,0.0,35.0]|[0.0,0.0,1.0]|       2.0|\n",
      "|         6.5|        3.2|         5.1|        2.0|     2|[6.5,3.2,5.1,2.0]|[0.0,0.0,35.0]|[0.0,0.0,1.0]|       2.0|\n",
      "|         6.8|        3.0|         5.5|        2.1|     2|[6.8,3.0,5.5,2.1]|[0.0,0.0,35.0]|[0.0,0.0,1.0]|       2.0|\n",
      "+------------+-----------+------------+-----------+------+-----------------+--------------+-------------+----------+\n",
      "only showing top 20 rows\n",
      "\n"
     ]
    },
    {
     "name": "stderr",
     "output_type": "stream",
     "text": [
      "                                                                                \r"
     ]
    },
    {
     "data": {
      "text/plain": [
       "(None, 0.96)"
      ]
     },
     "execution_count": 29,
     "metadata": {},
     "output_type": "execute_result"
    }
   ],
   "source": [
    "test_feature_vector_df = vec_assembler.transform(test_sdf)\n",
    "predictions = dt_model.transform(test_feature_vector_df)\n",
    "accuracy = evaluator_accuracy.evaluate(predictions)\n",
    "predictions.show(), accuracy"
   ]
  },
  {
   "cell_type": "code",
   "execution_count": null,
   "metadata": {},
   "outputs": [],
   "source": []
  }
 ],
 "metadata": {
  "kernelspec": {
   "display_name": ".venv",
   "language": "python",
   "name": "python3"
  },
  "language_info": {
   "codemirror_mode": {
    "name": "ipython",
    "version": 3
   },
   "file_extension": ".py",
   "mimetype": "text/x-python",
   "name": "python",
   "nbconvert_exporter": "python",
   "pygments_lexer": "ipython3",
   "version": "3.8.13"
  },
  "orig_nbformat": 4
 },
 "nbformat": 4,
 "nbformat_minor": 2
}
