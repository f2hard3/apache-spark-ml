{
 "cells": [
  {
   "cell_type": "code",
   "execution_count": 167,
   "metadata": {},
   "outputs": [
    {
     "data": {
      "text/html": [
       "\n",
       "            <div>\n",
       "                <p><b>SparkSession - in-memory</b></p>\n",
       "                \n",
       "        <div>\n",
       "            <p><b>SparkContext</b></p>\n",
       "\n",
       "            <p><a href=\"http://bac044c6c4c0:4041\">Spark UI</a></p>\n",
       "\n",
       "            <dl>\n",
       "              <dt>Version</dt>\n",
       "                <dd><code>v3.4.0</code></dd>\n",
       "              <dt>Master</dt>\n",
       "                <dd><code>local[*]</code></dd>\n",
       "              <dt>AppName</dt>\n",
       "                <dd><code>pyspark-shell</code></dd>\n",
       "            </dl>\n",
       "        </div>\n",
       "        \n",
       "            </div>\n",
       "        "
      ],
      "text/plain": [
       "<pyspark.sql.session.SparkSession at 0x7f1e05cd2580>"
      ]
     },
     "execution_count": 167,
     "metadata": {},
     "output_type": "execute_result"
    }
   ],
   "source": [
    "from pyspark.sql import SparkSession\n",
    "import mlflow\n",
    "\n",
    "spark = (\n",
    "    SparkSession.builder.config(\"spark.jars.packages\", \"org.mlflow:mlflow-spark:1.11.0\")\n",
    "    .master(\"local[*]\")\n",
    "    .getOrCreate()\n",
    ")\n",
    "# mlflow.set_tracking_uri(\"http://127.0.0.1:5000\")\n",
    "# mlflow.pyspark.ml.autolog()\n",
    "\n",
    "spark"
   ]
  },
  {
   "cell_type": "code",
   "execution_count": 92,
   "metadata": {},
   "outputs": [
    {
     "name": "stdout",
     "output_type": "stream",
     "text": [
      "+-----------+--------+------+-------------------------------------------------------+------+----+-----+-----+----------------+-------+-----+--------+\n",
      "|PassengerId|Survived|Pclass|Name                                                   |Sex   |Age |SibSp|Parch|Ticket          |Fare   |Cabin|Embarked|\n",
      "+-----------+--------+------+-------------------------------------------------------+------+----+-----+-----+----------------+-------+-----+--------+\n",
      "|1          |0       |3     |Braund, Mr. Owen Harris                                |male  |22.0|1    |0    |A/5 21171       |7.25   |null |S       |\n",
      "|2          |1       |1     |Cumings, Mrs. John Bradley (Florence Briggs Thayer)    |female|38.0|1    |0    |PC 17599        |71.2833|C85  |C       |\n",
      "|3          |1       |3     |Heikkinen, Miss. Laina                                 |female|26.0|0    |0    |STON/O2. 3101282|7.925  |null |S       |\n",
      "|4          |1       |1     |Futrelle, Mrs. Jacques Heath (Lily May Peel)           |female|35.0|1    |0    |113803          |53.1   |C123 |S       |\n",
      "|5          |0       |3     |Allen, Mr. William Henry                               |male  |35.0|0    |0    |373450          |8.05   |null |S       |\n",
      "|6          |0       |3     |Moran, Mr. James                                       |male  |null|0    |0    |330877          |8.4583 |null |Q       |\n",
      "|7          |0       |1     |McCarthy, Mr. Timothy J                                |male  |54.0|0    |0    |17463           |51.8625|E46  |S       |\n",
      "|8          |0       |3     |Palsson, Master. Gosta Leonard                         |male  |2.0 |3    |1    |349909          |21.075 |null |S       |\n",
      "|9          |1       |3     |Johnson, Mrs. Oscar W (Elisabeth Vilhelmina Berg)      |female|27.0|0    |2    |347742          |11.1333|null |S       |\n",
      "|10         |1       |2     |Nasser, Mrs. Nicholas (Adele Achem)                    |female|14.0|1    |0    |237736          |30.0708|null |C       |\n",
      "|11         |1       |3     |Sandstrom, Miss. Marguerite Rut                        |female|4.0 |1    |1    |PP 9549         |16.7   |G6   |S       |\n",
      "|12         |1       |1     |Bonnell, Miss. Elizabeth                               |female|58.0|0    |0    |113783          |26.55  |C103 |S       |\n",
      "|13         |0       |3     |Saundercock, Mr. William Henry                         |male  |20.0|0    |0    |A/5. 2151       |8.05   |null |S       |\n",
      "|14         |0       |3     |Andersson, Mr. Anders Johan                            |male  |39.0|1    |5    |347082          |31.275 |null |S       |\n",
      "|15         |0       |3     |Vestrom, Miss. Hulda Amanda Adolfina                   |female|14.0|0    |0    |350406          |7.8542 |null |S       |\n",
      "|16         |1       |2     |Hewlett, Mrs. (Mary D Kingcome)                        |female|55.0|0    |0    |248706          |16.0   |null |S       |\n",
      "|17         |0       |3     |Rice, Master. Eugene                                   |male  |2.0 |4    |1    |382652          |29.125 |null |Q       |\n",
      "|18         |1       |2     |Williams, Mr. Charles Eugene                           |male  |null|0    |0    |244373          |13.0   |null |S       |\n",
      "|19         |0       |3     |Vander Planke, Mrs. Julius (Emelia Maria Vandemoortele)|female|31.0|1    |0    |345763          |18.0   |null |S       |\n",
      "|20         |1       |3     |Masselmani, Mrs. Fatima                                |female|null|0    |0    |2649            |7.225  |null |C       |\n",
      "+-----------+--------+------+-------------------------------------------------------+------+----+-----+-----+----------------+-------+-----+--------+\n",
      "only showing top 20 rows\n",
      "\n"
     ]
    }
   ],
   "source": [
    "titanic_sdf = spark.read.csv('data/titanic_train.csv', header=True, inferSchema=True)\n",
    "titanic_pdf = titanic_sdf.toPandas()\n",
    "titanic_sdf.show(truncate=False)"
   ]
  },
  {
   "cell_type": "code",
   "execution_count": 93,
   "metadata": {},
   "outputs": [
    {
     "name": "stdout",
     "output_type": "stream",
     "text": [
      "<class 'pandas.core.frame.DataFrame'>\n",
      "RangeIndex: 891 entries, 0 to 890\n",
      "Data columns (total 12 columns):\n",
      " #   Column       Non-Null Count  Dtype  \n",
      "---  ------       --------------  -----  \n",
      " 0   PassengerId  891 non-null    int32  \n",
      " 1   Survived     891 non-null    int32  \n",
      " 2   Pclass       891 non-null    int32  \n",
      " 3   Name         891 non-null    object \n",
      " 4   Sex          891 non-null    object \n",
      " 5   Age          714 non-null    float64\n",
      " 6   SibSp        891 non-null    int32  \n",
      " 7   Parch        891 non-null    int32  \n",
      " 8   Ticket       891 non-null    object \n",
      " 9   Fare         891 non-null    float64\n",
      " 10  Cabin        204 non-null    object \n",
      " 11  Embarked     889 non-null    object \n",
      "dtypes: float64(2), int32(5), object(5)\n",
      "memory usage: 66.3+ KB\n"
     ]
    }
   ],
   "source": [
    "titanic_pdf.info()"
   ]
  },
  {
   "cell_type": "code",
   "execution_count": 94,
   "metadata": {},
   "outputs": [
    {
     "name": "stdout",
     "output_type": "stream",
     "text": [
      "root\n",
      " |-- PassengerId: integer (nullable = true)\n",
      " |-- Survived: integer (nullable = true)\n",
      " |-- Pclass: integer (nullable = true)\n",
      " |-- Name: string (nullable = true)\n",
      " |-- Sex: string (nullable = true)\n",
      " |-- Age: double (nullable = true)\n",
      " |-- SibSp: integer (nullable = true)\n",
      " |-- Parch: integer (nullable = true)\n",
      " |-- Ticket: string (nullable = true)\n",
      " |-- Fare: double (nullable = true)\n",
      " |-- Cabin: string (nullable = true)\n",
      " |-- Embarked: string (nullable = true)\n",
      "\n"
     ]
    }
   ],
   "source": [
    "titanic_sdf.printSchema()"
   ]
  },
  {
   "cell_type": "code",
   "execution_count": 95,
   "metadata": {},
   "outputs": [
    {
     "name": "stdout",
     "output_type": "stream",
     "text": [
      "+-----------+--------+------+----+---+---+-----+-----+------+----+-----+--------+\n",
      "|PassengerId|Survived|Pclass|Name|Sex|Age|SibSp|Parch|Ticket|Fare|Cabin|Embarked|\n",
      "+-----------+--------+------+----+---+---+-----+-----+------+----+-----+--------+\n",
      "|          0|       0|     0|   0|  0|177|    0|    0|     0|   0|  687|       2|\n",
      "+-----------+--------+------+----+---+---+-----+-----+------+----+-----+--------+\n",
      "\n"
     ]
    }
   ],
   "source": [
    "import pyspark.sql.functions as F\n",
    "\n",
    "titanic_sdf.select([F.count(F.when(F.col(c).isNull() | F.isnan(c), c)).alias(c) for c in titanic_sdf.columns]).show()"
   ]
  },
  {
   "cell_type": "code",
   "execution_count": 96,
   "metadata": {},
   "outputs": [
    {
     "name": "stdout",
     "output_type": "stream",
     "text": [
      "+-------+-----------------+-------------------+------------------+------------------------------------------------+------+------------------+------------------+-------------------+------------------+-----------------+-----+--------+\n",
      "|summary|PassengerId      |Survived           |Pclass            |Name                                            |Sex   |Age               |SibSp             |Parch              |Ticket            |Fare             |Cabin|Embarked|\n",
      "+-------+-----------------+-------------------+------------------+------------------------------------------------+------+------------------+------------------+-------------------+------------------+-----------------+-----+--------+\n",
      "|count  |891              |891                |891               |891                                             |891   |714               |891               |891                |891               |891              |204  |889     |\n",
      "|mean   |446.0            |0.3838383838383838 |2.308641975308642 |null                                            |null  |29.69911764705882 |0.5230078563411896|0.38159371492704824|260318.54916792738|32.2042079685746 |null |null    |\n",
      "|stddev |257.3538420152301|0.48659245426485753|0.8360712409770491|null                                            |null  |14.526497332334035|1.1027434322934315|0.8060572211299488 |471609.26868834975|49.69342859718089|null |null    |\n",
      "|min    |1                |0                  |1                 |\"Andersson, Mr. August Edvard (\"\"Wennerstrom\"\")\"|female|0.42              |0                 |0                  |110152            |0.0              |A10  |C       |\n",
      "|max    |891              |1                  |3                 |van Melkebeke, Mr. Philemon                     |male  |80.0              |8                 |6                  |WE/P 5735         |512.3292         |T    |S       |\n",
      "+-------+-----------------+-------------------+------------------+------------------------------------------------+------+------------------+------------------+-------------------+------------------+-----------------+-----+--------+\n",
      "\n"
     ]
    }
   ],
   "source": [
    "titanic_sdf.describe().show(truncate=False)"
   ]
  },
  {
   "cell_type": "code",
   "execution_count": 97,
   "metadata": {},
   "outputs": [
    {
     "name": "stdout",
     "output_type": "stream",
     "text": [
      "+--------+-----+\n",
      "|Survived|count|\n",
      "+--------+-----+\n",
      "|       1|  342|\n",
      "|       0|  549|\n",
      "+--------+-----+\n",
      "\n"
     ]
    }
   ],
   "source": [
    "titanic_sdf.groupBy('Survived').count().show()"
   ]
  },
  {
   "cell_type": "code",
   "execution_count": 98,
   "metadata": {},
   "outputs": [
    {
     "name": "stdout",
     "output_type": "stream",
     "text": [
      "+------+-----+\n",
      "|Pclass|count|\n",
      "+------+-----+\n",
      "|     1|  216|\n",
      "|     3|  491|\n",
      "|     2|  184|\n",
      "+------+-----+\n",
      "\n"
     ]
    }
   ],
   "source": [
    "titanic_sdf.groupBy('Pclass').count().show()"
   ]
  },
  {
   "cell_type": "code",
   "execution_count": 99,
   "metadata": {},
   "outputs": [
    {
     "name": "stdout",
     "output_type": "stream",
     "text": [
      "+--------+-----+\n",
      "|Survived|count|\n",
      "+--------+-----+\n",
      "|       1|  342|\n",
      "|       0|  549|\n",
      "+--------+-----+\n",
      "\n",
      "+------+-----+\n",
      "|Pclass|count|\n",
      "+------+-----+\n",
      "|     1|  216|\n",
      "|     3|  491|\n",
      "|     2|  184|\n",
      "+------+-----+\n",
      "\n",
      "+------+-----+\n",
      "|   Sex|count|\n",
      "+------+-----+\n",
      "|female|  314|\n",
      "|  male|  577|\n",
      "+------+-----+\n",
      "\n",
      "+----------------+-----+\n",
      "|          Ticket|count|\n",
      "+----------------+-----+\n",
      "|          367230|    2|\n",
      "|       P/PP 3381|    2|\n",
      "|          244270|    1|\n",
      "|          363291|    3|\n",
      "|SOTON/OQ 3101317|    1|\n",
      "|           31418|    1|\n",
      "|           26360|    2|\n",
      "|            2700|    1|\n",
      "|           14313|    1|\n",
      "|          345763|    1|\n",
      "|       A/5 21172|    1|\n",
      "|          364500|    1|\n",
      "|           19877|    2|\n",
      "|          350029|    1|\n",
      "|          113800|    1|\n",
      "|      A/4. 39886|    1|\n",
      "|       C.A. 2673|    2|\n",
      "|          113807|    1|\n",
      "|        PC 17604|    2|\n",
      "|       C.A. 2315|    2|\n",
      "+----------------+-----+\n",
      "only showing top 20 rows\n",
      "\n",
      "+-------+-----+\n",
      "|  Cabin|count|\n",
      "+-------+-----+\n",
      "|    A23|    1|\n",
      "|    B79|    1|\n",
      "|    E44|    2|\n",
      "|  F E69|    1|\n",
      "|    D28|    1|\n",
      "|    C78|    2|\n",
      "|    C95|    1|\n",
      "|  F G73|    2|\n",
      "|B58 B60|    2|\n",
      "|     D7|    1|\n",
      "|   C128|    1|\n",
      "|    B39|    1|\n",
      "|    B22|    2|\n",
      "|   C110|    1|\n",
      "|    D21|    1|\n",
      "|     F2|    3|\n",
      "|    B30|    1|\n",
      "|   C104|    1|\n",
      "|    B50|    1|\n",
      "|     A6|    1|\n",
      "+-------+-----+\n",
      "only showing top 20 rows\n",
      "\n",
      "+--------+-----+\n",
      "|Embarked|count|\n",
      "+--------+-----+\n",
      "|       Q|   77|\n",
      "|    null|    2|\n",
      "|       C|  168|\n",
      "|       S|  644|\n",
      "+--------+-----+\n",
      "\n"
     ]
    }
   ],
   "source": [
    "groupby_cols = ['Survived', 'Pclass', 'Sex', 'Ticket', 'Cabin', 'Embarked']\n",
    "for groupby_col in groupby_cols:\n",
    "    titanic_sdf.groupBy(groupby_col).count().show()"
   ]
  },
  {
   "cell_type": "code",
   "execution_count": 100,
   "metadata": {},
   "outputs": [
    {
     "data": {
      "text/plain": [
       "<Axes: >"
      ]
     },
     "execution_count": 100,
     "metadata": {},
     "output_type": "execute_result"
    },
    {
     "data": {
      "image/png": "[encoded data removed]",
      "text/plain": [
       "<Figure size 640x480 with 1 Axes>"
      ]
     },
     "metadata": {},
     "output_type": "display_data"
    }
   ],
   "source": [
    "import matplotlib.pyplot as plt\n",
    "import pandas as pd\n",
    "\n",
    "titanic_pdf['Age'].hist()"
   ]
  },
  {
   "cell_type": "code",
   "execution_count": 101,
   "metadata": {},
   "outputs": [
    {
     "name": "stderr",
     "output_type": "stream",
     "text": [
      "/workspace/apache-spark-ml/.venv/lib/python3.8/site-packages/pyspark/sql/dataframe.py:5249: FutureWarning: DataFrame.to_pandas_on_spark is deprecated. Use DataFrame.pandas_api instead.\n",
      "  warnings.warn(\n"
     ]
    },
    {
     "data": {
      "text/plain": [
       "pyspark.pandas.frame.DataFrame"
      ]
     },
     "execution_count": 101,
     "metadata": {},
     "output_type": "execute_result"
    }
   ],
   "source": [
    "import pyspark.pandas as ps\n",
    "\n",
    "# from pandas dataframe: \n",
    "# psdf = ps.from_pandas(titanic_pdf) \n",
    "psdf = titanic_sdf.to_pandas_on_spark()\n",
    "type(psdf)"
   ]
  },
  {
   "cell_type": "code",
   "execution_count": 102,
   "metadata": {},
   "outputs": [
    {
     "name": "stdout",
     "output_type": "stream",
     "text": [
      "matplotlib\n",
      "matplotlib\n"
     ]
    }
   ],
   "source": [
    "print(pd.options.plotting.backend)\n",
    "ps.options.plotting.backend = 'matplotlib'\n",
    "print(ps.options.plotting.backend)"
   ]
  },
  {
   "cell_type": "code",
   "execution_count": 103,
   "metadata": {},
   "outputs": [
    {
     "data": {
      "text/plain": [
       "<Axes: ylabel='Frequency'>"
      ]
     },
     "execution_count": 103,
     "metadata": {},
     "output_type": "execute_result"
    },
    {
     "data": {
      "image/png": "[encoded data removed]",
      "text/plain": [
       "<Figure size 640x480 with 1 Axes>"
      ]
     },
     "metadata": {},
     "output_type": "display_data"
    }
   ],
   "source": [
    "psdf['Age'].hist()"
   ]
  },
  {
   "cell_type": "code",
   "execution_count": 104,
   "metadata": {},
   "outputs": [],
   "source": [
    "titanic_sdf.createOrReplaceTempView('titanic_view')"
   ]
  },
  {
   "cell_type": "code",
   "execution_count": 105,
   "metadata": {},
   "outputs": [
    {
     "name": "stdout",
     "output_type": "stream",
     "text": [
      "+--------+---+\n",
      "|survived|cnt|\n",
      "+--------+---+\n",
      "|       0|549|\n",
      "|       1|342|\n",
      "+--------+---+\n",
      "\n"
     ]
    }
   ],
   "source": [
    "spark.sql('select t.survived, count(*) as cnt from titanic_view t group by t.survived order by 2 desc').show()"
   ]
  },
  {
   "cell_type": "code",
   "execution_count": 106,
   "metadata": {},
   "outputs": [
    {
     "name": "stdout",
     "output_type": "stream",
     "text": [
      "+-----------+---+\n",
      "|      cabin|cnt|\n",
      "+-----------+---+\n",
      "|       null|687|\n",
      "|         G6|  4|\n",
      "|    B96 B98|  4|\n",
      "|C23 C25 C27|  4|\n",
      "|         F2|  3|\n",
      "|    C22 C26|  3|\n",
      "|          D|  3|\n",
      "|       E101|  3|\n",
      "|        F33|  3|\n",
      "|        E33|  2|\n",
      "|       C123|  2|\n",
      "|        C83|  2|\n",
      "|    B58 B60|  2|\n",
      "|        D35|  2|\n",
      "|        E44|  2|\n",
      "|       C126|  2|\n",
      "|      F G73|  2|\n",
      "|        B18|  2|\n",
      "|        D20|  2|\n",
      "|       E121|  2|\n",
      "+-----------+---+\n",
      "only showing top 20 rows\n",
      "\n"
     ]
    }
   ],
   "source": [
    "spark.sql('select t.cabin, count(*) as cnt from titanic_view t group by t.cabin order by 2 desc').show()"
   ]
  },
  {
   "cell_type": "code",
   "execution_count": 107,
   "metadata": {},
   "outputs": [
    {
     "name": "stdout",
     "output_type": "stream",
     "text": [
      "+-----+\n",
      "|cabin|\n",
      "+-----+\n",
      "|   NA|\n",
      "|  C85|\n",
      "|   NA|\n",
      "| C123|\n",
      "|   NA|\n",
      "|   NA|\n",
      "|  E46|\n",
      "|   NA|\n",
      "|   NA|\n",
      "|   NA|\n",
      "|   G6|\n",
      "| C103|\n",
      "|   NA|\n",
      "|   NA|\n",
      "|   NA|\n",
      "|   NA|\n",
      "|   NA|\n",
      "|   NA|\n",
      "|   NA|\n",
      "|   NA|\n",
      "+-----+\n",
      "only showing top 20 rows\n",
      "\n"
     ]
    }
   ],
   "source": [
    "spark.sql('select case when cabin is null then \"NA\" else cabin end as cabin from titanic_view').show()"
   ]
  },
  {
   "cell_type": "code",
   "execution_count": 108,
   "metadata": {},
   "outputs": [
    {
     "name": "stdout",
     "output_type": "stream",
     "text": [
      "+-------+---+\n",
      "|age_bin|cnt|\n",
      "+-------+---+\n",
      "|     20|220|\n",
      "|   null|177|\n",
      "|     30|167|\n",
      "|     10|102|\n",
      "|     40| 89|\n",
      "|      0| 62|\n",
      "|     50| 48|\n",
      "|     60| 19|\n",
      "|     70|  6|\n",
      "|     80|  1|\n",
      "+-------+---+\n",
      "\n"
     ]
    }
   ],
   "source": [
    "spark.sql('select age_bin, count(*) as cnt from(select floor(age/10.0) * 10 as age_bin from titanic_view) group by age_bin order by 2 desc').show()"
   ]
  },
  {
   "cell_type": "code",
   "execution_count": 109,
   "metadata": {},
   "outputs": [
    {
     "name": "stdout",
     "output_type": "stream",
     "text": [
      "+-------------+---+\n",
      "|age_bin_range|cnt|\n",
      "+-------------+---+\n",
      "|        20-30|220|\n",
      "|         null|177|\n",
      "|        30-40|167|\n",
      "|        10-20|102|\n",
      "|        40-50| 89|\n",
      "|         0-10| 62|\n",
      "|        50-60| 48|\n",
      "|        60-70| 19|\n",
      "|        70-80|  6|\n",
      "|        80-90|  1|\n",
      "+-------------+---+\n",
      "\n"
     ]
    }
   ],
   "source": [
    "spark.sql('''\n",
    "select age_bin || \"-\" || (age_bin + 10) as age_bin_range, cnt \n",
    "from (\n",
    "    select floor(age/10.0) * 10 as age_bin, count(*) as cnt \n",
    "    from titanic_view group by 1\n",
    ") order by cnt desc\n",
    "''').show()"
   ]
  },
  {
   "cell_type": "code",
   "execution_count": 110,
   "metadata": {},
   "outputs": [
    {
     "name": "stdout",
     "output_type": "stream",
     "text": [
      "+--------------+---+\n",
      "|fare_bin_range|cnt|\n",
      "+--------------+---+\n",
      "|          0-10|336|\n",
      "|         10-20|179|\n",
      "|         20-30|136|\n",
      "|         30-40| 64|\n",
      "|         50-60| 39|\n",
      "|         70-80| 29|\n",
      "|         60-70| 17|\n",
      "|         80-90| 15|\n",
      "|         40-50| 15|\n",
      "|        90-100|  8|\n",
      "|       130-140|  7|\n",
      "|       110-120|  7|\n",
      "|       150-160|  7|\n",
      "|       260-270|  6|\n",
      "|       220-230|  5|\n",
      "|       120-130|  4|\n",
      "|       100-110|  4|\n",
      "|       210-220|  4|\n",
      "|       510-520|  3|\n",
      "|       160-170|  2|\n",
      "+--------------+---+\n",
      "only showing top 20 rows\n",
      "\n"
     ]
    }
   ],
   "source": [
    "spark.sql('''\n",
    "select fare_bin || \"-\" || (fare_bin + 10) as fare_bin_range, cnt \n",
    "from (\n",
    "    select floor(fare/10.0) * 10 as fare_bin, count(*) as cnt \n",
    "    from titanic_view group by 1\n",
    ") order by cnt desc\n",
    "''').show()"
   ]
  },
  {
   "cell_type": "code",
   "execution_count": 111,
   "metadata": {},
   "outputs": [
    {
     "name": "stdout",
     "output_type": "stream",
     "text": [
      "+--------+------+-----+\n",
      "|Survived|   Sex|count|\n",
      "+--------+------+-----+\n",
      "|       0|female|   81|\n",
      "|       1|  male|  109|\n",
      "|       1|female|  233|\n",
      "|       0|  male|  468|\n",
      "+--------+------+-----+\n",
      "\n"
     ]
    }
   ],
   "source": [
    "titanic_sdf.groupBy('Survived', 'Sex').count().show()"
   ]
  },
  {
   "cell_type": "code",
   "execution_count": 112,
   "metadata": {},
   "outputs": [
    {
     "name": "stdout",
     "output_type": "stream",
     "text": [
      "+--------+------+-----+\n",
      "|Survived|   Sex|count|\n",
      "+--------+------+-----+\n",
      "|       0|female|   81|\n",
      "|       1|  male|  109|\n",
      "|       1|female|  233|\n",
      "|       0|  male|  468|\n",
      "+--------+------+-----+\n",
      "\n"
     ]
    }
   ],
   "source": [
    "spark.sql('''\n",
    "    select Survived, Sex, count(*) as count \n",
    "    from titanic_view \n",
    "    group by Survived, Sex\n",
    "''').show()"
   ]
  },
  {
   "cell_type": "code",
   "execution_count": 113,
   "metadata": {},
   "outputs": [
    {
     "name": "stdout",
     "output_type": "stream",
     "text": [
      "+------+------+--------+---+\n",
      "|pclass|   sex|survived|cnt|\n",
      "+------+------+--------+---+\n",
      "|     1|female|       0|  3|\n",
      "|     1|female|       1| 91|\n",
      "|     1|  male|       0| 77|\n",
      "|     1|  male|       1| 45|\n",
      "|     2|female|       0|  6|\n",
      "|     2|female|       1| 70|\n",
      "|     2|  male|       0| 91|\n",
      "|     2|  male|       1| 17|\n",
      "|     3|female|       0| 72|\n",
      "|     3|female|       1| 72|\n",
      "|     3|  male|       0|300|\n",
      "|     3|  male|       1| 47|\n",
      "+------+------+--------+---+\n",
      "\n"
     ]
    }
   ],
   "source": [
    "spark.sql('''\n",
    "    select pclass, sex, survived, count(*) cnt\n",
    "    from titanic_view \n",
    "    group by pclass, sex, survived\n",
    "    order by 1, 2, 3\n",
    "''').show()"
   ]
  },
  {
   "cell_type": "code",
   "execution_count": 114,
   "metadata": {},
   "outputs": [
    {
     "name": "stdout",
     "output_type": "stream",
     "text": [
      "+------+------+----------------+------------+\n",
      "|pclass|   sex|cnt_non_survived|cnt_survived|\n",
      "+------+------+----------------+------------+\n",
      "|     1|female|               3|          91|\n",
      "|     1|  male|              77|          45|\n",
      "|     2|female|               6|          70|\n",
      "|     2|  male|              91|          17|\n",
      "|     3|female|              72|          72|\n",
      "|     3|  male|             300|          47|\n",
      "+------+------+----------------+------------+\n",
      "\n"
     ]
    }
   ],
   "source": [
    "spark.sql('''\n",
    "    select pclass, sex,\n",
    "    count(case when survived = 0 then 1 else Null end) cnt_non_survived,\n",
    "    count(case when survived = 1 then 1 else Null end) cnt_survived\n",
    "    from titanic_view \n",
    "    group by pclass, sex\n",
    "    order by 1, 2\n",
    "''').show()"
   ]
  },
  {
   "cell_type": "code",
   "execution_count": 115,
   "metadata": {},
   "outputs": [
    {
     "name": "stdout",
     "output_type": "stream",
     "text": [
      "+------+------+----------------+------------+\n",
      "|pclass|   sex|cnt_non_survived|cnt_survived|\n",
      "+------+------+----------------+------------+\n",
      "|     1|female|               3|          91|\n",
      "|     1|  male|              77|          45|\n",
      "|     2|female|               6|          70|\n",
      "|     2|  male|              91|          17|\n",
      "|     3|female|              72|          72|\n",
      "|     3|  male|             300|          47|\n",
      "+------+------+----------------+------------+\n",
      "\n"
     ]
    }
   ],
   "source": [
    "spark.sql('''\n",
    "    select pclass, sex,\n",
    "    sum(case when survived = 0 then 1 else 0 end) cnt_non_survived,\n",
    "    sum(case when survived = 1 then 1 else 0 end) cnt_survived\n",
    "    from titanic_view \n",
    "    group by pclass, sex\n",
    "    order by 1, 2\n",
    "''').show()"
   ]
  },
  {
   "cell_type": "code",
   "execution_count": 134,
   "metadata": {},
   "outputs": [],
   "source": [
    "def get_category(age):\n",
    "    if age == None: return 'NA'\n",
    "    if age <= 5: return 'Baby'\n",
    "    if age <= 12: return 'Child'\n",
    "    if age <= 18: return 'Teenager'\n",
    "    if age <= 25: return 'Student'\n",
    "    if age <= 35: return 'Young Adult'\n",
    "    if age <= 60: return 'Adult'\n",
    "    return 'Elderly'"
   ]
  },
  {
   "cell_type": "code",
   "execution_count": 117,
   "metadata": {},
   "outputs": [
    {
     "name": "stdout",
     "output_type": "stream",
     "text": [
      "+-----------+--------+------+-------------------------------------------------------+------+----+-----+-----+----------------+-------+-----+--------+------------+\n",
      "|PassengerId|Survived|Pclass|Name                                                   |Sex   |Age |SibSp|Parch|Ticket          |Fare   |Cabin|Embarked|Age_Category|\n",
      "+-----------+--------+------+-------------------------------------------------------+------+----+-----+-----+----------------+-------+-----+--------+------------+\n",
      "|1          |0       |3     |Braund, Mr. Owen Harris                                |male  |22.0|1    |0    |A/5 21171       |7.25   |null |S       |Student     |\n",
      "|2          |1       |1     |Cumings, Mrs. John Bradley (Florence Briggs Thayer)    |female|38.0|1    |0    |PC 17599        |71.2833|C85  |C       |Adult       |\n",
      "|3          |1       |3     |Heikkinen, Miss. Laina                                 |female|26.0|0    |0    |STON/O2. 3101282|7.925  |null |S       |Young Adult |\n",
      "|4          |1       |1     |Futrelle, Mrs. Jacques Heath (Lily May Peel)           |female|35.0|1    |0    |113803          |53.1   |C123 |S       |Young Adult |\n",
      "|5          |0       |3     |Allen, Mr. William Henry                               |male  |35.0|0    |0    |373450          |8.05   |null |S       |Young Adult |\n",
      "|6          |0       |3     |Moran, Mr. James                                       |male  |null|0    |0    |330877          |8.4583 |null |Q       |NA          |\n",
      "|7          |0       |1     |McCarthy, Mr. Timothy J                                |male  |54.0|0    |0    |17463           |51.8625|E46  |S       |Adult       |\n",
      "|8          |0       |3     |Palsson, Master. Gosta Leonard                         |male  |2.0 |3    |1    |349909          |21.075 |null |S       |Baby        |\n",
      "|9          |1       |3     |Johnson, Mrs. Oscar W (Elisabeth Vilhelmina Berg)      |female|27.0|0    |2    |347742          |11.1333|null |S       |Young Adult |\n",
      "|10         |1       |2     |Nasser, Mrs. Nicholas (Adele Achem)                    |female|14.0|1    |0    |237736          |30.0708|null |C       |Teenager    |\n",
      "|11         |1       |3     |Sandstrom, Miss. Marguerite Rut                        |female|4.0 |1    |1    |PP 9549         |16.7   |G6   |S       |Baby        |\n",
      "|12         |1       |1     |Bonnell, Miss. Elizabeth                               |female|58.0|0    |0    |113783          |26.55  |C103 |S       |Adult       |\n",
      "|13         |0       |3     |Saundercock, Mr. William Henry                         |male  |20.0|0    |0    |A/5. 2151       |8.05   |null |S       |Student     |\n",
      "|14         |0       |3     |Andersson, Mr. Anders Johan                            |male  |39.0|1    |5    |347082          |31.275 |null |S       |Adult       |\n",
      "|15         |0       |3     |Vestrom, Miss. Hulda Amanda Adolfina                   |female|14.0|0    |0    |350406          |7.8542 |null |S       |Teenager    |\n",
      "|16         |1       |2     |Hewlett, Mrs. (Mary D Kingcome)                        |female|55.0|0    |0    |248706          |16.0   |null |S       |Adult       |\n",
      "|17         |0       |3     |Rice, Master. Eugene                                   |male  |2.0 |4    |1    |382652          |29.125 |null |Q       |Baby        |\n",
      "|18         |1       |2     |Williams, Mr. Charles Eugene                           |male  |null|0    |0    |244373          |13.0   |null |S       |NA          |\n",
      "|19         |0       |3     |Vander Planke, Mrs. Julius (Emelia Maria Vandemoortele)|female|31.0|1    |0    |345763          |18.0   |null |S       |Young Adult |\n",
      "|20         |1       |3     |Masselmani, Mrs. Fatima                                |female|null|0    |0    |2649            |7.225  |null |C       |NA          |\n",
      "+-----------+--------+------+-------------------------------------------------------+------+----+-----+-----+----------------+-------+-----+--------+------------+\n",
      "only showing top 20 rows\n",
      "\n"
     ]
    }
   ],
   "source": [
    "import pyspark.sql.functions as F\n",
    "# from pyspark.sql.types import StringType\n",
    "\n",
    "udf_get_category = F.udf(get_category) # F.udf(get_category, StringType())\n",
    "\n",
    "titanic_sdf = titanic_sdf.withColumn('Age_Category', udf_get_category(F.col('Age')))\n",
    "titanic_sdf.show(truncate=False)"
   ]
  },
  {
   "cell_type": "code",
   "execution_count": 118,
   "metadata": {},
   "outputs": [
    {
     "name": "stdout",
     "output_type": "stream",
     "text": [
      "+-----------+--------+------+--------------------+------+----+-----+-----+----------------+-------+-----+--------+------------+\n",
      "|PassengerId|Survived|Pclass|                Name|   Sex| Age|SibSp|Parch|          Ticket|   Fare|Cabin|Embarked|Age_category|\n",
      "+-----------+--------+------+--------------------+------+----+-----+-----+----------------+-------+-----+--------+------------+\n",
      "|          1|       0|     3|Braund, Mr. Owen ...|  male|22.0|    1|    0|       A/5 21171|   7.25| null|       S|     Student|\n",
      "|          2|       1|     1|Cumings, Mrs. Joh...|female|38.0|    1|    0|        PC 17599|71.2833|  C85|       C|       Adult|\n",
      "|          3|       1|     3|Heikkinen, Miss. ...|female|26.0|    0|    0|STON/O2. 3101282|  7.925| null|       S| Young Adult|\n",
      "|          4|       1|     1|Futrelle, Mrs. Ja...|female|35.0|    1|    0|          113803|   53.1| C123|       S| Young Adult|\n",
      "|          5|       0|     3|Allen, Mr. Willia...|  male|35.0|    0|    0|          373450|   8.05| null|       S| Young Adult|\n",
      "|          6|       0|     3|    Moran, Mr. James|  male|null|    0|    0|          330877| 8.4583| null|       Q|          NA|\n",
      "|          7|       0|     1|McCarthy, Mr. Tim...|  male|54.0|    0|    0|           17463|51.8625|  E46|       S|       Adult|\n",
      "|          8|       0|     3|Palsson, Master. ...|  male| 2.0|    3|    1|          349909| 21.075| null|       S|        Baby|\n",
      "|          9|       1|     3|Johnson, Mrs. Osc...|female|27.0|    0|    2|          347742|11.1333| null|       S| Young Adult|\n",
      "|         10|       1|     2|Nasser, Mrs. Nich...|female|14.0|    1|    0|          237736|30.0708| null|       C|    Teenager|\n",
      "|         11|       1|     3|Sandstrom, Miss. ...|female| 4.0|    1|    1|         PP 9549|   16.7|   G6|       S|        Baby|\n",
      "|         12|       1|     1|Bonnell, Miss. El...|female|58.0|    0|    0|          113783|  26.55| C103|       S|       Adult|\n",
      "|         13|       0|     3|Saundercock, Mr. ...|  male|20.0|    0|    0|       A/5. 2151|   8.05| null|       S|     Student|\n",
      "|         14|       0|     3|Andersson, Mr. An...|  male|39.0|    1|    5|          347082| 31.275| null|       S|       Adult|\n",
      "|         15|       0|     3|Vestrom, Miss. Hu...|female|14.0|    0|    0|          350406| 7.8542| null|       S|    Teenager|\n",
      "|         16|       1|     2|Hewlett, Mrs. (Ma...|female|55.0|    0|    0|          248706|   16.0| null|       S|       Adult|\n",
      "|         17|       0|     3|Rice, Master. Eugene|  male| 2.0|    4|    1|          382652| 29.125| null|       Q|        Baby|\n",
      "|         18|       1|     2|Williams, Mr. Cha...|  male|null|    0|    0|          244373|   13.0| null|       S|          NA|\n",
      "|         19|       0|     3|Vander Planke, Mr...|female|31.0|    1|    0|          345763|   18.0| null|       S| Young Adult|\n",
      "|         20|       1|     3|Masselmani, Mrs. ...|female|null|    0|    0|            2649|  7.225| null|       C|          NA|\n",
      "+-----------+--------+------+--------------------+------+----+-----+-----+----------------+-------+-----+--------+------------+\n",
      "only showing top 20 rows\n",
      "\n"
     ]
    }
   ],
   "source": [
    "titanic_sdf_filled = titanic_sdf.withColumn(\n",
    "    'Age_category',\n",
    "    F.when(F.col('Age').isNull() | F.isnan(F.col('Age')), 'NA') \\\n",
    "    .when(F.col('Age') <= 5, 'Baby')\n",
    "    .when(F.col('Age') <= 12, 'Child')\n",
    "    .when(F.col('Age') <= 18, 'Teenager')\n",
    "    .when(F.col('Age') <= 25, 'Student')\n",
    "    .when(F.col('Age') <= 35, 'Young Adult')\n",
    "    .when(F.col('Age') <= 60, 'Adult')\n",
    "    .otherwise('Elderly')\n",
    ")\n",
    "titanic_sdf_filled.show()"
   ]
  },
  {
   "cell_type": "code",
   "execution_count": 119,
   "metadata": {},
   "outputs": [
    {
     "name": "stdout",
     "output_type": "stream",
     "text": [
      "+-----------+--------+------+--------------------+------+----+-----+-----+----------------+-------+-----+--------+\n",
      "|PassengerId|Survived|Pclass|                Name|   Sex| Age|SibSp|Parch|          Ticket|   Fare|Cabin|Embarked|\n",
      "+-----------+--------+------+--------------------+------+----+-----+-----+----------------+-------+-----+--------+\n",
      "|          1|       0|     3|Braund, Mr. Owen ...|  male|22.0|    1|    0|       A/5 21171|   7.25| null|       S|\n",
      "|          2|       1|     1|Cumings, Mrs. Joh...|female|38.0|    1|    0|        PC 17599|71.2833|  C85|       C|\n",
      "|          3|       1|     3|Heikkinen, Miss. ...|female|26.0|    0|    0|STON/O2. 3101282|  7.925| null|       S|\n",
      "|          4|       1|     1|Futrelle, Mrs. Ja...|female|35.0|    1|    0|          113803|   53.1| C123|       S|\n",
      "|          5|       0|     3|Allen, Mr. Willia...|  male|35.0|    0|    0|          373450|   8.05| null|       S|\n",
      "|          6|       0|     3|    Moran, Mr. James|  male|null|    0|    0|          330877| 8.4583| null|       Q|\n",
      "|          7|       0|     1|McCarthy, Mr. Tim...|  male|54.0|    0|    0|           17463|51.8625|  E46|       S|\n",
      "|          8|       0|     3|Palsson, Master. ...|  male| 2.0|    3|    1|          349909| 21.075| null|       S|\n",
      "|          9|       1|     3|Johnson, Mrs. Osc...|female|27.0|    0|    2|          347742|11.1333| null|       S|\n",
      "|         10|       1|     2|Nasser, Mrs. Nich...|female|14.0|    1|    0|          237736|30.0708| null|       C|\n",
      "|         11|       1|     3|Sandstrom, Miss. ...|female| 4.0|    1|    1|         PP 9549|   16.7|   G6|       S|\n",
      "|         12|       1|     1|Bonnell, Miss. El...|female|58.0|    0|    0|          113783|  26.55| C103|       S|\n",
      "|         13|       0|     3|Saundercock, Mr. ...|  male|20.0|    0|    0|       A/5. 2151|   8.05| null|       S|\n",
      "|         14|       0|     3|Andersson, Mr. An...|  male|39.0|    1|    5|          347082| 31.275| null|       S|\n",
      "|         15|       0|     3|Vestrom, Miss. Hu...|female|14.0|    0|    0|          350406| 7.8542| null|       S|\n",
      "|         16|       1|     2|Hewlett, Mrs. (Ma...|female|55.0|    0|    0|          248706|   16.0| null|       S|\n",
      "|         17|       0|     3|Rice, Master. Eugene|  male| 2.0|    4|    1|          382652| 29.125| null|       Q|\n",
      "|         18|       1|     2|Williams, Mr. Cha...|  male|null|    0|    0|          244373|   13.0| null|       S|\n",
      "|         19|       0|     3|Vander Planke, Mr...|female|31.0|    1|    0|          345763|   18.0| null|       S|\n",
      "|         20|       1|     3|Masselmani, Mrs. ...|female|null|    0|    0|            2649|  7.225| null|       C|\n",
      "+-----------+--------+------+--------------------+------+----+-----+-----+----------------+-------+-----+--------+\n",
      "only showing top 20 rows\n",
      "\n"
     ]
    }
   ],
   "source": [
    "# added columns cannot be reflected in view\n",
    "spark.sql('select * from titanic_view').show()"
   ]
  },
  {
   "cell_type": "code",
   "execution_count": 120,
   "metadata": {},
   "outputs": [],
   "source": [
    "titanic_sdf.createOrReplaceTempView('titanic_view')"
   ]
  },
  {
   "cell_type": "code",
   "execution_count": 121,
   "metadata": {},
   "outputs": [
    {
     "name": "stdout",
     "output_type": "stream",
     "text": [
      "+-----------+--------+------+--------------------+------+----+-----+-----+----------------+-------+-----+--------+------------+\n",
      "|PassengerId|Survived|Pclass|                Name|   Sex| Age|SibSp|Parch|          Ticket|   Fare|Cabin|Embarked|Age_Category|\n",
      "+-----------+--------+------+--------------------+------+----+-----+-----+----------------+-------+-----+--------+------------+\n",
      "|          1|       0|     3|Braund, Mr. Owen ...|  male|22.0|    1|    0|       A/5 21171|   7.25| null|       S|     Student|\n",
      "|          2|       1|     1|Cumings, Mrs. Joh...|female|38.0|    1|    0|        PC 17599|71.2833|  C85|       C|       Adult|\n",
      "|          3|       1|     3|Heikkinen, Miss. ...|female|26.0|    0|    0|STON/O2. 3101282|  7.925| null|       S| Young Adult|\n",
      "|          4|       1|     1|Futrelle, Mrs. Ja...|female|35.0|    1|    0|          113803|   53.1| C123|       S| Young Adult|\n",
      "|          5|       0|     3|Allen, Mr. Willia...|  male|35.0|    0|    0|          373450|   8.05| null|       S| Young Adult|\n",
      "|          6|       0|     3|    Moran, Mr. James|  male|null|    0|    0|          330877| 8.4583| null|       Q|          NA|\n",
      "|          7|       0|     1|McCarthy, Mr. Tim...|  male|54.0|    0|    0|           17463|51.8625|  E46|       S|       Adult|\n",
      "|          8|       0|     3|Palsson, Master. ...|  male| 2.0|    3|    1|          349909| 21.075| null|       S|        Baby|\n",
      "|          9|       1|     3|Johnson, Mrs. Osc...|female|27.0|    0|    2|          347742|11.1333| null|       S| Young Adult|\n",
      "|         10|       1|     2|Nasser, Mrs. Nich...|female|14.0|    1|    0|          237736|30.0708| null|       C|    Teenager|\n",
      "|         11|       1|     3|Sandstrom, Miss. ...|female| 4.0|    1|    1|         PP 9549|   16.7|   G6|       S|        Baby|\n",
      "|         12|       1|     1|Bonnell, Miss. El...|female|58.0|    0|    0|          113783|  26.55| C103|       S|       Adult|\n",
      "|         13|       0|     3|Saundercock, Mr. ...|  male|20.0|    0|    0|       A/5. 2151|   8.05| null|       S|     Student|\n",
      "|         14|       0|     3|Andersson, Mr. An...|  male|39.0|    1|    5|          347082| 31.275| null|       S|       Adult|\n",
      "|         15|       0|     3|Vestrom, Miss. Hu...|female|14.0|    0|    0|          350406| 7.8542| null|       S|    Teenager|\n",
      "|         16|       1|     2|Hewlett, Mrs. (Ma...|female|55.0|    0|    0|          248706|   16.0| null|       S|       Adult|\n",
      "|         17|       0|     3|Rice, Master. Eugene|  male| 2.0|    4|    1|          382652| 29.125| null|       Q|        Baby|\n",
      "|         18|       1|     2|Williams, Mr. Cha...|  male|null|    0|    0|          244373|   13.0| null|       S|          NA|\n",
      "|         19|       0|     3|Vander Planke, Mr...|female|31.0|    1|    0|          345763|   18.0| null|       S| Young Adult|\n",
      "|         20|       1|     3|Masselmani, Mrs. ...|female|null|    0|    0|            2649|  7.225| null|       C|          NA|\n",
      "+-----------+--------+------+--------------------+------+----+-----+-----+----------------+-------+-----+--------+------------+\n",
      "only showing top 20 rows\n",
      "\n"
     ]
    }
   ],
   "source": [
    "spark.sql('select * from titanic_view').show()"
   ]
  },
  {
   "cell_type": "code",
   "execution_count": 122,
   "metadata": {},
   "outputs": [
    {
     "name": "stdout",
     "output_type": "stream",
     "text": [
      "+------------+--------+------+---+\n",
      "|age_category|survived|   sex|cnt|\n",
      "+------------+--------+------+---+\n",
      "|          NA|       0|  male|108|\n",
      "|       Adult|       0|  male|101|\n",
      "| Young Adult|       0|  male|100|\n",
      "|     Student|       0|  male| 95|\n",
      "|       Adult|       1|female| 54|\n",
      "| Young Adult|       1|female| 53|\n",
      "|     Student|       1|female| 41|\n",
      "|          NA|       1|female| 36|\n",
      "|    Teenager|       0|  male| 31|\n",
      "| Young Adult|       1|  male| 30|\n",
      "|    Teenager|       1|female| 27|\n",
      "|       Adult|       1|  male| 24|\n",
      "|     Elderly|       0|  male| 17|\n",
      "|          NA|       0|female| 17|\n",
      "|          NA|       1|  male| 16|\n",
      "|        Baby|       1|female| 16|\n",
      "|       Adult|       0|female| 16|\n",
      "|        Baby|       1|  male| 15|\n",
      "|     Student|       1|  male| 13|\n",
      "|     Student|       0|female| 13|\n",
      "+------------+--------+------+---+\n",
      "only showing top 20 rows\n",
      "\n"
     ]
    }
   ],
   "source": [
    "spark.sql('''\n",
    "    select age_category, survived, sex, count(*) cnt\n",
    "    from titanic_view\n",
    "    group by age_category, survived, sex\n",
    "    order by cnt desc\n",
    "''').show()"
   ]
  },
  {
   "cell_type": "code",
   "execution_count": 123,
   "metadata": {},
   "outputs": [
    {
     "name": "stdout",
     "output_type": "stream",
     "text": [
      "+-----------------+\n",
      "|         avg(Age)|\n",
      "+-----------------+\n",
      "|29.69911764705882|\n",
      "+-----------------+\n",
      "\n"
     ]
    },
    {
     "data": {
      "text/plain": [
       "(DataFrame[avg(Age): double],\n",
       " Row(avg(Age)=29.69911764705882),\n",
       " 29.69911764705882)"
      ]
     },
     "execution_count": 123,
     "metadata": {},
     "output_type": "execute_result"
    }
   ],
   "source": [
    "avg_age = titanic_sdf.select(F.avg(F.col('Age')))\n",
    "avg_age.show()\n",
    "avg_age_row = avg_age.first() # = avg_age.head()\n",
    "avg_age_val = avg_age_row[0]\n",
    "\n",
    "avg_age, avg_age_row, avg_age_val"
   ]
  },
  {
   "cell_type": "code",
   "execution_count": 124,
   "metadata": {},
   "outputs": [
    {
     "name": "stdout",
     "output_type": "stream",
     "text": [
      "+-----------+--------+------+--------------------+------+-----------------+-----+-----+----------------+-------+-----+--------+------------+\n",
      "|PassengerId|Survived|Pclass|                Name|   Sex|              Age|SibSp|Parch|          Ticket|   Fare|Cabin|Embarked|Age_Category|\n",
      "+-----------+--------+------+--------------------+------+-----------------+-----+-----+----------------+-------+-----+--------+------------+\n",
      "|          1|       0|     3|Braund, Mr. Owen ...|  male|             22.0|    1|    0|       A/5 21171|   7.25|    N|       S|     Student|\n",
      "|          2|       1|     1|Cumings, Mrs. Joh...|female|             38.0|    1|    0|        PC 17599|71.2833|  C85|       C|       Adult|\n",
      "|          3|       1|     3|Heikkinen, Miss. ...|female|             26.0|    0|    0|STON/O2. 3101282|  7.925|    N|       S| Young Adult|\n",
      "|          4|       1|     1|Futrelle, Mrs. Ja...|female|             35.0|    1|    0|          113803|   53.1| C123|       S| Young Adult|\n",
      "|          5|       0|     3|Allen, Mr. Willia...|  male|             35.0|    0|    0|          373450|   8.05|    N|       S| Young Adult|\n",
      "|          6|       0|     3|    Moran, Mr. James|  male|29.69911764705882|    0|    0|          330877| 8.4583|    N|       Q|          NA|\n",
      "|          7|       0|     1|McCarthy, Mr. Tim...|  male|             54.0|    0|    0|           17463|51.8625|  E46|       S|       Adult|\n",
      "|          8|       0|     3|Palsson, Master. ...|  male|              2.0|    3|    1|          349909| 21.075|    N|       S|        Baby|\n",
      "|          9|       1|     3|Johnson, Mrs. Osc...|female|             27.0|    0|    2|          347742|11.1333|    N|       S| Young Adult|\n",
      "|         10|       1|     2|Nasser, Mrs. Nich...|female|             14.0|    1|    0|          237736|30.0708|    N|       C|    Teenager|\n",
      "|         11|       1|     3|Sandstrom, Miss. ...|female|              4.0|    1|    1|         PP 9549|   16.7|   G6|       S|        Baby|\n",
      "|         12|       1|     1|Bonnell, Miss. El...|female|             58.0|    0|    0|          113783|  26.55| C103|       S|       Adult|\n",
      "|         13|       0|     3|Saundercock, Mr. ...|  male|             20.0|    0|    0|       A/5. 2151|   8.05|    N|       S|     Student|\n",
      "|         14|       0|     3|Andersson, Mr. An...|  male|             39.0|    1|    5|          347082| 31.275|    N|       S|       Adult|\n",
      "|         15|       0|     3|Vestrom, Miss. Hu...|female|             14.0|    0|    0|          350406| 7.8542|    N|       S|    Teenager|\n",
      "|         16|       1|     2|Hewlett, Mrs. (Ma...|female|             55.0|    0|    0|          248706|   16.0|    N|       S|       Adult|\n",
      "|         17|       0|     3|Rice, Master. Eugene|  male|              2.0|    4|    1|          382652| 29.125|    N|       Q|        Baby|\n",
      "|         18|       1|     2|Williams, Mr. Cha...|  male|29.69911764705882|    0|    0|          244373|   13.0|    N|       S|          NA|\n",
      "|         19|       0|     3|Vander Planke, Mr...|female|             31.0|    1|    0|          345763|   18.0|    N|       S| Young Adult|\n",
      "|         20|       1|     3|Masselmani, Mrs. ...|female|29.69911764705882|    0|    0|            2649|  7.225|    N|       C|          NA|\n",
      "+-----------+--------+------+--------------------+------+-----------------+-----+-----+----------------+-------+-----+--------+------------+\n",
      "only showing top 20 rows\n",
      "\n"
     ]
    }
   ],
   "source": [
    "titanic_sdf = titanic_sdf.fillna({\n",
    "    'Age': titanic_sdf.select(F.avg(F.col('Age'))).first()[0],\n",
    "    'Cabin': 'N',\n",
    "    'Embarked': 'N'\n",
    "})\n",
    "titanic_sdf.show()"
   ]
  },
  {
   "cell_type": "code",
   "execution_count": 125,
   "metadata": {},
   "outputs": [
    {
     "name": "stdout",
     "output_type": "stream",
     "text": [
      "+------------+--------+------+-----+\n",
      "|age_category|survived|sex   |count|\n",
      "+------------+--------+------+-----+\n",
      "|Elderly     |1       |female|3    |\n",
      "|Student     |1       |female|41   |\n",
      "|Teenager    |0       |male  |31   |\n",
      "|Teenager    |0       |female|9    |\n",
      "|Student     |1       |male  |13   |\n",
      "|Baby        |0       |female|5    |\n",
      "|Child       |0       |female|8    |\n",
      "|Student     |0       |female|13   |\n",
      "|Young Adult |0       |female|30   |\n",
      "|Elderly     |0       |male  |17   |\n",
      "|Teenager    |1       |female|27   |\n",
      "|Child       |1       |male  |6    |\n",
      "|Baby        |1       |male  |15   |\n",
      "|Young Adult |1       |male  |46   |\n",
      "|Baby        |0       |male  |8    |\n",
      "|Adult       |1       |female|54   |\n",
      "|Adult       |0       |male  |101  |\n",
      "|Student     |0       |male  |95   |\n",
      "|Child       |1       |female|3    |\n",
      "|Adult       |1       |male  |24   |\n",
      "+------------+--------+------+-----+\n",
      "only showing top 20 rows\n",
      "\n"
     ]
    }
   ],
   "source": [
    "titanic_sdf = titanic_sdf.withColumn('Age_Category', udf_get_category(F.col('Age')))\n",
    "titanic_sdf.groupBy('age_category', 'survived', 'sex').count().show(truncate=False)"
   ]
  },
  {
   "cell_type": "code",
   "execution_count": 126,
   "metadata": {},
   "outputs": [
    {
     "name": "stdout",
     "output_type": "stream",
     "text": [
      "+-----------+--------+------+--------------------+------+-----------------+-----+-----+----------------+-------+-----+--------+------------+\n",
      "|PassengerId|Survived|Pclass|                Name|   Sex|              Age|SibSp|Parch|          Ticket|   Fare|Cabin|Embarked|Age_Category|\n",
      "+-----------+--------+------+--------------------+------+-----------------+-----+-----+----------------+-------+-----+--------+------------+\n",
      "|          1|       0|     3|Braund, Mr. Owen ...|  male|             22.0|    1|    0|       A/5 21171|   7.25|    N|       S|     Student|\n",
      "|          2|       1|     1|Cumings, Mrs. Joh...|female|             38.0|    1|    0|        PC 17599|71.2833|    C|       C|       Adult|\n",
      "|          3|       1|     3|Heikkinen, Miss. ...|female|             26.0|    0|    0|STON/O2. 3101282|  7.925|    N|       S| Young Adult|\n",
      "|          4|       1|     1|Futrelle, Mrs. Ja...|female|             35.0|    1|    0|          113803|   53.1|    C|       S| Young Adult|\n",
      "|          5|       0|     3|Allen, Mr. Willia...|  male|             35.0|    0|    0|          373450|   8.05|    N|       S| Young Adult|\n",
      "|          6|       0|     3|    Moran, Mr. James|  male|29.69911764705882|    0|    0|          330877| 8.4583|    N|       Q| Young Adult|\n",
      "|          7|       0|     1|McCarthy, Mr. Tim...|  male|             54.0|    0|    0|           17463|51.8625|    E|       S|       Adult|\n",
      "|          8|       0|     3|Palsson, Master. ...|  male|              2.0|    3|    1|          349909| 21.075|    N|       S|        Baby|\n",
      "|          9|       1|     3|Johnson, Mrs. Osc...|female|             27.0|    0|    2|          347742|11.1333|    N|       S| Young Adult|\n",
      "|         10|       1|     2|Nasser, Mrs. Nich...|female|             14.0|    1|    0|          237736|30.0708|    N|       C|    Teenager|\n",
      "|         11|       1|     3|Sandstrom, Miss. ...|female|              4.0|    1|    1|         PP 9549|   16.7|    G|       S|        Baby|\n",
      "|         12|       1|     1|Bonnell, Miss. El...|female|             58.0|    0|    0|          113783|  26.55|    C|       S|       Adult|\n",
      "|         13|       0|     3|Saundercock, Mr. ...|  male|             20.0|    0|    0|       A/5. 2151|   8.05|    N|       S|     Student|\n",
      "|         14|       0|     3|Andersson, Mr. An...|  male|             39.0|    1|    5|          347082| 31.275|    N|       S|       Adult|\n",
      "|         15|       0|     3|Vestrom, Miss. Hu...|female|             14.0|    0|    0|          350406| 7.8542|    N|       S|    Teenager|\n",
      "|         16|       1|     2|Hewlett, Mrs. (Ma...|female|             55.0|    0|    0|          248706|   16.0|    N|       S|       Adult|\n",
      "|         17|       0|     3|Rice, Master. Eugene|  male|              2.0|    4|    1|          382652| 29.125|    N|       Q|        Baby|\n",
      "|         18|       1|     2|Williams, Mr. Cha...|  male|29.69911764705882|    0|    0|          244373|   13.0|    N|       S| Young Adult|\n",
      "|         19|       0|     3|Vander Planke, Mr...|female|             31.0|    1|    0|          345763|   18.0|    N|       S| Young Adult|\n",
      "|         20|       1|     3|Masselmani, Mrs. ...|female|29.69911764705882|    0|    0|            2649|  7.225|    N|       C| Young Adult|\n",
      "+-----------+--------+------+--------------------+------+-----------------+-----+-----+----------------+-------+-----+--------+------------+\n",
      "only showing top 20 rows\n",
      "\n"
     ]
    }
   ],
   "source": [
    "titanic_sdf = titanic_sdf.withColumn('Cabin', F.col('Cabin').substr(0, 1))\n",
    "titanic_sdf.show()"
   ]
  },
  {
   "cell_type": "code",
   "execution_count": 127,
   "metadata": {},
   "outputs": [],
   "source": [
    "def fill_n_transform_columns(titanic_sdf):\n",
    "    titanic_sdf = titanic_sdf.fillna({\n",
    "        'Age': titanic_sdf.select(F.avg('Age')).first()[0],\n",
    "        'Cabin': 'N',\n",
    "        'Embarked': 'N'\n",
    "    })\n",
    "    titanic_sdf = titanic_sdf.withColumn('Age_Category', udf_get_category(F.col('Age')))\n",
    "    titanic_sdf = titanic_sdf.withColumn('Cabin', F.col('Cabin').substr(0, 1))\n",
    "    return titanic_sdf"
   ]
  },
  {
   "cell_type": "code",
   "execution_count": 128,
   "metadata": {},
   "outputs": [
    {
     "name": "stdout",
     "output_type": "stream",
     "text": [
      "+-----------+--------+------+-------------------------------------------------------+------+-----------------+-----+-----+----------------+-------+-----+--------+------------+\n",
      "|PassengerId|Survived|Pclass|Name                                                   |Sex   |Age              |SibSp|Parch|Ticket          |Fare   |Cabin|Embarked|Age_Category|\n",
      "+-----------+--------+------+-------------------------------------------------------+------+-----------------+-----+-----+----------------+-------+-----+--------+------------+\n",
      "|1          |0       |3     |Braund, Mr. Owen Harris                                |male  |22.0             |1    |0    |A/5 21171       |7.25   |N    |S       |Student     |\n",
      "|2          |1       |1     |Cumings, Mrs. John Bradley (Florence Briggs Thayer)    |female|38.0             |1    |0    |PC 17599        |71.2833|C    |C       |Adult       |\n",
      "|3          |1       |3     |Heikkinen, Miss. Laina                                 |female|26.0             |0    |0    |STON/O2. 3101282|7.925  |N    |S       |Young Adult |\n",
      "|4          |1       |1     |Futrelle, Mrs. Jacques Heath (Lily May Peel)           |female|35.0             |1    |0    |113803          |53.1   |C    |S       |Young Adult |\n",
      "|5          |0       |3     |Allen, Mr. William Henry                               |male  |35.0             |0    |0    |373450          |8.05   |N    |S       |Young Adult |\n",
      "|6          |0       |3     |Moran, Mr. James                                       |male  |29.69911764705882|0    |0    |330877          |8.4583 |N    |Q       |Young Adult |\n",
      "|7          |0       |1     |McCarthy, Mr. Timothy J                                |male  |54.0             |0    |0    |17463           |51.8625|E    |S       |Adult       |\n",
      "|8          |0       |3     |Palsson, Master. Gosta Leonard                         |male  |2.0              |3    |1    |349909          |21.075 |N    |S       |Baby        |\n",
      "|9          |1       |3     |Johnson, Mrs. Oscar W (Elisabeth Vilhelmina Berg)      |female|27.0             |0    |2    |347742          |11.1333|N    |S       |Young Adult |\n",
      "|10         |1       |2     |Nasser, Mrs. Nicholas (Adele Achem)                    |female|14.0             |1    |0    |237736          |30.0708|N    |C       |Teenager    |\n",
      "|11         |1       |3     |Sandstrom, Miss. Marguerite Rut                        |female|4.0              |1    |1    |PP 9549         |16.7   |G    |S       |Baby        |\n",
      "|12         |1       |1     |Bonnell, Miss. Elizabeth                               |female|58.0             |0    |0    |113783          |26.55  |C    |S       |Adult       |\n",
      "|13         |0       |3     |Saundercock, Mr. William Henry                         |male  |20.0             |0    |0    |A/5. 2151       |8.05   |N    |S       |Student     |\n",
      "|14         |0       |3     |Andersson, Mr. Anders Johan                            |male  |39.0             |1    |5    |347082          |31.275 |N    |S       |Adult       |\n",
      "|15         |0       |3     |Vestrom, Miss. Hulda Amanda Adolfina                   |female|14.0             |0    |0    |350406          |7.8542 |N    |S       |Teenager    |\n",
      "|16         |1       |2     |Hewlett, Mrs. (Mary D Kingcome)                        |female|55.0             |0    |0    |248706          |16.0   |N    |S       |Adult       |\n",
      "|17         |0       |3     |Rice, Master. Eugene                                   |male  |2.0              |4    |1    |382652          |29.125 |N    |Q       |Baby        |\n",
      "|18         |1       |2     |Williams, Mr. Charles Eugene                           |male  |29.69911764705882|0    |0    |244373          |13.0   |N    |S       |Young Adult |\n",
      "|19         |0       |3     |Vander Planke, Mrs. Julius (Emelia Maria Vandemoortele)|female|31.0             |1    |0    |345763          |18.0   |N    |S       |Young Adult |\n",
      "|20         |1       |3     |Masselmani, Mrs. Fatima                                |female|29.69911764705882|0    |0    |2649            |7.225  |N    |C       |Young Adult |\n",
      "+-----------+--------+------+-------------------------------------------------------+------+-----------------+-----+-----+----------------+-------+-----+--------+------------+\n",
      "only showing top 20 rows\n",
      "\n"
     ]
    }
   ],
   "source": [
    "titanic_sdf = fill_n_transform_columns(titanic_sdf)\n",
    "titanic_sdf.show(truncate=False)"
   ]
  },
  {
   "cell_type": "code",
   "execution_count": 129,
   "metadata": {},
   "outputs": [
    {
     "name": "stdout",
     "output_type": "stream",
     "text": [
      "+-----------+--------+------+----+---+---+-----+-----+------+----+-----+--------+------------+\n",
      "|PassengerId|Survived|Pclass|Name|Sex|Age|SibSp|Parch|Ticket|Fare|Cabin|Embarked|Age_Category|\n",
      "+-----------+--------+------+----+---+---+-----+-----+------+----+-----+--------+------------+\n",
      "|0          |0       |0     |0   |0  |0  |0    |0    |0     |0   |0    |0       |0           |\n",
      "+-----------+--------+------+----+---+---+-----+-----+------+----+-----+--------+------------+\n",
      "\n"
     ]
    }
   ],
   "source": [
    "titanic_sdf.select([F.count(F.when(F.col(c).isNull() | F.isnan(F.col(c)), c)).alias(c) for c in titanic_sdf.columns]).show(truncate=False)"
   ]
  },
  {
   "cell_type": "code",
   "execution_count": 130,
   "metadata": {},
   "outputs": [],
   "source": [
    "def drop_columns(sdf, drop_cols=None):\n",
    "    sdf = sdf.drop(*drop_cols)\n",
    "    return sdf"
   ]
  },
  {
   "cell_type": "code",
   "execution_count": 131,
   "metadata": {},
   "outputs": [
    {
     "name": "stdout",
     "output_type": "stream",
     "text": [
      "+--------+------+------+-----------------+-----+-----+-------+-----+--------+------------+\n",
      "|Survived|Pclass|Sex   |Age              |SibSp|Parch|Fare   |Cabin|Embarked|Age_Category|\n",
      "+--------+------+------+-----------------+-----+-----+-------+-----+--------+------------+\n",
      "|0       |3     |male  |22.0             |1    |0    |7.25   |N    |S       |Student     |\n",
      "|1       |1     |female|38.0             |1    |0    |71.2833|C    |C       |Adult       |\n",
      "|1       |3     |female|26.0             |0    |0    |7.925  |N    |S       |Young Adult |\n",
      "|1       |1     |female|35.0             |1    |0    |53.1   |C    |S       |Young Adult |\n",
      "|0       |3     |male  |35.0             |0    |0    |8.05   |N    |S       |Young Adult |\n",
      "|0       |3     |male  |29.69911764705882|0    |0    |8.4583 |N    |Q       |Young Adult |\n",
      "|0       |1     |male  |54.0             |0    |0    |51.8625|E    |S       |Adult       |\n",
      "|0       |3     |male  |2.0              |3    |1    |21.075 |N    |S       |Baby        |\n",
      "|1       |3     |female|27.0             |0    |2    |11.1333|N    |S       |Young Adult |\n",
      "|1       |2     |female|14.0             |1    |0    |30.0708|N    |C       |Teenager    |\n",
      "|1       |3     |female|4.0              |1    |1    |16.7   |G    |S       |Baby        |\n",
      "|1       |1     |female|58.0             |0    |0    |26.55  |C    |S       |Adult       |\n",
      "|0       |3     |male  |20.0             |0    |0    |8.05   |N    |S       |Student     |\n",
      "|0       |3     |male  |39.0             |1    |5    |31.275 |N    |S       |Adult       |\n",
      "|0       |3     |female|14.0             |0    |0    |7.8542 |N    |S       |Teenager    |\n",
      "|1       |2     |female|55.0             |0    |0    |16.0   |N    |S       |Adult       |\n",
      "|0       |3     |male  |2.0              |4    |1    |29.125 |N    |Q       |Baby        |\n",
      "|1       |2     |male  |29.69911764705882|0    |0    |13.0   |N    |S       |Young Adult |\n",
      "|0       |3     |female|31.0             |1    |0    |18.0   |N    |S       |Young Adult |\n",
      "|1       |3     |female|29.69911764705882|0    |0    |7.225  |N    |C       |Young Adult |\n",
      "+--------+------+------+-----------------+-----+-----+-------+-----+--------+------------+\n",
      "only showing top 20 rows\n",
      "\n"
     ]
    }
   ],
   "source": [
    "titanic_sdf = drop_columns(titanic_sdf, drop_cols=['PassengerId', 'Name', 'Ticket'])\n",
    "titanic_sdf.show(truncate=False)"
   ]
  },
  {
   "cell_type": "code",
   "execution_count": 152,
   "metadata": {},
   "outputs": [],
   "source": [
    "from pyspark.ml.feature import StringIndexer, OneHotEncoder\n",
    "from pyspark.ml import Pipeline\n",
    "\n",
    "def encode_columns(sdf, input_cols=None, encode='label'):\n",
    "    label_cols = [f'label_{col}' for col in input_cols]\n",
    "    onehot_cols = [f'onehot_{col}' for col in input_cols]\n",
    "\n",
    "    string_indexer = StringIndexer(inputCols=input_cols, outputCols=label_cols)\n",
    "    onehot_encoder = OneHotEncoder(inputCols=label_cols, outputCols=onehot_cols)\n",
    "\n",
    "    pipeline = Pipeline(stages=[string_indexer] if encode == 'label' else [string_indexer, onehot_encoder])\n",
    "    sdf = pipeline.fit(sdf).transform(sdf)\n",
    "    return sdf"
   ]
  },
  {
   "cell_type": "code",
   "execution_count": 133,
   "metadata": {},
   "outputs": [
    {
     "name": "stderr",
     "output_type": "stream",
     "text": [
      "2023/06/06 06:30:36 INFO mlflow.utils.autologging_utils: Created MLflow autologging run with ID 'edef063cd6c64735aaf49a9a10d54478', which will track hyperparameters, performance metrics, model artifacts, and lineage information for the current pyspark.ml workflow\n",
      "23/06/06 06:30:36 WARN StringIndexerModel: Input column Sex does not exist during transformation. Skip StringIndexerModel for this column.\n",
      "23/06/06 06:30:37 WARN StringIndexerModel: Input column Cabin does not exist during transformation. Skip StringIndexerModel for this column.\n",
      "23/06/06 06:30:37 WARN StringIndexerModel: Input column Embarked does not exist during transformation. Skip StringIndexerModel for this column.\n",
      "23/06/06 06:30:37 WARN StringIndexerModel: Input column Age_Category does not exist during transformation. Skip StringIndexerModel for this column.\n",
      "2023/06/06 06:30:37 WARNING mlflow.pyspark.ml: Model outputs contain unsupported Spark data types: [StructField('onehot_Age_Category', VectorUDT(), True), StructField('onehot_Cabin', VectorUDT(), True), StructField('onehot_Sex', VectorUDT(), True), StructField('onehot_Embarked', VectorUDT(), True)]. Output schema is not be logged.\n",
      "23/06/06 06:30:37 ERROR Instrumentation: org.apache.hadoop.fs.UnsupportedFileSystemException: No FileSystem for scheme \"mlflow-artifacts\"\n",
      "\tat org.apache.hadoop.fs.FileSystem.getFileSystemClass(FileSystem.java:3443)\n",
      "\tat org.apache.hadoop.fs.FileSystem.createFileSystem(FileSystem.java:3466)\n",
      "\tat org.apache.hadoop.fs.FileSystem.access$300(FileSystem.java:174)\n",
      "\tat org.apache.hadoop.fs.FileSystem$Cache.getInternal(FileSystem.java:3574)\n",
      "\tat org.apache.hadoop.fs.FileSystem$Cache.get(FileSystem.java:3521)\n",
      "\tat org.apache.hadoop.fs.FileSystem.get(FileSystem.java:540)\n",
      "\tat org.apache.hadoop.fs.Path.getFileSystem(Path.java:365)\n",
      "\tat org.apache.spark.ml.util.FileSystemOverwrite.handleOverwrite(ReadWrite.scala:673)\n",
      "\tat org.apache.spark.ml.util.MLWriter.save(ReadWrite.scala:167)\n",
      "\tat org.apache.spark.ml.PipelineModel$PipelineModelWriter.super$save(Pipeline.scala:344)\n",
      "\tat org.apache.spark.ml.PipelineModel$PipelineModelWriter.$anonfun$save$4(Pipeline.scala:344)\n",
      "\tat org.apache.spark.ml.MLEvents.withSaveInstanceEvent(events.scala:174)\n",
      "\tat org.apache.spark.ml.MLEvents.withSaveInstanceEvent$(events.scala:169)\n",
      "\tat org.apache.spark.ml.util.Instrumentation.withSaveInstanceEvent(Instrumentation.scala:42)\n",
      "\tat org.apache.spark.ml.PipelineModel$PipelineModelWriter.$anonfun$save$3(Pipeline.scala:344)\n",
      "\tat org.apache.spark.ml.PipelineModel$PipelineModelWriter.$anonfun$save$3$adapted(Pipeline.scala:344)\n",
      "\tat org.apache.spark.ml.util.Instrumentation$.$anonfun$instrumented$1(Instrumentation.scala:191)\n",
      "\tat scala.util.Try$.apply(Try.scala:213)\n",
      "\tat org.apache.spark.ml.util.Instrumentation$.instrumented(Instrumentation.scala:191)\n",
      "\tat org.apache.spark.ml.PipelineModel$PipelineModelWriter.save(Pipeline.scala:344)\n",
      "\tat java.base/jdk.internal.reflect.NativeMethodAccessorImpl.invoke0(Native Method)\n",
      "\tat java.base/jdk.internal.reflect.NativeMethodAccessorImpl.invoke(NativeMethodAccessorImpl.java:62)\n",
      "\tat java.base/jdk.internal.reflect.DelegatingMethodAccessorImpl.invoke(DelegatingMethodAccessorImpl.java:43)\n",
      "\tat java.base/java.lang.reflect.Method.invoke(Method.java:566)\n",
      "\tat py4j.reflection.MethodInvoker.invoke(MethodInvoker.java:244)\n",
      "\tat py4j.reflection.ReflectionEngine.invoke(ReflectionEngine.java:374)\n",
      "\tat py4j.Gateway.invoke(Gateway.java:282)\n",
      "\tat py4j.commands.AbstractCommand.invokeMethod(AbstractCommand.java:132)\n",
      "\tat py4j.commands.CallCommand.execute(CallCommand.java:79)\n",
      "\tat py4j.ClientServerConnection.waitForCommands(ClientServerConnection.java:182)\n",
      "\tat py4j.ClientServerConnection.run(ClientServerConnection.java:106)\n",
      "\tat java.base/java.lang.Thread.run(Thread.java:829)\n",
      "\n"
     ]
    },
    {
     "name": "stdout",
     "output_type": "stream",
     "text": [
      "+--------+------+------+-----------------+-----+-----+-------+-----+--------+------------+------------------+-----------+---------+--------------+-------------------+-------------+-------------+---------------+\n",
      "|Survived|Pclass|   Sex|              Age|SibSp|Parch|   Fare|Cabin|Embarked|Age_Category|label_Age_Category|label_Cabin|label_Sex|label_Embarked|onehot_Age_Category| onehot_Cabin|   onehot_Sex|onehot_Embarked|\n",
      "+--------+------+------+-----------------+-----+-----+-------+-----+--------+------------+------------------+-----------+---------+--------------+-------------------+-------------+-------------+---------------+\n",
      "|       0|     3|  male|             22.0|    1|    0|   7.25|    N|       S|     Student|               2.0|        0.0|      0.0|           0.0|      (6,[2],[1.0])|(8,[0],[1.0])|(1,[0],[1.0])|  (3,[0],[1.0])|\n",
      "|       1|     1|female|             38.0|    1|    0|71.2833|    C|       C|       Adult|               1.0|        1.0|      1.0|           1.0|      (6,[1],[1.0])|(8,[1],[1.0])|    (1,[],[])|  (3,[1],[1.0])|\n",
      "|       1|     3|female|             26.0|    0|    0|  7.925|    N|       S| Young Adult|               0.0|        0.0|      1.0|           0.0|      (6,[0],[1.0])|(8,[0],[1.0])|    (1,[],[])|  (3,[0],[1.0])|\n",
      "|       1|     1|female|             35.0|    1|    0|   53.1|    C|       S| Young Adult|               0.0|        1.0|      1.0|           0.0|      (6,[0],[1.0])|(8,[1],[1.0])|    (1,[],[])|  (3,[0],[1.0])|\n",
      "|       0|     3|  male|             35.0|    0|    0|   8.05|    N|       S| Young Adult|               0.0|        0.0|      0.0|           0.0|      (6,[0],[1.0])|(8,[0],[1.0])|(1,[0],[1.0])|  (3,[0],[1.0])|\n",
      "|       0|     3|  male|29.69911764705882|    0|    0| 8.4583|    N|       Q| Young Adult|               0.0|        0.0|      0.0|           2.0|      (6,[0],[1.0])|(8,[0],[1.0])|(1,[0],[1.0])|  (3,[2],[1.0])|\n",
      "|       0|     1|  male|             54.0|    0|    0|51.8625|    E|       S|       Adult|               1.0|        4.0|      0.0|           0.0|      (6,[1],[1.0])|(8,[4],[1.0])|(1,[0],[1.0])|  (3,[0],[1.0])|\n",
      "|       0|     3|  male|              2.0|    3|    1| 21.075|    N|       S|        Baby|               4.0|        0.0|      0.0|           0.0|      (6,[4],[1.0])|(8,[0],[1.0])|(1,[0],[1.0])|  (3,[0],[1.0])|\n",
      "|       1|     3|female|             27.0|    0|    2|11.1333|    N|       S| Young Adult|               0.0|        0.0|      1.0|           0.0|      (6,[0],[1.0])|(8,[0],[1.0])|    (1,[],[])|  (3,[0],[1.0])|\n",
      "|       1|     2|female|             14.0|    1|    0|30.0708|    N|       C|    Teenager|               3.0|        0.0|      1.0|           1.0|      (6,[3],[1.0])|(8,[0],[1.0])|    (1,[],[])|  (3,[1],[1.0])|\n",
      "|       1|     3|female|              4.0|    1|    1|   16.7|    G|       S|        Baby|               4.0|        7.0|      1.0|           0.0|      (6,[4],[1.0])|(8,[7],[1.0])|    (1,[],[])|  (3,[0],[1.0])|\n",
      "|       1|     1|female|             58.0|    0|    0|  26.55|    C|       S|       Adult|               1.0|        1.0|      1.0|           0.0|      (6,[1],[1.0])|(8,[1],[1.0])|    (1,[],[])|  (3,[0],[1.0])|\n",
      "|       0|     3|  male|             20.0|    0|    0|   8.05|    N|       S|     Student|               2.0|        0.0|      0.0|           0.0|      (6,[2],[1.0])|(8,[0],[1.0])|(1,[0],[1.0])|  (3,[0],[1.0])|\n",
      "|       0|     3|  male|             39.0|    1|    5| 31.275|    N|       S|       Adult|               1.0|        0.0|      0.0|           0.0|      (6,[1],[1.0])|(8,[0],[1.0])|(1,[0],[1.0])|  (3,[0],[1.0])|\n",
      "|       0|     3|female|             14.0|    0|    0| 7.8542|    N|       S|    Teenager|               3.0|        0.0|      1.0|           0.0|      (6,[3],[1.0])|(8,[0],[1.0])|    (1,[],[])|  (3,[0],[1.0])|\n",
      "|       1|     2|female|             55.0|    0|    0|   16.0|    N|       S|       Adult|               1.0|        0.0|      1.0|           0.0|      (6,[1],[1.0])|(8,[0],[1.0])|    (1,[],[])|  (3,[0],[1.0])|\n",
      "|       0|     3|  male|              2.0|    4|    1| 29.125|    N|       Q|        Baby|               4.0|        0.0|      0.0|           2.0|      (6,[4],[1.0])|(8,[0],[1.0])|(1,[0],[1.0])|  (3,[2],[1.0])|\n",
      "|       1|     2|  male|29.69911764705882|    0|    0|   13.0|    N|       S| Young Adult|               0.0|        0.0|      0.0|           0.0|      (6,[0],[1.0])|(8,[0],[1.0])|(1,[0],[1.0])|  (3,[0],[1.0])|\n",
      "|       0|     3|female|             31.0|    1|    0|   18.0|    N|       S| Young Adult|               0.0|        0.0|      1.0|           0.0|      (6,[0],[1.0])|(8,[0],[1.0])|    (1,[],[])|  (3,[0],[1.0])|\n",
      "|       1|     3|female|29.69911764705882|    0|    0|  7.225|    N|       C| Young Adult|               0.0|        0.0|      1.0|           1.0|      (6,[0],[1.0])|(8,[0],[1.0])|    (1,[],[])|  (3,[1],[1.0])|\n",
      "+--------+------+------+-----------------+-----+-----+-------+-----+--------+------------+------------------+-----------+---------+--------------+-------------------+-------------+-------------+---------------+\n",
      "only showing top 20 rows\n",
      "\n"
     ]
    }
   ],
   "source": [
    "titanic_sdf_encoded = encode_columns(titanic_sdf.select('*'), input_cols=['Age_Category', 'Cabin', 'Sex', 'Embarked'], encode='onehot')\n",
    "titanic_sdf_encoded.show()"
   ]
  },
  {
   "cell_type": "code",
   "execution_count": 160,
   "metadata": {},
   "outputs": [
    {
     "name": "stdout",
     "output_type": "stream",
     "text": [
      "+-----------+--------+------+--------------------+------+----+-----+-----+----------------+-------+-----+--------+\n",
      "|PassengerId|Survived|Pclass|                Name|   Sex| Age|SibSp|Parch|          Ticket|   Fare|Cabin|Embarked|\n",
      "+-----------+--------+------+--------------------+------+----+-----+-----+----------------+-------+-----+--------+\n",
      "|          1|       0|     3|Braund, Mr. Owen ...|  male|22.0|    1|    0|       A/5 21171|   7.25| null|       S|\n",
      "|          2|       1|     1|Cumings, Mrs. Joh...|female|38.0|    1|    0|        PC 17599|71.2833|  C85|       C|\n",
      "|          3|       1|     3|Heikkinen, Miss. ...|female|26.0|    0|    0|STON/O2. 3101282|  7.925| null|       S|\n",
      "|          4|       1|     1|Futrelle, Mrs. Ja...|female|35.0|    1|    0|          113803|   53.1| C123|       S|\n",
      "|          5|       0|     3|Allen, Mr. Willia...|  male|35.0|    0|    0|          373450|   8.05| null|       S|\n",
      "|          6|       0|     3|    Moran, Mr. James|  male|null|    0|    0|          330877| 8.4583| null|       Q|\n",
      "|          7|       0|     1|McCarthy, Mr. Tim...|  male|54.0|    0|    0|           17463|51.8625|  E46|       S|\n",
      "|          8|       0|     3|Palsson, Master. ...|  male| 2.0|    3|    1|          349909| 21.075| null|       S|\n",
      "|          9|       1|     3|Johnson, Mrs. Osc...|female|27.0|    0|    2|          347742|11.1333| null|       S|\n",
      "|         10|       1|     2|Nasser, Mrs. Nich...|female|14.0|    1|    0|          237736|30.0708| null|       C|\n",
      "|         11|       1|     3|Sandstrom, Miss. ...|female| 4.0|    1|    1|         PP 9549|   16.7|   G6|       S|\n",
      "|         12|       1|     1|Bonnell, Miss. El...|female|58.0|    0|    0|          113783|  26.55| C103|       S|\n",
      "|         13|       0|     3|Saundercock, Mr. ...|  male|20.0|    0|    0|       A/5. 2151|   8.05| null|       S|\n",
      "|         14|       0|     3|Andersson, Mr. An...|  male|39.0|    1|    5|          347082| 31.275| null|       S|\n",
      "|         15|       0|     3|Vestrom, Miss. Hu...|female|14.0|    0|    0|          350406| 7.8542| null|       S|\n",
      "|         16|       1|     2|Hewlett, Mrs. (Ma...|female|55.0|    0|    0|          248706|   16.0| null|       S|\n",
      "|         17|       0|     3|Rice, Master. Eugene|  male| 2.0|    4|    1|          382652| 29.125| null|       Q|\n",
      "|         18|       1|     2|Williams, Mr. Cha...|  male|null|    0|    0|          244373|   13.0| null|       S|\n",
      "|         19|       0|     3|Vander Planke, Mr...|female|31.0|    1|    0|          345763|   18.0| null|       S|\n",
      "|         20|       1|     3|Masselmani, Mrs. ...|female|null|    0|    0|            2649|  7.225| null|       C|\n",
      "+-----------+--------+------+--------------------+------+----+-----+-----+----------------+-------+-----+--------+\n",
      "only showing top 20 rows\n",
      "\n"
     ]
    }
   ],
   "source": [
    "titanic_sdf = spark.read.csv('data/titanic_train.csv', header=True, inferSchema=True)\n",
    "titanic_sdf.show()"
   ]
  },
  {
   "cell_type": "code",
   "execution_count": 161,
   "metadata": {},
   "outputs": [
    {
     "name": "stderr",
     "output_type": "stream",
     "text": [
      "2023/06/06 07:45:52 INFO mlflow.utils.autologging_utils: Created MLflow autologging run with ID 'b255daf06c584103862d4710444968b1', which will track hyperparameters, performance metrics, model artifacts, and lineage information for the current pyspark.ml workflow\n",
      "23/06/06 07:45:53 WARN StringIndexerModel: Input column Sex does not exist during transformation. Skip StringIndexerModel for this column.\n",
      "23/06/06 07:45:53 WARN StringIndexerModel: Input column Cabin does not exist during transformation. Skip StringIndexerModel for this column.\n",
      "23/06/06 07:45:53 WARN StringIndexerModel: Input column Embarked does not exist during transformation. Skip StringIndexerModel for this column.\n",
      "23/06/06 07:45:53 WARN StringIndexerModel: Input column Age_Category does not exist during transformation. Skip StringIndexerModel for this column.\n",
      "2023/06/06 07:45:53 WARNING mlflow.pyspark.ml: Failed to infer model signature: list index out of range\n",
      "23/06/06 07:45:53 ERROR Instrumentation: org.apache.hadoop.fs.UnsupportedFileSystemException: No FileSystem for scheme \"mlflow-artifacts\"\n",
      "\tat org.apache.hadoop.fs.FileSystem.getFileSystemClass(FileSystem.java:3443)\n",
      "\tat org.apache.hadoop.fs.FileSystem.createFileSystem(FileSystem.java:3466)\n",
      "\tat org.apache.hadoop.fs.FileSystem.access$300(FileSystem.java:174)\n",
      "\tat org.apache.hadoop.fs.FileSystem$Cache.getInternal(FileSystem.java:3574)\n",
      "\tat org.apache.hadoop.fs.FileSystem$Cache.get(FileSystem.java:3521)\n",
      "\tat org.apache.hadoop.fs.FileSystem.get(FileSystem.java:540)\n",
      "\tat org.apache.hadoop.fs.Path.getFileSystem(Path.java:365)\n",
      "\tat org.apache.spark.ml.util.FileSystemOverwrite.handleOverwrite(ReadWrite.scala:673)\n",
      "\tat org.apache.spark.ml.util.MLWriter.save(ReadWrite.scala:167)\n",
      "\tat org.apache.spark.ml.PipelineModel$PipelineModelWriter.super$save(Pipeline.scala:344)\n",
      "\tat org.apache.spark.ml.PipelineModel$PipelineModelWriter.$anonfun$save$4(Pipeline.scala:344)\n",
      "\tat org.apache.spark.ml.MLEvents.withSaveInstanceEvent(events.scala:174)\n",
      "\tat org.apache.spark.ml.MLEvents.withSaveInstanceEvent$(events.scala:169)\n",
      "\tat org.apache.spark.ml.util.Instrumentation.withSaveInstanceEvent(Instrumentation.scala:42)\n",
      "\tat org.apache.spark.ml.PipelineModel$PipelineModelWriter.$anonfun$save$3(Pipeline.scala:344)\n",
      "\tat org.apache.spark.ml.PipelineModel$PipelineModelWriter.$anonfun$save$3$adapted(Pipeline.scala:344)\n",
      "\tat org.apache.spark.ml.util.Instrumentation$.$anonfun$instrumented$1(Instrumentation.scala:191)\n",
      "\tat scala.util.Try$.apply(Try.scala:213)\n",
      "\tat org.apache.spark.ml.util.Instrumentation$.instrumented(Instrumentation.scala:191)\n",
      "\tat org.apache.spark.ml.PipelineModel$PipelineModelWriter.save(Pipeline.scala:344)\n",
      "\tat java.base/jdk.internal.reflect.NativeMethodAccessorImpl.invoke0(Native Method)\n",
      "\tat java.base/jdk.internal.reflect.NativeMethodAccessorImpl.invoke(NativeMethodAccessorImpl.java:62)\n",
      "\tat java.base/jdk.internal.reflect.DelegatingMethodAccessorImpl.invoke(DelegatingMethodAccessorImpl.java:43)\n",
      "\tat java.base/java.lang.reflect.Method.invoke(Method.java:566)\n",
      "\tat py4j.reflection.MethodInvoker.invoke(MethodInvoker.java:244)\n",
      "\tat py4j.reflection.ReflectionEngine.invoke(ReflectionEngine.java:374)\n",
      "\tat py4j.Gateway.invoke(Gateway.java:282)\n",
      "\tat py4j.commands.AbstractCommand.invokeMethod(AbstractCommand.java:132)\n",
      "\tat py4j.commands.CallCommand.execute(CallCommand.java:79)\n",
      "\tat py4j.ClientServerConnection.waitForCommands(ClientServerConnection.java:182)\n",
      "\tat py4j.ClientServerConnection.run(ClientServerConnection.java:106)\n",
      "\tat java.base/java.lang.Thread.run(Thread.java:829)\n",
      "\n"
     ]
    },
    {
     "name": "stdout",
     "output_type": "stream",
     "text": [
      "root\n",
      " |-- PassengerId: integer (nullable = true)\n",
      " |-- Survived: integer (nullable = true)\n",
      " |-- Pclass: integer (nullable = true)\n",
      " |-- Name: string (nullable = true)\n",
      " |-- Sex: string (nullable = true)\n",
      " |-- Age: double (nullable = false)\n",
      " |-- SibSp: integer (nullable = true)\n",
      " |-- Parch: integer (nullable = true)\n",
      " |-- Ticket: string (nullable = true)\n",
      " |-- Fare: double (nullable = true)\n",
      " |-- Cabin: string (nullable = false)\n",
      " |-- Embarked: string (nullable = false)\n",
      " |-- Age_Category: string (nullable = true)\n",
      " |-- label_Age_Category: double (nullable = false)\n",
      " |-- label_Cabin: double (nullable = false)\n",
      " |-- label_Sex: double (nullable = false)\n",
      " |-- label_Embarked: double (nullable = false)\n",
      "\n"
     ]
    }
   ],
   "source": [
    "titanic_sdf = fill_n_transform_columns(titanic_sdf)\n",
    "titanic_sdf = encode_columns(titanic_sdf, input_cols=['Age_Category', 'Cabin', 'Sex', 'Embarked'])\n",
    "titanic_sdf.printSchema()"
   ]
  },
  {
   "cell_type": "code",
   "execution_count": 162,
   "metadata": {},
   "outputs": [
    {
     "name": "stdout",
     "output_type": "stream",
     "text": [
      "+-----------+--------+------+----+---+---+-----+-----+------+----+-----+--------+------------+------------------+-----------+---------+--------------+\n",
      "|PassengerId|Survived|Pclass|Name|Sex|Age|SibSp|Parch|Ticket|Fare|Cabin|Embarked|Age_Category|label_Age_Category|label_Cabin|label_Sex|label_Embarked|\n",
      "+-----------+--------+------+----+---+---+-----+-----+------+----+-----+--------+------------+------------------+-----------+---------+--------------+\n",
      "|          0|       0|     0|   0|  0|  0|    0|    0|     0|   0|    0|       0|           0|                 0|          0|        0|             0|\n",
      "+-----------+--------+------+----+---+---+-----+-----+------+----+-----+--------+------------+------------------+-----------+---------+--------------+\n",
      "\n",
      "+-----------+--------+------+--------------------+------+-----------------+-----+-----+----------------+-------+-----+--------+------------+------------------+-----------+---------+--------------+\n",
      "|PassengerId|Survived|Pclass|                Name|   Sex|              Age|SibSp|Parch|          Ticket|   Fare|Cabin|Embarked|Age_Category|label_Age_Category|label_Cabin|label_Sex|label_Embarked|\n",
      "+-----------+--------+------+--------------------+------+-----------------+-----+-----+----------------+-------+-----+--------+------------+------------------+-----------+---------+--------------+\n",
      "|          1|       0|     3|Braund, Mr. Owen ...|  male|             22.0|    1|    0|       A/5 21171|   7.25|    N|       S|     Student|               2.0|        0.0|      0.0|           0.0|\n",
      "|          2|       1|     1|Cumings, Mrs. Joh...|female|             38.0|    1|    0|        PC 17599|71.2833|    C|       C|       Adult|               1.0|        1.0|      1.0|           1.0|\n",
      "|          3|       1|     3|Heikkinen, Miss. ...|female|             26.0|    0|    0|STON/O2. 3101282|  7.925|    N|       S| Young Adult|               0.0|        0.0|      1.0|           0.0|\n",
      "|          4|       1|     1|Futrelle, Mrs. Ja...|female|             35.0|    1|    0|          113803|   53.1|    C|       S| Young Adult|               0.0|        1.0|      1.0|           0.0|\n",
      "|          5|       0|     3|Allen, Mr. Willia...|  male|             35.0|    0|    0|          373450|   8.05|    N|       S| Young Adult|               0.0|        0.0|      0.0|           0.0|\n",
      "|          6|       0|     3|    Moran, Mr. James|  male|29.69911764705882|    0|    0|          330877| 8.4583|    N|       Q| Young Adult|               0.0|        0.0|      0.0|           2.0|\n",
      "|          7|       0|     1|McCarthy, Mr. Tim...|  male|             54.0|    0|    0|           17463|51.8625|    E|       S|       Adult|               1.0|        4.0|      0.0|           0.0|\n",
      "|          8|       0|     3|Palsson, Master. ...|  male|              2.0|    3|    1|          349909| 21.075|    N|       S|        Baby|               4.0|        0.0|      0.0|           0.0|\n",
      "|          9|       1|     3|Johnson, Mrs. Osc...|female|             27.0|    0|    2|          347742|11.1333|    N|       S| Young Adult|               0.0|        0.0|      1.0|           0.0|\n",
      "|         10|       1|     2|Nasser, Mrs. Nich...|female|             14.0|    1|    0|          237736|30.0708|    N|       C|    Teenager|               3.0|        0.0|      1.0|           1.0|\n",
      "|         11|       1|     3|Sandstrom, Miss. ...|female|              4.0|    1|    1|         PP 9549|   16.7|    G|       S|        Baby|               4.0|        7.0|      1.0|           0.0|\n",
      "|         12|       1|     1|Bonnell, Miss. El...|female|             58.0|    0|    0|          113783|  26.55|    C|       S|       Adult|               1.0|        1.0|      1.0|           0.0|\n",
      "|         13|       0|     3|Saundercock, Mr. ...|  male|             20.0|    0|    0|       A/5. 2151|   8.05|    N|       S|     Student|               2.0|        0.0|      0.0|           0.0|\n",
      "|         14|       0|     3|Andersson, Mr. An...|  male|             39.0|    1|    5|          347082| 31.275|    N|       S|       Adult|               1.0|        0.0|      0.0|           0.0|\n",
      "|         15|       0|     3|Vestrom, Miss. Hu...|female|             14.0|    0|    0|          350406| 7.8542|    N|       S|    Teenager|               3.0|        0.0|      1.0|           0.0|\n",
      "|         16|       1|     2|Hewlett, Mrs. (Ma...|female|             55.0|    0|    0|          248706|   16.0|    N|       S|       Adult|               1.0|        0.0|      1.0|           0.0|\n",
      "|         17|       0|     3|Rice, Master. Eugene|  male|              2.0|    4|    1|          382652| 29.125|    N|       Q|        Baby|               4.0|        0.0|      0.0|           2.0|\n",
      "|         18|       1|     2|Williams, Mr. Cha...|  male|29.69911764705882|    0|    0|          244373|   13.0|    N|       S| Young Adult|               0.0|        0.0|      0.0|           0.0|\n",
      "|         19|       0|     3|Vander Planke, Mr...|female|             31.0|    1|    0|          345763|   18.0|    N|       S| Young Adult|               0.0|        0.0|      1.0|           0.0|\n",
      "|         20|       1|     3|Masselmani, Mrs. ...|female|29.69911764705882|    0|    0|            2649|  7.225|    N|       C| Young Adult|               0.0|        0.0|      1.0|           1.0|\n",
      "+-----------+--------+------+--------------------+------+-----------------+-----+-----+----------------+-------+-----+--------+------------+------------------+-----------+---------+--------------+\n",
      "only showing top 20 rows\n",
      "\n"
     ]
    }
   ],
   "source": [
    "titanic_sdf.select([F.count(F.when(F.col(c).isNull() | F.isnan(c), c)).alias(c) for c in titanic_sdf.columns]).show()\n",
    "titanic_sdf.show()"
   ]
  },
  {
   "cell_type": "code",
   "execution_count": 163,
   "metadata": {},
   "outputs": [
    {
     "data": {
      "text/plain": [
       "['Pclass',\n",
       " 'Age',\n",
       " 'SibSp',\n",
       " 'Parch',\n",
       " 'Fare',\n",
       " 'label_Age_Category',\n",
       " 'label_Cabin',\n",
       " 'label_Sex',\n",
       " 'label_Embarked']"
      ]
     },
     "execution_count": 163,
     "metadata": {},
     "output_type": "execute_result"
    }
   ],
   "source": [
    "drop_columns = [col_name for col_name, col_type in titanic_sdf.dtypes if col_type == 'string']\n",
    "drop_columns += ['Survived', 'PassengerId']\n",
    "\n",
    "vector_columns = [col for col in titanic_sdf.columns if col not in drop_columns]\n",
    "vector_columns"
   ]
  },
  {
   "cell_type": "code",
   "execution_count": 164,
   "metadata": {},
   "outputs": [
    {
     "name": "stdout",
     "output_type": "stream",
     "text": [
      "+-----------+--------+------+--------------------+------+-----------------+-----+-----+----------------+-------+-----+--------+------------+------------------+-----------+---------+--------------+--------------------+\n",
      "|PassengerId|Survived|Pclass|                Name|   Sex|              Age|SibSp|Parch|          Ticket|   Fare|Cabin|Embarked|Age_Category|label_Age_Category|label_Cabin|label_Sex|label_Embarked|            features|\n",
      "+-----------+--------+------+--------------------+------+-----------------+-----+-----+----------------+-------+-----+--------+------------+------------------+-----------+---------+--------------+--------------------+\n",
      "|          1|       0|     3|Braund, Mr. Owen ...|  male|             22.0|    1|    0|       A/5 21171|   7.25|    N|       S|     Student|               2.0|        0.0|      0.0|           0.0|[3.0,22.0,1.0,0.0...|\n",
      "|          2|       1|     1|Cumings, Mrs. Joh...|female|             38.0|    1|    0|        PC 17599|71.2833|    C|       C|       Adult|               1.0|        1.0|      1.0|           1.0|[1.0,38.0,1.0,0.0...|\n",
      "|          3|       1|     3|Heikkinen, Miss. ...|female|             26.0|    0|    0|STON/O2. 3101282|  7.925|    N|       S| Young Adult|               0.0|        0.0|      1.0|           0.0|(9,[0,1,4,7],[3.0...|\n",
      "|          4|       1|     1|Futrelle, Mrs. Ja...|female|             35.0|    1|    0|          113803|   53.1|    C|       S| Young Adult|               0.0|        1.0|      1.0|           0.0|[1.0,35.0,1.0,0.0...|\n",
      "|          5|       0|     3|Allen, Mr. Willia...|  male|             35.0|    0|    0|          373450|   8.05|    N|       S| Young Adult|               0.0|        0.0|      0.0|           0.0|(9,[0,1,4],[3.0,3...|\n",
      "|          8|       0|     3|Palsson, Master. ...|  male|              2.0|    3|    1|          349909| 21.075|    N|       S|        Baby|               4.0|        0.0|      0.0|           0.0|[3.0,2.0,3.0,1.0,...|\n",
      "|          9|       1|     3|Johnson, Mrs. Osc...|female|             27.0|    0|    2|          347742|11.1333|    N|       S| Young Adult|               0.0|        0.0|      1.0|           0.0|[3.0,27.0,0.0,2.0...|\n",
      "|         10|       1|     2|Nasser, Mrs. Nich...|female|             14.0|    1|    0|          237736|30.0708|    N|       C|    Teenager|               3.0|        0.0|      1.0|           1.0|[2.0,14.0,1.0,0.0...|\n",
      "|         11|       1|     3|Sandstrom, Miss. ...|female|              4.0|    1|    1|         PP 9549|   16.7|    G|       S|        Baby|               4.0|        7.0|      1.0|           0.0|[3.0,4.0,1.0,1.0,...|\n",
      "|         12|       1|     1|Bonnell, Miss. El...|female|             58.0|    0|    0|          113783|  26.55|    C|       S|       Adult|               1.0|        1.0|      1.0|           0.0|[1.0,58.0,0.0,0.0...|\n",
      "|         16|       1|     2|Hewlett, Mrs. (Ma...|female|             55.0|    0|    0|          248706|   16.0|    N|       S|       Adult|               1.0|        0.0|      1.0|           0.0|[2.0,55.0,0.0,0.0...|\n",
      "|         19|       0|     3|Vander Planke, Mr...|female|             31.0|    1|    0|          345763|   18.0|    N|       S| Young Adult|               0.0|        0.0|      1.0|           0.0|[3.0,31.0,1.0,0.0...|\n",
      "|         20|       1|     3|Masselmani, Mrs. ...|female|29.69911764705882|    0|    0|            2649|  7.225|    N|       C| Young Adult|               0.0|        0.0|      1.0|           1.0|[3.0,29.699117647...|\n",
      "|         21|       0|     2|Fynney, Mr. Joseph J|  male|             35.0|    0|    0|          239865|   26.0|    N|       S| Young Adult|               0.0|        0.0|      0.0|           0.0|(9,[0,1,4],[2.0,3...|\n",
      "|         23|       1|     3|\"McGowan, Miss. A...|female|             15.0|    0|    0|          330923| 8.0292|    N|       Q|    Teenager|               3.0|        0.0|      1.0|           2.0|[3.0,15.0,0.0,0.0...|\n",
      "|         24|       1|     1|Sloper, Mr. Willi...|  male|             28.0|    0|    0|          113788|   35.5|    A|       S| Young Adult|               0.0|        5.0|      0.0|           0.0|(9,[0,1,4,6],[1.0...|\n",
      "|         25|       0|     3|Palsson, Miss. To...|female|              8.0|    3|    1|          349909| 21.075|    N|       S|       Child|               5.0|        0.0|      1.0|           0.0|[3.0,8.0,3.0,1.0,...|\n",
      "|         26|       1|     3|Asplund, Mrs. Car...|female|             38.0|    1|    5|          347077|31.3875|    N|       S|       Adult|               1.0|        0.0|      1.0|           0.0|[3.0,38.0,1.0,5.0...|\n",
      "|         27|       0|     3|Emir, Mr. Farred ...|  male|29.69911764705882|    0|    0|            2631|  7.225|    N|       C| Young Adult|               0.0|        0.0|      0.0|           1.0|(9,[0,1,4,8],[3.0...|\n",
      "|         29|       1|     3|\"O'Dwyer, Miss. E...|female|29.69911764705882|    0|    0|          330959| 7.8792|    N|       Q| Young Adult|               0.0|        0.0|      1.0|           2.0|[3.0,29.699117647...|\n",
      "+-----------+--------+------+--------------------+------+-----------------+-----+-----+----------------+-------+-----+--------+------------+------------------+-----------+---------+--------------+--------------------+\n",
      "only showing top 20 rows\n",
      "\n"
     ]
    }
   ],
   "source": [
    "from pyspark.ml.feature import VectorAssembler\n",
    "\n",
    "vector_assembler = VectorAssembler(inputCols=vector_columns, outputCol='features')\n",
    "titanic_sdf = vector_assembler.transform(titanic_sdf)\n",
    "\n",
    "train_sdf, test_sdf = titanic_sdf.randomSplit([0.8, 0.2], seed=11)\n",
    "train_sdf.show()"
   ]
  },
  {
   "cell_type": "code",
   "execution_count": 168,
   "metadata": {},
   "outputs": [
    {
     "name": "stderr",
     "output_type": "stream",
     "text": [
      "2023/06/06 07:49:27 INFO mlflow.utils.autologging_utils: Created MLflow autologging run with ID '9916c69fe5ec416ab4fa0af630fc8dc5', which will track hyperparameters, performance metrics, model artifacts, and lineage information for the current pyspark.ml workflow\n",
      "23/06/06 07:49:28 ERROR Instrumentation: org.apache.hadoop.fs.UnsupportedFileSystemException: No FileSystem for scheme \"mlflow-artifacts\"\n",
      "\tat org.apache.hadoop.fs.FileSystem.getFileSystemClass(FileSystem.java:3443)\n",
      "\tat org.apache.hadoop.fs.FileSystem.createFileSystem(FileSystem.java:3466)\n",
      "\tat org.apache.hadoop.fs.FileSystem.access$300(FileSystem.java:174)\n",
      "\tat org.apache.hadoop.fs.FileSystem$Cache.getInternal(FileSystem.java:3574)\n",
      "\tat org.apache.hadoop.fs.FileSystem$Cache.get(FileSystem.java:3521)\n",
      "\tat org.apache.hadoop.fs.FileSystem.get(FileSystem.java:540)\n",
      "\tat org.apache.hadoop.fs.Path.getFileSystem(Path.java:365)\n",
      "\tat org.apache.spark.ml.util.FileSystemOverwrite.handleOverwrite(ReadWrite.scala:673)\n",
      "\tat org.apache.spark.ml.util.MLWriter.save(ReadWrite.scala:167)\n",
      "\tat org.apache.spark.ml.PipelineModel$PipelineModelWriter.super$save(Pipeline.scala:344)\n",
      "\tat org.apache.spark.ml.PipelineModel$PipelineModelWriter.$anonfun$save$4(Pipeline.scala:344)\n",
      "\tat org.apache.spark.ml.MLEvents.withSaveInstanceEvent(events.scala:174)\n",
      "\tat org.apache.spark.ml.MLEvents.withSaveInstanceEvent$(events.scala:169)\n",
      "\tat org.apache.spark.ml.util.Instrumentation.withSaveInstanceEvent(Instrumentation.scala:42)\n",
      "\tat org.apache.spark.ml.PipelineModel$PipelineModelWriter.$anonfun$save$3(Pipeline.scala:344)\n",
      "\tat org.apache.spark.ml.PipelineModel$PipelineModelWriter.$anonfun$save$3$adapted(Pipeline.scala:344)\n",
      "\tat org.apache.spark.ml.util.Instrumentation$.$anonfun$instrumented$1(Instrumentation.scala:191)\n",
      "\tat scala.util.Try$.apply(Try.scala:213)\n",
      "\tat org.apache.spark.ml.util.Instrumentation$.instrumented(Instrumentation.scala:191)\n",
      "\tat org.apache.spark.ml.PipelineModel$PipelineModelWriter.save(Pipeline.scala:344)\n",
      "\tat java.base/jdk.internal.reflect.NativeMethodAccessorImpl.invoke0(Native Method)\n",
      "\tat java.base/jdk.internal.reflect.NativeMethodAccessorImpl.invoke(NativeMethodAccessorImpl.java:62)\n",
      "\tat java.base/jdk.internal.reflect.DelegatingMethodAccessorImpl.invoke(DelegatingMethodAccessorImpl.java:43)\n",
      "\tat java.base/java.lang.reflect.Method.invoke(Method.java:566)\n",
      "\tat py4j.reflection.MethodInvoker.invoke(MethodInvoker.java:244)\n",
      "\tat py4j.reflection.ReflectionEngine.invoke(ReflectionEngine.java:374)\n",
      "\tat py4j.Gateway.invoke(Gateway.java:282)\n",
      "\tat py4j.commands.AbstractCommand.invokeMethod(AbstractCommand.java:132)\n",
      "\tat py4j.commands.CallCommand.execute(CallCommand.java:79)\n",
      "\tat py4j.ClientServerConnection.waitForCommands(ClientServerConnection.java:182)\n",
      "\tat py4j.ClientServerConnection.run(ClientServerConnection.java:106)\n",
      "\tat java.base/java.lang.Thread.run(Thread.java:829)\n",
      "\n"
     ]
    },
    {
     "name": "stdout",
     "output_type": "stream",
     "text": [
      "+-----------+--------+------+--------------------+------+-----------------+-----+-----+----------+-------+-----+--------+------------+------------------+-----------+---------+--------------+--------------------+-------------+--------------------+----------+\n",
      "|PassengerId|Survived|Pclass|                Name|   Sex|              Age|SibSp|Parch|    Ticket|   Fare|Cabin|Embarked|Age_Category|label_Age_Category|label_Cabin|label_Sex|label_Embarked|            features|rawPrediction|         probability|prediction|\n",
      "+-----------+--------+------+--------------------+------+-----------------+-----+-----+----------+-------+-----+--------+------------+------------------+-----------+---------+--------------+--------------------+-------------+--------------------+----------+\n",
      "|          6|       0|     3|    Moran, Mr. James|  male|29.69911764705882|    0|    0|    330877| 8.4583|    N|       Q| Young Adult|               0.0|        0.0|      0.0|           2.0|(9,[0,1,4,8],[3.0...| [302.0,37.0]|[0.89085545722713...|       0.0|\n",
      "|          7|       0|     1|McCarthy, Mr. Tim...|  male|             54.0|    0|    0|     17463|51.8625|    E|       S|       Adult|               1.0|        4.0|      0.0|           0.0|[1.0,54.0,0.0,0.0...|    [4.0,2.0]|[0.66666666666666...|       0.0|\n",
      "|         13|       0|     3|Saundercock, Mr. ...|  male|             20.0|    0|    0| A/5. 2151|   8.05|    N|       S|     Student|               2.0|        0.0|      0.0|           0.0|(9,[0,1,4,5],[3.0...| [302.0,37.0]|[0.89085545722713...|       0.0|\n",
      "|         14|       0|     3|Andersson, Mr. An...|  male|             39.0|    1|    5|    347082| 31.275|    N|       S|       Adult|               1.0|        0.0|      0.0|           0.0|[3.0,39.0,1.0,5.0...| [302.0,37.0]|[0.89085545722713...|       0.0|\n",
      "|         15|       0|     3|Vestrom, Miss. Hu...|female|             14.0|    0|    0|    350406| 7.8542|    N|       S|    Teenager|               3.0|        0.0|      1.0|           0.0|[3.0,14.0,0.0,0.0...|  [19.0,22.0]|[0.46341463414634...|       1.0|\n",
      "|         17|       0|     3|Rice, Master. Eugene|  male|              2.0|    4|    1|    382652| 29.125|    N|       Q|        Baby|               4.0|        0.0|      0.0|           2.0|[3.0,2.0,4.0,1.0,...|    [9.0,0.0]|           [1.0,0.0]|       0.0|\n",
      "|         18|       1|     2|Williams, Mr. Cha...|  male|29.69911764705882|    0|    0|    244373|   13.0|    N|       S| Young Adult|               0.0|        0.0|      0.0|           0.0|(9,[0,1,4],[2.0,2...| [302.0,37.0]|[0.89085545722713...|       0.0|\n",
      "|         22|       1|     2|Beesley, Mr. Lawr...|  male|             34.0|    0|    0|    248698|   13.0|    D|       S| Young Adult|               0.0|        3.0|      0.0|           0.0|(9,[0,1,4,6],[2.0...|  [37.0,19.0]|[0.66071428571428...|       0.0|\n",
      "|         28|       0|     1|Fortune, Mr. Char...|  male|             19.0|    3|    2|     19950|  263.0|    C|       S|     Student|               2.0|        1.0|      0.0|           0.0|[1.0,19.0,3.0,2.0...|  [37.0,19.0]|[0.66071428571428...|       0.0|\n",
      "|         30|       0|     3| Todoroff, Mr. Lalio|  male|29.69911764705882|    0|    0|    349216| 7.8958|    N|       S| Young Adult|               0.0|        0.0|      0.0|           0.0|(9,[0,1,4],[3.0,2...| [302.0,37.0]|[0.89085545722713...|       0.0|\n",
      "|         33|       1|     3|Glynn, Miss. Mary...|female|29.69911764705882|    0|    0|    335677|   7.75|    N|       Q| Young Adult|               0.0|        0.0|      1.0|           2.0|[3.0,29.699117647...|  [11.0,32.0]|[0.25581395348837...|       1.0|\n",
      "|         38|       0|     3|Cann, Mr. Ernest ...|  male|             21.0|    0|    0|A./5. 2152|   8.05|    N|       S|     Student|               2.0|        0.0|      0.0|           0.0|(9,[0,1,4,5],[3.0...| [302.0,37.0]|[0.89085545722713...|       0.0|\n",
      "|         40|       1|     3|Nicola-Yarred, Mi...|female|             14.0|    1|    0|      2651|11.2417|    N|       C|    Teenager|               3.0|        0.0|      1.0|           1.0|[3.0,14.0,1.0,0.0...|  [11.0,32.0]|[0.25581395348837...|       1.0|\n",
      "|         48|       1|     3|O'Driscoll, Miss....|female|29.69911764705882|    0|    0|     14311|   7.75|    N|       Q| Young Adult|               0.0|        0.0|      1.0|           2.0|[3.0,29.699117647...|  [11.0,32.0]|[0.25581395348837...|       1.0|\n",
      "|         52|       0|     3|Nosworthy, Mr. Ri...|  male|             21.0|    0|    0|A/4. 39886|    7.8|    N|       S|     Student|               2.0|        0.0|      0.0|           0.0|(9,[0,1,4,5],[3.0...| [302.0,37.0]|[0.89085545722713...|       0.0|\n",
      "|         68|       0|     3|Crease, Mr. Ernes...|  male|             19.0|    0|    0| S.P. 3464| 8.1583|    N|       S|     Student|               2.0|        0.0|      0.0|           0.0|(9,[0,1,4,5],[3.0...| [302.0,37.0]|[0.89085545722713...|       0.0|\n",
      "|         72|       0|     3|Goodwin, Miss. Li...|female|             16.0|    5|    2|   CA 2144|   46.9|    N|       S|    Teenager|               3.0|        0.0|      1.0|           0.0|[3.0,16.0,5.0,2.0...|   [10.0,2.0]|[0.83333333333333...|       0.0|\n",
      "|         76|       0|     3|Moen, Mr. Sigurd ...|  male|             25.0|    0|    0|    348123|   7.65|    F|       S|     Student|               2.0|        6.0|      0.0|           0.0|[3.0,25.0,0.0,0.0...|  [37.0,19.0]|[0.66071428571428...|       0.0|\n",
      "|         79|       1|     2|Caldwell, Master....|  male|             0.83|    0|    2|    248738|   29.0|    N|       S|        Baby|               4.0|        0.0|      0.0|           0.0|[2.0,0.83,0.0,2.0...|    [0.0,7.0]|           [0.0,1.0]|       1.0|\n",
      "|         89|       1|     1|Fortune, Miss. Ma...|female|             23.0|    3|    2|     19950|  263.0|    C|       S|     Student|               2.0|        1.0|      1.0|           0.0|[1.0,23.0,3.0,2.0...|   [1.0,73.0]|[0.01351351351351...|       1.0|\n",
      "+-----------+--------+------+--------------------+------+-----------------+-----+-----+----------+-------+-----+--------+------------+------------------+-----------+---------+--------------+--------------------+-------------+--------------------+----------+\n",
      "only showing top 20 rows\n",
      "\n"
     ]
    }
   ],
   "source": [
    "from pyspark.ml.classification import DecisionTreeClassifier\n",
    "\n",
    "dt_estimator = DecisionTreeClassifier(featuresCol='features', labelCol='Survived')\n",
    "dt_model = dt_estimator.fit(train_sdf)\n",
    "predictions = dt_model.transform(test_sdf)\n",
    "predictions.show()"
   ]
  },
  {
   "cell_type": "code",
   "execution_count": 170,
   "metadata": {},
   "outputs": [
    {
     "data": {
      "text/plain": [
       "0.8297872340425532"
      ]
     },
     "execution_count": 170,
     "metadata": {},
     "output_type": "execute_result"
    }
   ],
   "source": [
    "from pyspark.ml.evaluation import MulticlassClassificationEvaluator\n",
    "\n",
    "accuracy_evaluator = MulticlassClassificationEvaluator(labelCol='Survived', metricName='accuracy')\n",
    "accuracy_evaluator.evaluate(predictions)"
   ]
  },
  {
   "cell_type": "code",
   "execution_count": 174,
   "metadata": {},
   "outputs": [
    {
     "data": {
      "text/plain": [
       "'DecisionTreeClassifier'"
      ]
     },
     "execution_count": 174,
     "metadata": {},
     "output_type": "execute_result"
    }
   ],
   "source": [
    "dt_estimator.__class__.__name__"
   ]
  },
  {
   "cell_type": "code",
   "execution_count": 175,
   "metadata": {},
   "outputs": [],
   "source": [
    "def train_test_eval(estimator, train_sdf, test_sdf, evaluator):\n",
    "    estimator_model = estimator.fit(train_sdf)\n",
    "    predictions = estimator_model.transform(test_sdf)\n",
    "    accuracy = evaluator.evaluate(predictions)\n",
    "    print(estimator.__class__.__name__, 'accuracy:', accuracy)"
   ]
  },
  {
   "cell_type": "code",
   "execution_count": 176,
   "metadata": {},
   "outputs": [],
   "source": [
    "titanic_sdf = train_sdf.drop('features')"
   ]
  },
  {
   "cell_type": "code",
   "execution_count": 177,
   "metadata": {},
   "outputs": [],
   "source": [
    "vector_assembler = VectorAssembler(inputCols=vector_columns, outputCol='features')\n",
    "titanic_sdf = vector_assembler.transform(titanic_sdf)\n",
    "train_sdf, test_sdf = titanic_sdf.randomSplit([.8, .2], seed=11)\n",
    "dt_estimator = DecisionTreeClassifier(featuresCol='features', labelCol='Survived')\n",
    "accuracy_evaluator = MulticlassClassificationEvaluator(labelCol='Survived', metricName='accuracy')"
   ]
  },
  {
   "cell_type": "code",
   "execution_count": 178,
   "metadata": {},
   "outputs": [
    {
     "name": "stderr",
     "output_type": "stream",
     "text": [
      "2023/06/06 07:59:11 INFO mlflow.utils.autologging_utils: Created MLflow autologging run with ID '4464274a46ca42fa8cf02b9f0e669f1b', which will track hyperparameters, performance metrics, model artifacts, and lineage information for the current pyspark.ml workflow\n",
      "23/06/06 07:59:12 ERROR Instrumentation: org.apache.hadoop.fs.UnsupportedFileSystemException: No FileSystem for scheme \"mlflow-artifacts\"\n",
      "\tat org.apache.hadoop.fs.FileSystem.getFileSystemClass(FileSystem.java:3443)\n",
      "\tat org.apache.hadoop.fs.FileSystem.createFileSystem(FileSystem.java:3466)\n",
      "\tat org.apache.hadoop.fs.FileSystem.access$300(FileSystem.java:174)\n",
      "\tat org.apache.hadoop.fs.FileSystem$Cache.getInternal(FileSystem.java:3574)\n",
      "\tat org.apache.hadoop.fs.FileSystem$Cache.get(FileSystem.java:3521)\n",
      "\tat org.apache.hadoop.fs.FileSystem.get(FileSystem.java:540)\n",
      "\tat org.apache.hadoop.fs.Path.getFileSystem(Path.java:365)\n",
      "\tat org.apache.spark.ml.util.FileSystemOverwrite.handleOverwrite(ReadWrite.scala:673)\n",
      "\tat org.apache.spark.ml.util.MLWriter.save(ReadWrite.scala:167)\n",
      "\tat org.apache.spark.ml.PipelineModel$PipelineModelWriter.super$save(Pipeline.scala:344)\n",
      "\tat org.apache.spark.ml.PipelineModel$PipelineModelWriter.$anonfun$save$4(Pipeline.scala:344)\n",
      "\tat org.apache.spark.ml.MLEvents.withSaveInstanceEvent(events.scala:174)\n",
      "\tat org.apache.spark.ml.MLEvents.withSaveInstanceEvent$(events.scala:169)\n",
      "\tat org.apache.spark.ml.util.Instrumentation.withSaveInstanceEvent(Instrumentation.scala:42)\n",
      "\tat org.apache.spark.ml.PipelineModel$PipelineModelWriter.$anonfun$save$3(Pipeline.scala:344)\n",
      "\tat org.apache.spark.ml.PipelineModel$PipelineModelWriter.$anonfun$save$3$adapted(Pipeline.scala:344)\n",
      "\tat org.apache.spark.ml.util.Instrumentation$.$anonfun$instrumented$1(Instrumentation.scala:191)\n",
      "\tat scala.util.Try$.apply(Try.scala:213)\n",
      "\tat org.apache.spark.ml.util.Instrumentation$.instrumented(Instrumentation.scala:191)\n",
      "\tat org.apache.spark.ml.PipelineModel$PipelineModelWriter.save(Pipeline.scala:344)\n",
      "\tat java.base/jdk.internal.reflect.NativeMethodAccessorImpl.invoke0(Native Method)\n",
      "\tat java.base/jdk.internal.reflect.NativeMethodAccessorImpl.invoke(NativeMethodAccessorImpl.java:62)\n",
      "\tat java.base/jdk.internal.reflect.DelegatingMethodAccessorImpl.invoke(DelegatingMethodAccessorImpl.java:43)\n",
      "\tat java.base/java.lang.reflect.Method.invoke(Method.java:566)\n",
      "\tat py4j.reflection.MethodInvoker.invoke(MethodInvoker.java:244)\n",
      "\tat py4j.reflection.ReflectionEngine.invoke(ReflectionEngine.java:374)\n",
      "\tat py4j.Gateway.invoke(Gateway.java:282)\n",
      "\tat py4j.commands.AbstractCommand.invokeMethod(AbstractCommand.java:132)\n",
      "\tat py4j.commands.CallCommand.execute(CallCommand.java:79)\n",
      "\tat py4j.ClientServerConnection.waitForCommands(ClientServerConnection.java:182)\n",
      "\tat py4j.ClientServerConnection.run(ClientServerConnection.java:106)\n",
      "\tat java.base/java.lang.Thread.run(Thread.java:829)\n",
      "\n"
     ]
    },
    {
     "name": "stdout",
     "output_type": "stream",
     "text": [
      "DecisionTreeClassifier accuracy: 0.8590604026845637\n"
     ]
    }
   ],
   "source": [
    "train_test_eval(dt_estimator, train_sdf, test_sdf, accuracy_evaluator)"
   ]
  },
  {
   "cell_type": "code",
   "execution_count": 179,
   "metadata": {},
   "outputs": [
    {
     "name": "stderr",
     "output_type": "stream",
     "text": [
      "2023/06/06 08:01:28 INFO mlflow.utils.autologging_utils: Created MLflow autologging run with ID 'faf7e4a84996457c97f96d89c7b20878', which will track hyperparameters, performance metrics, model artifacts, and lineage information for the current pyspark.ml workflow\n",
      "23/06/06 08:01:30 ERROR Instrumentation: org.apache.hadoop.fs.UnsupportedFileSystemException: No FileSystem for scheme \"mlflow-artifacts\"\n",
      "\tat org.apache.hadoop.fs.FileSystem.getFileSystemClass(FileSystem.java:3443)\n",
      "\tat org.apache.hadoop.fs.FileSystem.createFileSystem(FileSystem.java:3466)\n",
      "\tat org.apache.hadoop.fs.FileSystem.access$300(FileSystem.java:174)\n",
      "\tat org.apache.hadoop.fs.FileSystem$Cache.getInternal(FileSystem.java:3574)\n",
      "\tat org.apache.hadoop.fs.FileSystem$Cache.get(FileSystem.java:3521)\n",
      "\tat org.apache.hadoop.fs.FileSystem.get(FileSystem.java:540)\n",
      "\tat org.apache.hadoop.fs.Path.getFileSystem(Path.java:365)\n",
      "\tat org.apache.spark.ml.util.FileSystemOverwrite.handleOverwrite(ReadWrite.scala:673)\n",
      "\tat org.apache.spark.ml.util.MLWriter.save(ReadWrite.scala:167)\n",
      "\tat org.apache.spark.ml.PipelineModel$PipelineModelWriter.super$save(Pipeline.scala:344)\n",
      "\tat org.apache.spark.ml.PipelineModel$PipelineModelWriter.$anonfun$save$4(Pipeline.scala:344)\n",
      "\tat org.apache.spark.ml.MLEvents.withSaveInstanceEvent(events.scala:174)\n",
      "\tat org.apache.spark.ml.MLEvents.withSaveInstanceEvent$(events.scala:169)\n",
      "\tat org.apache.spark.ml.util.Instrumentation.withSaveInstanceEvent(Instrumentation.scala:42)\n",
      "\tat org.apache.spark.ml.PipelineModel$PipelineModelWriter.$anonfun$save$3(Pipeline.scala:344)\n",
      "\tat org.apache.spark.ml.PipelineModel$PipelineModelWriter.$anonfun$save$3$adapted(Pipeline.scala:344)\n",
      "\tat org.apache.spark.ml.util.Instrumentation$.$anonfun$instrumented$1(Instrumentation.scala:191)\n",
      "\tat scala.util.Try$.apply(Try.scala:213)\n",
      "\tat org.apache.spark.ml.util.Instrumentation$.instrumented(Instrumentation.scala:191)\n",
      "\tat org.apache.spark.ml.PipelineModel$PipelineModelWriter.save(Pipeline.scala:344)\n",
      "\tat java.base/jdk.internal.reflect.NativeMethodAccessorImpl.invoke0(Native Method)\n",
      "\tat java.base/jdk.internal.reflect.NativeMethodAccessorImpl.invoke(NativeMethodAccessorImpl.java:62)\n",
      "\tat java.base/jdk.internal.reflect.DelegatingMethodAccessorImpl.invoke(DelegatingMethodAccessorImpl.java:43)\n",
      "\tat java.base/java.lang.reflect.Method.invoke(Method.java:566)\n",
      "\tat py4j.reflection.MethodInvoker.invoke(MethodInvoker.java:244)\n",
      "\tat py4j.reflection.ReflectionEngine.invoke(ReflectionEngine.java:374)\n",
      "\tat py4j.Gateway.invoke(Gateway.java:282)\n",
      "\tat py4j.commands.AbstractCommand.invokeMethod(AbstractCommand.java:132)\n",
      "\tat py4j.commands.CallCommand.execute(CallCommand.java:79)\n",
      "\tat py4j.ClientServerConnection.waitForCommands(ClientServerConnection.java:182)\n",
      "\tat py4j.ClientServerConnection.run(ClientServerConnection.java:106)\n",
      "\tat java.base/java.lang.Thread.run(Thread.java:829)\n",
      "\n"
     ]
    },
    {
     "name": "stdout",
     "output_type": "stream",
     "text": [
      "DecisionTreeClassifier accuracy: 0.8590604026845637\n"
     ]
    },
    {
     "name": "stderr",
     "output_type": "stream",
     "text": [
      "2023/06/06 08:01:48 INFO mlflow.utils.autologging_utils: Created MLflow autologging run with ID 'c9d0e60a4c2a484088bbfa6f10dc8ff7', which will track hyperparameters, performance metrics, model artifacts, and lineage information for the current pyspark.ml workflow\n",
      "23/06/06 08:01:50 WARN InstanceBuilder: Failed to load implementation from:dev.ludovic.netlib.blas.JNIBLAS\n",
      "23/06/06 08:01:51 ERROR Instrumentation: org.apache.hadoop.fs.UnsupportedFileSystemException: No FileSystem for scheme \"mlflow-artifacts\"\n",
      "\tat org.apache.hadoop.fs.FileSystem.getFileSystemClass(FileSystem.java:3443)\n",
      "\tat org.apache.hadoop.fs.FileSystem.createFileSystem(FileSystem.java:3466)\n",
      "\tat org.apache.hadoop.fs.FileSystem.access$300(FileSystem.java:174)\n",
      "\tat org.apache.hadoop.fs.FileSystem$Cache.getInternal(FileSystem.java:3574)\n",
      "\tat org.apache.hadoop.fs.FileSystem$Cache.get(FileSystem.java:3521)\n",
      "\tat org.apache.hadoop.fs.FileSystem.get(FileSystem.java:540)\n",
      "\tat org.apache.hadoop.fs.Path.getFileSystem(Path.java:365)\n",
      "\tat org.apache.spark.ml.util.FileSystemOverwrite.handleOverwrite(ReadWrite.scala:673)\n",
      "\tat org.apache.spark.ml.util.MLWriter.save(ReadWrite.scala:167)\n",
      "\tat org.apache.spark.ml.PipelineModel$PipelineModelWriter.super$save(Pipeline.scala:344)\n",
      "\tat org.apache.spark.ml.PipelineModel$PipelineModelWriter.$anonfun$save$4(Pipeline.scala:344)\n",
      "\tat org.apache.spark.ml.MLEvents.withSaveInstanceEvent(events.scala:174)\n",
      "\tat org.apache.spark.ml.MLEvents.withSaveInstanceEvent$(events.scala:169)\n",
      "\tat org.apache.spark.ml.util.Instrumentation.withSaveInstanceEvent(Instrumentation.scala:42)\n",
      "\tat org.apache.spark.ml.PipelineModel$PipelineModelWriter.$anonfun$save$3(Pipeline.scala:344)\n",
      "\tat org.apache.spark.ml.PipelineModel$PipelineModelWriter.$anonfun$save$3$adapted(Pipeline.scala:344)\n",
      "\tat org.apache.spark.ml.util.Instrumentation$.$anonfun$instrumented$1(Instrumentation.scala:191)\n",
      "\tat scala.util.Try$.apply(Try.scala:213)\n",
      "\tat org.apache.spark.ml.util.Instrumentation$.instrumented(Instrumentation.scala:191)\n",
      "\tat org.apache.spark.ml.PipelineModel$PipelineModelWriter.save(Pipeline.scala:344)\n",
      "\tat java.base/jdk.internal.reflect.NativeMethodAccessorImpl.invoke0(Native Method)\n",
      "\tat java.base/jdk.internal.reflect.NativeMethodAccessorImpl.invoke(NativeMethodAccessorImpl.java:62)\n",
      "\tat java.base/jdk.internal.reflect.DelegatingMethodAccessorImpl.invoke(DelegatingMethodAccessorImpl.java:43)\n",
      "\tat java.base/java.lang.reflect.Method.invoke(Method.java:566)\n",
      "\tat py4j.reflection.MethodInvoker.invoke(MethodInvoker.java:244)\n",
      "\tat py4j.reflection.ReflectionEngine.invoke(ReflectionEngine.java:374)\n",
      "\tat py4j.Gateway.invoke(Gateway.java:282)\n",
      "\tat py4j.commands.AbstractCommand.invokeMethod(AbstractCommand.java:132)\n",
      "\tat py4j.commands.CallCommand.execute(CallCommand.java:79)\n",
      "\tat py4j.ClientServerConnection.waitForCommands(ClientServerConnection.java:182)\n",
      "\tat py4j.ClientServerConnection.run(ClientServerConnection.java:106)\n",
      "\tat java.base/java.lang.Thread.run(Thread.java:829)\n",
      "\n",
      "2023/06/06 08:02:10 INFO mlflow.utils.autologging_utils: Created MLflow autologging run with ID '63798b1dad8d43a4b5f86a82102ab5d0', which will track hyperparameters, performance metrics, model artifacts, and lineage information for the current pyspark.ml workflow\n"
     ]
    },
    {
     "name": "stdout",
     "output_type": "stream",
     "text": [
      "LogisticRegression accuracy: 0.8120805369127517\n"
     ]
    },
    {
     "name": "stderr",
     "output_type": "stream",
     "text": [
      "23/06/06 08:02:12 ERROR Instrumentation: org.apache.hadoop.fs.UnsupportedFileSystemException: No FileSystem for scheme \"mlflow-artifacts\"\n",
      "\tat org.apache.hadoop.fs.FileSystem.getFileSystemClass(FileSystem.java:3443)\n",
      "\tat org.apache.hadoop.fs.FileSystem.createFileSystem(FileSystem.java:3466)\n",
      "\tat org.apache.hadoop.fs.FileSystem.access$300(FileSystem.java:174)\n",
      "\tat org.apache.hadoop.fs.FileSystem$Cache.getInternal(FileSystem.java:3574)\n",
      "\tat org.apache.hadoop.fs.FileSystem$Cache.get(FileSystem.java:3521)\n",
      "\tat org.apache.hadoop.fs.FileSystem.get(FileSystem.java:540)\n",
      "\tat org.apache.hadoop.fs.Path.getFileSystem(Path.java:365)\n",
      "\tat org.apache.spark.ml.util.FileSystemOverwrite.handleOverwrite(ReadWrite.scala:673)\n",
      "\tat org.apache.spark.ml.util.MLWriter.save(ReadWrite.scala:167)\n",
      "\tat org.apache.spark.ml.PipelineModel$PipelineModelWriter.super$save(Pipeline.scala:344)\n",
      "\tat org.apache.spark.ml.PipelineModel$PipelineModelWriter.$anonfun$save$4(Pipeline.scala:344)\n",
      "\tat org.apache.spark.ml.MLEvents.withSaveInstanceEvent(events.scala:174)\n",
      "\tat org.apache.spark.ml.MLEvents.withSaveInstanceEvent$(events.scala:169)\n",
      "\tat org.apache.spark.ml.util.Instrumentation.withSaveInstanceEvent(Instrumentation.scala:42)\n",
      "\tat org.apache.spark.ml.PipelineModel$PipelineModelWriter.$anonfun$save$3(Pipeline.scala:344)\n",
      "\tat org.apache.spark.ml.PipelineModel$PipelineModelWriter.$anonfun$save$3$adapted(Pipeline.scala:344)\n",
      "\tat org.apache.spark.ml.util.Instrumentation$.$anonfun$instrumented$1(Instrumentation.scala:191)\n",
      "\tat scala.util.Try$.apply(Try.scala:213)\n",
      "\tat org.apache.spark.ml.util.Instrumentation$.instrumented(Instrumentation.scala:191)\n",
      "\tat org.apache.spark.ml.PipelineModel$PipelineModelWriter.save(Pipeline.scala:344)\n",
      "\tat jdk.internal.reflect.GeneratedMethodAccessor289.invoke(Unknown Source)\n",
      "\tat java.base/jdk.internal.reflect.DelegatingMethodAccessorImpl.invoke(DelegatingMethodAccessorImpl.java:43)\n",
      "\tat java.base/java.lang.reflect.Method.invoke(Method.java:566)\n",
      "\tat py4j.reflection.MethodInvoker.invoke(MethodInvoker.java:244)\n",
      "\tat py4j.reflection.ReflectionEngine.invoke(ReflectionEngine.java:374)\n",
      "\tat py4j.Gateway.invoke(Gateway.java:282)\n",
      "\tat py4j.commands.AbstractCommand.invokeMethod(AbstractCommand.java:132)\n",
      "\tat py4j.commands.CallCommand.execute(CallCommand.java:79)\n",
      "\tat py4j.ClientServerConnection.waitForCommands(ClientServerConnection.java:182)\n",
      "\tat py4j.ClientServerConnection.run(ClientServerConnection.java:106)\n",
      "\tat java.base/java.lang.Thread.run(Thread.java:829)\n",
      "\n"
     ]
    },
    {
     "name": "stdout",
     "output_type": "stream",
     "text": [
      "RandomForestClassifier accuracy: 0.8456375838926175\n"
     ]
    }
   ],
   "source": [
    "from pyspark.ml.classification import LogisticRegression, RandomForestClassifier\n",
    "\n",
    "label_col = 'Survived'\n",
    "estimators = [\n",
    "    DecisionTreeClassifier(labelCol=label_col),\n",
    "    LogisticRegression(labelCol=label_col),\n",
    "    RandomForestClassifier(labelCol=label_col),\n",
    "]\n",
    "\n",
    "for estimator in estimators:\n",
    "    train_test_eval(estimator, train_sdf, test_sdf, accuracy_evaluator)"
   ]
  },
  {
   "cell_type": "code",
   "execution_count": 180,
   "metadata": {},
   "outputs": [
    {
     "name": "stderr",
     "output_type": "stream",
     "text": [
      "2023/06/06 08:06:20 INFO mlflow.utils.autologging_utils: Created MLflow autologging run with ID '3752831687a14a4ab644a2a1ae82573d', which will track hyperparameters, performance metrics, model artifacts, and lineage information for the current pyspark.ml workflow\n",
      "Exception ignored in: <function JavaWrapper.__del__ at 0x7f1e05c731f0>\n",
      "Traceback (most recent call last):\n",
      "  File \"/workspace/apache-spark-ml/.venv/lib/python3.8/site-packages/pyspark/ml/wrapper.py\", line 53, in __del__\n",
      "    if SparkContext._active_spark_context and self._java_obj is not None:\n",
      "AttributeError: 'DecisionTreeClassifier' object has no attribute '_java_obj'\n",
      "23/06/06 08:07:38 ERROR Instrumentation: org.apache.hadoop.fs.UnsupportedFileSystemException: No FileSystem for scheme \"mlflow-artifacts\"\n",
      "\tat org.apache.hadoop.fs.FileSystem.getFileSystemClass(FileSystem.java:3443)\n",
      "\tat org.apache.hadoop.fs.FileSystem.createFileSystem(FileSystem.java:3466)\n",
      "\tat org.apache.hadoop.fs.FileSystem.access$300(FileSystem.java:174)\n",
      "\tat org.apache.hadoop.fs.FileSystem$Cache.getInternal(FileSystem.java:3574)\n",
      "\tat org.apache.hadoop.fs.FileSystem$Cache.get(FileSystem.java:3521)\n",
      "\tat org.apache.hadoop.fs.FileSystem.get(FileSystem.java:540)\n",
      "\tat org.apache.hadoop.fs.Path.getFileSystem(Path.java:365)\n",
      "\tat org.apache.spark.ml.util.FileSystemOverwrite.handleOverwrite(ReadWrite.scala:673)\n",
      "\tat org.apache.spark.ml.util.MLWriter.save(ReadWrite.scala:167)\n",
      "\tat org.apache.spark.ml.PipelineModel$PipelineModelWriter.super$save(Pipeline.scala:344)\n",
      "\tat org.apache.spark.ml.PipelineModel$PipelineModelWriter.$anonfun$save$4(Pipeline.scala:344)\n",
      "\tat org.apache.spark.ml.MLEvents.withSaveInstanceEvent(events.scala:174)\n",
      "\tat org.apache.spark.ml.MLEvents.withSaveInstanceEvent$(events.scala:169)\n",
      "\tat org.apache.spark.ml.util.Instrumentation.withSaveInstanceEvent(Instrumentation.scala:42)\n",
      "\tat org.apache.spark.ml.PipelineModel$PipelineModelWriter.$anonfun$save$3(Pipeline.scala:344)\n",
      "\tat org.apache.spark.ml.PipelineModel$PipelineModelWriter.$anonfun$save$3$adapted(Pipeline.scala:344)\n",
      "\tat org.apache.spark.ml.util.Instrumentation$.$anonfun$instrumented$1(Instrumentation.scala:191)\n",
      "\tat scala.util.Try$.apply(Try.scala:213)\n",
      "\tat org.apache.spark.ml.util.Instrumentation$.instrumented(Instrumentation.scala:191)\n",
      "\tat org.apache.spark.ml.PipelineModel$PipelineModelWriter.save(Pipeline.scala:344)\n",
      "\tat jdk.internal.reflect.GeneratedMethodAccessor289.invoke(Unknown Source)\n",
      "\tat java.base/jdk.internal.reflect.DelegatingMethodAccessorImpl.invoke(DelegatingMethodAccessorImpl.java:43)\n",
      "\tat java.base/java.lang.reflect.Method.invoke(Method.java:566)\n",
      "\tat py4j.reflection.MethodInvoker.invoke(MethodInvoker.java:244)\n",
      "\tat py4j.reflection.ReflectionEngine.invoke(ReflectionEngine.java:374)\n",
      "\tat py4j.Gateway.invoke(Gateway.java:282)\n",
      "\tat py4j.commands.AbstractCommand.invokeMethod(AbstractCommand.java:132)\n",
      "\tat py4j.commands.CallCommand.execute(CallCommand.java:79)\n",
      "\tat py4j.ClientServerConnection.waitForCommands(ClientServerConnection.java:182)\n",
      "\tat py4j.ClientServerConnection.run(ClientServerConnection.java:106)\n",
      "\tat java.base/java.lang.Thread.run(Thread.java:829)\n",
      "\n"
     ]
    }
   ],
   "source": [
    "from pyspark.ml.tuning import CrossValidator, ParamGridBuilder\n",
    "\n",
    "dt_estimator = DecisionTreeClassifier(labelCol=label_col)\n",
    "dt_param_grid = ParamGridBuilder()  \\\n",
    "                .addGrid(dt_estimator.maxDepth, [2, 3, 5, 7, 10])   \\\n",
    "                .addGrid(dt_estimator.minInstancesPerNode, [2, 3, 4, 5])    \\\n",
    "                .build()\n",
    "accuracy_evaluator = MulticlassClassificationEvaluator(labelCol=label_col, metricName='accuracy')\n",
    "cv = CrossValidator(estimator=dt_estimator, estimatorParamMaps=dt_param_grid, evaluator=accuracy_evaluator)\n",
    "cv_model = cv.fit(train_sdf)"
   ]
  },
  {
   "cell_type": "code",
   "execution_count": 183,
   "metadata": {},
   "outputs": [],
   "source": [
    "def get_cv_result_pdf(cv_model):\n",
    "    params = [{k.name: v for k, v in m.items()} for m in cv_model.getEstimatorParamMaps()]\n",
    "    return pd.DataFrame({'params': params, 'evaluation_result': cv_model.avgMetrics})"
   ]
  },
  {
   "cell_type": "code",
   "execution_count": 184,
   "metadata": {},
   "outputs": [
    {
     "data": {
      "text/html": [
       "<div>\n",
       "<style scoped>\n",
       "    .dataframe tbody tr th:only-of-type {\n",
       "        vertical-align: middle;\n",
       "    }\n",
       "\n",
       "    .dataframe tbody tr th {\n",
       "        vertical-align: top;\n",
       "    }\n",
       "\n",
       "    .dataframe thead th {\n",
       "        text-align: right;\n",
       "    }\n",
       "</style>\n",
       "<table border=\"1\" class=\"dataframe\">\n",
       "  <thead>\n",
       "    <tr style=\"text-align: right;\">\n",
       "      <th></th>\n",
       "      <th>params</th>\n",
       "      <th>evaluation_result</th>\n",
       "    </tr>\n",
       "  </thead>\n",
       "  <tbody>\n",
       "    <tr>\n",
       "      <th>0</th>\n",
       "      <td>{'maxDepth': 2, 'minInstancesPerNode': 2}</td>\n",
       "      <td>0.769093</td>\n",
       "    </tr>\n",
       "    <tr>\n",
       "      <th>1</th>\n",
       "      <td>{'maxDepth': 2, 'minInstancesPerNode': 3}</td>\n",
       "      <td>0.769093</td>\n",
       "    </tr>\n",
       "    <tr>\n",
       "      <th>2</th>\n",
       "      <td>{'maxDepth': 2, 'minInstancesPerNode': 4}</td>\n",
       "      <td>0.769093</td>\n",
       "    </tr>\n",
       "    <tr>\n",
       "      <th>3</th>\n",
       "      <td>{'maxDepth': 2, 'minInstancesPerNode': 5}</td>\n",
       "      <td>0.769093</td>\n",
       "    </tr>\n",
       "    <tr>\n",
       "      <th>4</th>\n",
       "      <td>{'maxDepth': 3, 'minInstancesPerNode': 2}</td>\n",
       "      <td>0.790853</td>\n",
       "    </tr>\n",
       "    <tr>\n",
       "      <th>5</th>\n",
       "      <td>{'maxDepth': 3, 'minInstancesPerNode': 3}</td>\n",
       "      <td>0.790853</td>\n",
       "    </tr>\n",
       "    <tr>\n",
       "      <th>6</th>\n",
       "      <td>{'maxDepth': 3, 'minInstancesPerNode': 4}</td>\n",
       "      <td>0.790853</td>\n",
       "    </tr>\n",
       "    <tr>\n",
       "      <th>7</th>\n",
       "      <td>{'maxDepth': 3, 'minInstancesPerNode': 5}</td>\n",
       "      <td>0.794476</td>\n",
       "    </tr>\n",
       "    <tr>\n",
       "      <th>8</th>\n",
       "      <td>{'maxDepth': 5, 'minInstancesPerNode': 2}</td>\n",
       "      <td>0.796152</td>\n",
       "    </tr>\n",
       "    <tr>\n",
       "      <th>9</th>\n",
       "      <td>{'maxDepth': 5, 'minInstancesPerNode': 3}</td>\n",
       "      <td>0.785243</td>\n",
       "    </tr>\n",
       "    <tr>\n",
       "      <th>10</th>\n",
       "      <td>{'maxDepth': 5, 'minInstancesPerNode': 4}</td>\n",
       "      <td>0.779982</td>\n",
       "    </tr>\n",
       "    <tr>\n",
       "      <th>11</th>\n",
       "      <td>{'maxDepth': 5, 'minInstancesPerNode': 5}</td>\n",
       "      <td>0.783547</td>\n",
       "    </tr>\n",
       "    <tr>\n",
       "      <th>12</th>\n",
       "      <td>{'maxDepth': 7, 'minInstancesPerNode': 2}</td>\n",
       "      <td>0.796094</td>\n",
       "    </tr>\n",
       "    <tr>\n",
       "      <th>13</th>\n",
       "      <td>{'maxDepth': 7, 'minInstancesPerNode': 3}</td>\n",
       "      <td>0.788808</td>\n",
       "    </tr>\n",
       "    <tr>\n",
       "      <th>14</th>\n",
       "      <td>{'maxDepth': 7, 'minInstancesPerNode': 4}</td>\n",
       "      <td>0.780021</td>\n",
       "    </tr>\n",
       "    <tr>\n",
       "      <th>15</th>\n",
       "      <td>{'maxDepth': 7, 'minInstancesPerNode': 5}</td>\n",
       "      <td>0.781695</td>\n",
       "    </tr>\n",
       "    <tr>\n",
       "      <th>16</th>\n",
       "      <td>{'maxDepth': 10, 'minInstancesPerNode': 2}</td>\n",
       "      <td>0.785204</td>\n",
       "    </tr>\n",
       "    <tr>\n",
       "      <th>17</th>\n",
       "      <td>{'maxDepth': 10, 'minInstancesPerNode': 3}</td>\n",
       "      <td>0.779690</td>\n",
       "    </tr>\n",
       "    <tr>\n",
       "      <th>18</th>\n",
       "      <td>{'maxDepth': 10, 'minInstancesPerNode': 4}</td>\n",
       "      <td>0.778248</td>\n",
       "    </tr>\n",
       "    <tr>\n",
       "      <th>19</th>\n",
       "      <td>{'maxDepth': 10, 'minInstancesPerNode': 5}</td>\n",
       "      <td>0.779922</td>\n",
       "    </tr>\n",
       "  </tbody>\n",
       "</table>\n",
       "</div>"
      ],
      "text/plain": [
       "                                        params  evaluation_result\n",
       "0    {'maxDepth': 2, 'minInstancesPerNode': 2}           0.769093\n",
       "1    {'maxDepth': 2, 'minInstancesPerNode': 3}           0.769093\n",
       "2    {'maxDepth': 2, 'minInstancesPerNode': 4}           0.769093\n",
       "3    {'maxDepth': 2, 'minInstancesPerNode': 5}           0.769093\n",
       "4    {'maxDepth': 3, 'minInstancesPerNode': 2}           0.790853\n",
       "5    {'maxDepth': 3, 'minInstancesPerNode': 3}           0.790853\n",
       "6    {'maxDepth': 3, 'minInstancesPerNode': 4}           0.790853\n",
       "7    {'maxDepth': 3, 'minInstancesPerNode': 5}           0.794476\n",
       "8    {'maxDepth': 5, 'minInstancesPerNode': 2}           0.796152\n",
       "9    {'maxDepth': 5, 'minInstancesPerNode': 3}           0.785243\n",
       "10   {'maxDepth': 5, 'minInstancesPerNode': 4}           0.779982\n",
       "11   {'maxDepth': 5, 'minInstancesPerNode': 5}           0.783547\n",
       "12   {'maxDepth': 7, 'minInstancesPerNode': 2}           0.796094\n",
       "13   {'maxDepth': 7, 'minInstancesPerNode': 3}           0.788808\n",
       "14   {'maxDepth': 7, 'minInstancesPerNode': 4}           0.780021\n",
       "15   {'maxDepth': 7, 'minInstancesPerNode': 5}           0.781695\n",
       "16  {'maxDepth': 10, 'minInstancesPerNode': 2}           0.785204\n",
       "17  {'maxDepth': 10, 'minInstancesPerNode': 3}           0.779690\n",
       "18  {'maxDepth': 10, 'minInstancesPerNode': 4}           0.778248\n",
       "19  {'maxDepth': 10, 'minInstancesPerNode': 5}           0.779922"
      ]
     },
     "execution_count": 184,
     "metadata": {},
     "output_type": "execute_result"
    }
   ],
   "source": [
    "result_pdf = get_cv_result_pdf(cv_model)\n",
    "result_pdf"
   ]
  },
  {
   "cell_type": "code",
   "execution_count": 185,
   "metadata": {},
   "outputs": [
    {
     "data": {
      "text/plain": [
       "0.8590604026845637"
      ]
     },
     "execution_count": 185,
     "metadata": {},
     "output_type": "execute_result"
    }
   ],
   "source": [
    "predictions = cv_model.transform(test_sdf)\n",
    "accuracy_evaluator.evaluate(predictions)"
   ]
  },
  {
   "cell_type": "code",
   "execution_count": 186,
   "metadata": {},
   "outputs": [],
   "source": [
    "def cv_train_test_eval(train_sdf, test_sdf, estimator, param_grid, evaluator, num_folds=3):\n",
    "    cv = CrossValidator(estimator=estimator, estimatorParamMaps=param_grid, evaluator=evaluator, numFolds=num_folds)\n",
    "    cv_model = cv.fit(train_sdf)\n",
    "    cv_result_pdf = get_cv_result_pdf(cv_model)\n",
    "    predictions = cv_model.transform(test_sdf)\n",
    "    test_accuracy = evaluator.evaluate(predictions)\n",
    "    return cv_result_pdf, test_accuracy"
   ]
  },
  {
   "cell_type": "code",
   "execution_count": 187,
   "metadata": {},
   "outputs": [
    {
     "name": "stderr",
     "output_type": "stream",
     "text": [
      "2023/06/06 08:15:20 INFO mlflow.utils.autologging_utils: Created MLflow autologging run with ID '82d44f97a6be4d5aa06d2620ad675a3d', which will track hyperparameters, performance metrics, model artifacts, and lineage information for the current pyspark.ml workflow\n",
      "23/06/06 08:17:05 ERROR Instrumentation: org.apache.hadoop.fs.UnsupportedFileSystemException: No FileSystem for scheme \"mlflow-artifacts\"\n",
      "\tat org.apache.hadoop.fs.FileSystem.getFileSystemClass(FileSystem.java:3443)\n",
      "\tat org.apache.hadoop.fs.FileSystem.createFileSystem(FileSystem.java:3466)\n",
      "\tat org.apache.hadoop.fs.FileSystem.access$300(FileSystem.java:174)\n",
      "\tat org.apache.hadoop.fs.FileSystem$Cache.getInternal(FileSystem.java:3574)\n",
      "\tat org.apache.hadoop.fs.FileSystem$Cache.get(FileSystem.java:3521)\n",
      "\tat org.apache.hadoop.fs.FileSystem.get(FileSystem.java:540)\n",
      "\tat org.apache.hadoop.fs.Path.getFileSystem(Path.java:365)\n",
      "\tat org.apache.spark.ml.util.FileSystemOverwrite.handleOverwrite(ReadWrite.scala:673)\n",
      "\tat org.apache.spark.ml.util.MLWriter.save(ReadWrite.scala:167)\n",
      "\tat org.apache.spark.ml.PipelineModel$PipelineModelWriter.super$save(Pipeline.scala:344)\n",
      "\tat org.apache.spark.ml.PipelineModel$PipelineModelWriter.$anonfun$save$4(Pipeline.scala:344)\n",
      "\tat org.apache.spark.ml.MLEvents.withSaveInstanceEvent(events.scala:174)\n",
      "\tat org.apache.spark.ml.MLEvents.withSaveInstanceEvent$(events.scala:169)\n",
      "\tat org.apache.spark.ml.util.Instrumentation.withSaveInstanceEvent(Instrumentation.scala:42)\n",
      "\tat org.apache.spark.ml.PipelineModel$PipelineModelWriter.$anonfun$save$3(Pipeline.scala:344)\n",
      "\tat org.apache.spark.ml.PipelineModel$PipelineModelWriter.$anonfun$save$3$adapted(Pipeline.scala:344)\n",
      "\tat org.apache.spark.ml.util.Instrumentation$.$anonfun$instrumented$1(Instrumentation.scala:191)\n",
      "\tat scala.util.Try$.apply(Try.scala:213)\n",
      "\tat org.apache.spark.ml.util.Instrumentation$.instrumented(Instrumentation.scala:191)\n",
      "\tat org.apache.spark.ml.PipelineModel$PipelineModelWriter.save(Pipeline.scala:344)\n",
      "\tat jdk.internal.reflect.GeneratedMethodAccessor289.invoke(Unknown Source)\n",
      "\tat java.base/jdk.internal.reflect.DelegatingMethodAccessorImpl.invoke(DelegatingMethodAccessorImpl.java:43)\n",
      "\tat java.base/java.lang.reflect.Method.invoke(Method.java:566)\n",
      "\tat py4j.reflection.MethodInvoker.invoke(MethodInvoker.java:244)\n",
      "\tat py4j.reflection.ReflectionEngine.invoke(ReflectionEngine.java:374)\n",
      "\tat py4j.Gateway.invoke(Gateway.java:282)\n",
      "\tat py4j.commands.AbstractCommand.invokeMethod(AbstractCommand.java:132)\n",
      "\tat py4j.commands.CallCommand.execute(CallCommand.java:79)\n",
      "\tat py4j.ClientServerConnection.waitForCommands(ClientServerConnection.java:182)\n",
      "\tat py4j.ClientServerConnection.run(ClientServerConnection.java:106)\n",
      "\tat java.base/java.lang.Thread.run(Thread.java:829)\n",
      "\n"
     ]
    },
    {
     "data": {
      "text/plain": [
       "(                                        params  evaluation_result\n",
       " 0    {'maxDepth': 2, 'minInstancesPerNode': 2}           0.768046\n",
       " 1    {'maxDepth': 2, 'minInstancesPerNode': 3}           0.768046\n",
       " 2    {'maxDepth': 2, 'minInstancesPerNode': 4}           0.768046\n",
       " 3    {'maxDepth': 2, 'minInstancesPerNode': 5}           0.768046\n",
       " 4    {'maxDepth': 3, 'minInstancesPerNode': 2}           0.788380\n",
       " 5    {'maxDepth': 3, 'minInstancesPerNode': 3}           0.788380\n",
       " 6    {'maxDepth': 3, 'minInstancesPerNode': 4}           0.788380\n",
       " 7    {'maxDepth': 3, 'minInstancesPerNode': 5}           0.788380\n",
       " 8    {'maxDepth': 5, 'minInstancesPerNode': 2}           0.799363\n",
       " 9    {'maxDepth': 5, 'minInstancesPerNode': 3}           0.799547\n",
       " 10   {'maxDepth': 5, 'minInstancesPerNode': 4}           0.786885\n",
       " 11   {'maxDepth': 5, 'minInstancesPerNode': 5}           0.790489\n",
       " 12   {'maxDepth': 7, 'minInstancesPerNode': 2}           0.776966\n",
       " 13   {'maxDepth': 7, 'minInstancesPerNode': 3}           0.779087\n",
       " 14   {'maxDepth': 7, 'minInstancesPerNode': 4}           0.771938\n",
       " 15   {'maxDepth': 7, 'minInstancesPerNode': 5}           0.779237\n",
       " 16  {'maxDepth': 10, 'minInstancesPerNode': 2}           0.776409\n",
       " 17  {'maxDepth': 10, 'minInstancesPerNode': 3}           0.773354\n",
       " 18  {'maxDepth': 10, 'minInstancesPerNode': 4}           0.768128\n",
       " 19  {'maxDepth': 10, 'minInstancesPerNode': 5}           0.777314,\n",
       " 0.8523489932885906)"
      ]
     },
     "execution_count": 187,
     "metadata": {},
     "output_type": "execute_result"
    }
   ],
   "source": [
    "cv_result_pdf, test_accuracy = cv_train_test_eval(train_sdf, test_sdf, dt_estimator, dt_param_grid, accuracy_evaluator, num_folds=5)\n",
    "cv_result_pdf , test_accuracy"
   ]
  },
  {
   "cell_type": "code",
   "execution_count": null,
   "metadata": {},
   "outputs": [],
   "source": []
  }
 ],
 "metadata": {
  "kernelspec": {
   "display_name": ".venv",
   "language": "python",
   "name": "python3"
  },
  "language_info": {
   "codemirror_mode": {
    "name": "ipython",
    "version": 3
   },
   "file_extension": ".py",
   "mimetype": "text/x-python",
   "name": "python",
   "nbconvert_exporter": "python",
   "pygments_lexer": "ipython3",
   "version": "3.8.13"
  },
  "orig_nbformat": 4
 },
 "nbformat": 4,
 "nbformat_minor": 2
}
