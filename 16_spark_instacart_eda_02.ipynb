{
 "cells": [
  {
   "cell_type": "code",
   "execution_count": 1,
   "metadata": {},
   "outputs": [
    {
     "name": "stderr",
     "output_type": "stream",
     "text": [
      "Setting default log level to \"WARN\".\n",
      "To adjust logging level use sc.setLogLevel(newLevel). For SparkR, use setLogLevel(newLevel).\n",
      "23/06/14 01:39:52 WARN NativeCodeLoader: Unable to load native-hadoop library for your platform... using builtin-java classes where applicable\n"
     ]
    },
    {
     "data": {
      "text/html": [
       "\n",
       "            <div>\n",
       "                <p><b>SparkSession - hive</b></p>\n",
       "                \n",
       "        <div>\n",
       "            <p><b>SparkContext</b></p>\n",
       "\n",
       "            <p><a href=\"http://bac044c6c4c0:4040\">Spark UI</a></p>\n",
       "\n",
       "            <dl>\n",
       "              <dt>Version</dt>\n",
       "                <dd><code>v3.4.0</code></dd>\n",
       "              <dt>Master</dt>\n",
       "                <dd><code>local[*]</code></dd>\n",
       "              <dt>AppName</dt>\n",
       "                <dd><code>pyspark-shell</code></dd>\n",
       "            </dl>\n",
       "        </div>\n",
       "        \n",
       "            </div>\n",
       "        "
      ],
      "text/plain": [
       "<pyspark.sql.session.SparkSession at 0x7f22bc6cef10>"
      ]
     },
     "execution_count": 1,
     "metadata": {},
     "output_type": "execute_result"
    }
   ],
   "source": [
    "from pyspark.sql import SparkSession\n",
    "from os.path import abspath\n",
    "\n",
    "warehouse_location = abspath('spark-warehouse')\n",
    "\n",
    "spark = SparkSession.builder    \\\n",
    "    .config('spark.driver.memory', '32g')   \\\n",
    "    .config(\"spark.sql.warehouse.dir\", warehouse_location) \\\n",
    "    .config(\"spark.sql.catalogImplementation\",\"hive\") \\\n",
    "    .enableHiveSupport()   \\\n",
    "    .getOrCreate()\n",
    "spark"
   ]
  },
  {
   "cell_type": "code",
   "execution_count": 2,
   "metadata": {},
   "outputs": [
    {
     "name": "stderr",
     "output_type": "stream",
     "text": [
      "                                                                                \r"
     ]
    }
   ],
   "source": [
    "orders_sdf = spark.read.csv('data/instacart_market/orders.csv', header=True, inferSchema=True)\n",
    "order_products_train_sdf = spark.read.csv('data/instacart_market/order_products_train.csv', header=True, inferSchema=True)\n",
    "order_products_prior_sdf = spark.read.csv('data/instacart_market/order_products_prior.csv', header=True, inferSchema=True)\n",
    "products_sdf = spark.read.csv('data/instacart_market/products.csv', header=True, inferSchema=True)\n",
    "aisles_sdf = spark.read.csv('data/instacart_market/aisles.csv', header=True, inferSchema=True)\n",
    "departments_sdf = spark.read.csv('data/instacart_market/departments.csv', header=True, inferSchema=True)"
   ]
  },
  {
   "cell_type": "code",
   "execution_count": 3,
   "metadata": {},
   "outputs": [
    {
     "name": "stdout",
     "output_type": "stream",
     "text": [
      "orders schema\n",
      "root\n",
      " |-- order_id: integer (nullable = true)\n",
      " |-- user_id: integer (nullable = true)\n",
      " |-- eval_set: string (nullable = true)\n",
      " |-- order_number: integer (nullable = true)\n",
      " |-- order_dow: integer (nullable = true)\n",
      " |-- order_hour_of_day: integer (nullable = true)\n",
      " |-- days_since_prior_order: double (nullable = true)\n",
      "\n",
      "None\n",
      "order_products_train schema\n",
      "root\n",
      " |-- order_id: integer (nullable = true)\n",
      " |-- product_id: integer (nullable = true)\n",
      " |-- add_to_cart_order: integer (nullable = true)\n",
      " |-- reordered: integer (nullable = true)\n",
      "\n",
      "None\n",
      "order_products_prior schema\n",
      "root\n",
      " |-- order_id: integer (nullable = true)\n",
      " |-- product_id: integer (nullable = true)\n",
      " |-- add_to_cart_order: integer (nullable = true)\n",
      " |-- reordered: integer (nullable = true)\n",
      "\n",
      "None\n",
      "products schema\n",
      "root\n",
      " |-- product_id: integer (nullable = true)\n",
      " |-- product_name: string (nullable = true)\n",
      " |-- aisle_id: string (nullable = true)\n",
      " |-- department_id: string (nullable = true)\n",
      "\n",
      "None\n",
      "aisles schema\n",
      "root\n",
      " |-- aisle_id: integer (nullable = true)\n",
      " |-- aisle: string (nullable = true)\n",
      "\n",
      "None\n",
      "departments schema\n",
      "root\n",
      " |-- department_id: integer (nullable = true)\n",
      " |-- department: string (nullable = true)\n",
      "\n",
      "None\n"
     ]
    }
   ],
   "source": [
    "sdf_dict = {\n",
    "    'orders': orders_sdf,\n",
    "    'order_products_train': order_products_train_sdf,\n",
    "    'order_products_prior': order_products_prior_sdf,\n",
    "    'products': products_sdf,\n",
    "    'aisles': aisles_sdf,\n",
    "    'departments': departments_sdf,\n",
    "}\n",
    "for sdf_name, sdf in sdf_dict.items():\n",
    "    print(f'{sdf_name} schema')\n",
    "    print(sdf.printSchema())"
   ]
  },
  {
   "cell_type": "code",
   "execution_count": 4,
   "metadata": {},
   "outputs": [],
   "source": [
    "for name, sdf in sdf_dict.items():\n",
    "    sdf.createOrReplaceTempView(name)"
   ]
  },
  {
   "cell_type": "code",
   "execution_count": 5,
   "metadata": {},
   "outputs": [
    {
     "name": "stderr",
     "output_type": "stream",
     "text": [
      "23/06/14 01:40:17 WARN HiveConf: HiveConf of name hive.stats.jdbc.timeout does not exist\n",
      "23/06/14 01:40:17 WARN HiveConf: HiveConf of name hive.stats.retries.wait does not exist\n",
      "23/06/14 01:40:28 WARN ObjectStore: Version information not found in metastore. hive.metastore.schema.verification is not enabled so recording the schema version 2.3.0\n",
      "23/06/14 01:40:28 WARN ObjectStore: setMetaStoreSchemaVersion called but recording version is disabled: version = 2.3.0, comment = Set by MetaStore UNKNOWN@172.17.0.2\n",
      "23/06/14 01:40:29 WARN ObjectStore: Failed to get database global_temp, returning NoSuchObjectException\n"
     ]
    },
    {
     "data": {
      "text/plain": [
       "[Table(name='order_all_products', catalog='spark_catalog', namespace=['default'], description=None, tableType='MANAGED', isTemporary=False),\n",
       " Table(name='priors_trains', catalog='spark_catalog', namespace=['default'], description=None, tableType='MANAGED', isTemporary=False),\n",
       " Table(name='aisles', catalog=None, namespace=[], description=None, tableType='TEMPORARY', isTemporary=True),\n",
       " Table(name='departments', catalog=None, namespace=[], description=None, tableType='TEMPORARY', isTemporary=True),\n",
       " Table(name='order_products_prior', catalog=None, namespace=[], description=None, tableType='TEMPORARY', isTemporary=True),\n",
       " Table(name='order_products_train', catalog=None, namespace=[], description=None, tableType='TEMPORARY', isTemporary=True),\n",
       " Table(name='orders', catalog=None, namespace=[], description=None, tableType='TEMPORARY', isTemporary=True),\n",
       " Table(name='products', catalog=None, namespace=[], description=None, tableType='TEMPORARY', isTemporary=True)]"
      ]
     },
     "execution_count": 5,
     "metadata": {},
     "output_type": "execute_result"
    }
   ],
   "source": [
    "spark.catalog.listTables()"
   ]
  },
  {
   "cell_type": "code",
   "execution_count": null,
   "metadata": {},
   "outputs": [],
   "source": [
    "spark.sql('''\n",
    "drop table if exists priors_trains\n",
    "''').show(truncate=False)"
   ]
  },
  {
   "cell_type": "code",
   "execution_count": null,
   "metadata": {},
   "outputs": [],
   "source": [
    "spark.sql('''\n",
    "create table priors_trains\n",
    "as\n",
    "select 'train' as class, t.* from order_products_train t\n",
    "union all\n",
    "select 'prior' as class, p.* from order_products_prior p \n",
    "''').show(truncate=False)"
   ]
  },
  {
   "cell_type": "code",
   "execution_count": null,
   "metadata": {},
   "outputs": [],
   "source": [
    "query = '''\n",
    "drop table if exists order_all_products\n",
    "'''\n",
    "spark.sql(query).show()"
   ]
  },
  {
   "cell_type": "code",
   "execution_count": null,
   "metadata": {},
   "outputs": [],
   "source": [
    "query = '''\n",
    "create table order_all_products\n",
    "as\n",
    "select p.order_id, p.product_id, p.add_to_cart_order, p.reordered,\n",
    "    o.user_id, o.eval_set, o.order_number, o.order_dow, o.order_hour_of_day, o.days_since_prior_order\n",
    "from priors_trains p, orders o\n",
    "where p.order_id = o.order_id\n",
    "'''\n",
    "spark.sql(query).show()"
   ]
  },
  {
   "cell_type": "code",
   "execution_count": 6,
   "metadata": {},
   "outputs": [
    {
     "name": "stderr",
     "output_type": "stream",
     "text": [
      "23/06/14 01:40:47 WARN SessionState: METASTORE_FILTER_HOOK will be ignored, since hive.security.authorization.manager is set to instance of HiveAuthorizerFactory.\n",
      "[Stage 21:=====================================================>  (48 + 2) / 50]\r"
     ]
    },
    {
     "name": "stdout",
     "output_type": "stream",
     "text": [
      "+--------+----------+-----------------+---------+-------+--------+------------+---------+-----------------+----------------------+\n",
      "|order_id|product_id|add_to_cart_order|reordered|user_id|eval_set|order_number|order_dow|order_hour_of_day|days_since_prior_order|\n",
      "+--------+----------+-----------------+---------+-------+--------+------------+---------+-----------------+----------------------+\n",
      "|2539329 |196       |1                |0        |1      |prior   |1           |2        |8                |null                  |\n",
      "|2539329 |14084     |2                |0        |1      |prior   |1           |2        |8                |null                  |\n",
      "|2539329 |12427     |3                |0        |1      |prior   |1           |2        |8                |null                  |\n",
      "|2539329 |26088     |4                |0        |1      |prior   |1           |2        |8                |null                  |\n",
      "|2539329 |26405     |5                |0        |1      |prior   |1           |2        |8                |null                  |\n",
      "|2398795 |196       |1                |1        |1      |prior   |2           |3        |7                |15.0                  |\n",
      "|2398795 |10258     |2                |0        |1      |prior   |2           |3        |7                |15.0                  |\n",
      "|2398795 |12427     |3                |1        |1      |prior   |2           |3        |7                |15.0                  |\n",
      "|2398795 |13176     |4                |0        |1      |prior   |2           |3        |7                |15.0                  |\n",
      "|2398795 |26088     |5                |1        |1      |prior   |2           |3        |7                |15.0                  |\n",
      "|2398795 |13032     |6                |0        |1      |prior   |2           |3        |7                |15.0                  |\n",
      "|473747  |196       |1                |1        |1      |prior   |3           |3        |12               |21.0                  |\n",
      "|473747  |12427     |2                |1        |1      |prior   |3           |3        |12               |21.0                  |\n",
      "|473747  |10258     |3                |1        |1      |prior   |3           |3        |12               |21.0                  |\n",
      "|473747  |25133     |4                |0        |1      |prior   |3           |3        |12               |21.0                  |\n",
      "|473747  |30450     |5                |0        |1      |prior   |3           |3        |12               |21.0                  |\n",
      "|2254736 |196       |1                |1        |1      |prior   |4           |4        |7                |29.0                  |\n",
      "|2254736 |12427     |2                |1        |1      |prior   |4           |4        |7                |29.0                  |\n",
      "|2254736 |10258     |3                |1        |1      |prior   |4           |4        |7                |29.0                  |\n",
      "|2254736 |25133     |4                |1        |1      |prior   |4           |4        |7                |29.0                  |\n",
      "+--------+----------+-----------------+---------+-------+--------+------------+---------+-----------------+----------------------+\n",
      "only showing top 20 rows\n",
      "\n"
     ]
    },
    {
     "name": "stderr",
     "output_type": "stream",
     "text": [
      "                                                                                \r"
     ]
    }
   ],
   "source": [
    "spark.sql('''\n",
    "select * from order_all_products where user_id = 1 order by order_number\n",
    "''').show(truncate=False)"
   ]
  },
  {
   "cell_type": "code",
   "execution_count": 7,
   "metadata": {},
   "outputs": [
    {
     "name": "stderr",
     "output_type": "stream",
     "text": [
      "23/06/14 01:40:54 WARN HiveConf: HiveConf of name hive.internal.ss.authz.settings.applied.marker does not exist\n",
      "23/06/14 01:40:54 WARN HiveConf: HiveConf of name hive.stats.jdbc.timeout does not exist\n",
      "23/06/14 01:40:54 WARN HiveConf: HiveConf of name hive.stats.retries.wait does not exist\n",
      "[Stage 24:=====================================================>  (24 + 1) / 25]\r"
     ]
    },
    {
     "name": "stdout",
     "output_type": "stream",
     "text": [
      "+-------+--------------+--------------------+------------------+--------------------+---------------------------+-------------------------+\n",
      "|user_id|user_total_cnt|product_distinct_cnt|order_distinct_cnt|user_avg_product_cnt|user_avg_unique_product_cnt|user_unique_product_ratio|\n",
      "+-------+--------------+--------------------+------------------+--------------------+---------------------------+-------------------------+\n",
      "|28024  |47            |38                  |5                 |9.4                 |1.236842105263158          |0.8085106382978723       |\n",
      "|48254  |540           |149                 |40                |13.5                |3.6241610738255035         |0.2759259259259259       |\n",
      "|196615 |398           |93                  |31                |12.838709677419354  |4.279569892473118          |0.23366834170854273      |\n",
      "|166150 |338           |43                  |54                |6.2592592592592595  |7.8604651162790695         |0.12721893491124261      |\n",
      "|172616 |367           |237                 |18                |20.38888888888889   |1.5485232067510548         |0.6457765667574932       |\n",
      "|171723 |383           |125                 |50                |7.66                |3.064                      |0.3263707571801567       |\n",
      "|25462  |1035          |186                 |57                |18.157894736842106  |5.564516129032258          |0.17971014492753623      |\n",
      "|91784  |597           |162                 |30                |19.9                |3.685185185185185          |0.271356783919598        |\n",
      "|51123  |321           |183                 |53                |6.056603773584905   |1.7540983606557377         |0.5700934579439252       |\n",
      "|59990  |430           |185                 |52                |8.26923076923077    |2.324324324324324          |0.43023255813953487      |\n",
      "|49855  |338           |128                 |43                |7.8604651162790695  |2.640625                   |0.378698224852071        |\n",
      "|40574  |573           |110                 |74                |7.743243243243243   |5.209090909090909          |0.19197207678883071      |\n",
      "|57984  |287           |21                  |60                |4.783333333333333   |13.666666666666666         |0.07317073170731707      |\n",
      "|141952 |189           |83                  |16                |11.8125             |2.2771084337349397         |0.43915343915343913      |\n",
      "|120899 |1450          |283                 |79                |18.354430379746834  |5.123674911660777          |0.19517241379310346      |\n",
      "|197148 |830           |256                 |59                |14.067796610169491  |3.2421875                  |0.30843373493975906      |\n",
      "|31236  |282           |67                  |52                |5.423076923076923   |4.208955223880597          |0.2375886524822695       |\n",
      "|206144 |59            |51                  |6                 |9.833333333333334   |1.1568627450980393         |0.864406779661017        |\n",
      "|64121  |346           |68                  |24                |14.416666666666666  |5.088235294117647          |0.19653179190751446      |\n",
      "|162105 |206           |56                  |20                |10.3                |3.6785714285714284         |0.27184466019417475      |\n",
      "+-------+--------------+--------------------+------------------+--------------------+---------------------------+-------------------------+\n",
      "only showing top 20 rows\n",
      "\n"
     ]
    },
    {
     "name": "stderr",
     "output_type": "stream",
     "text": [
      "                                                                                \r"
     ]
    }
   ],
   "source": [
    "query = '''\n",
    "select user_id, user_total_cnt, product_distinct_cnt, order_distinct_cnt\n",
    "    , user_total_cnt / order_distinct_cnt as user_avg_product_cnt\n",
    "    , user_total_cnt / product_distinct_cnt as user_avg_unique_product_cnt\n",
    "    , product_distinct_cnt / user_total_cnt as user_unique_product_ratio\n",
    "from (\n",
    "    select user_id\n",
    "        , count(*) as user_total_cnt\n",
    "        , count(distinct product_id) product_distinct_cnt\n",
    "        , count(distinct order_id) order_distinct_cnt\n",
    "    from order_all_products o\n",
    "    group by user_id\n",
    ")\n",
    "'''\n",
    "spark.sql(query).show(truncate=False)"
   ]
  },
  {
   "cell_type": "code",
   "execution_count": 8,
   "metadata": {},
   "outputs": [
    {
     "name": "stderr",
     "output_type": "stream",
     "text": [
      "[Stage 30:========>                                               (4 + 21) / 25]\r"
     ]
    },
    {
     "name": "stdout",
     "output_type": "stream",
     "text": [
      "+-------------------------+-------------------------+-------------------------+\n",
      "|avg(user_avg_product_cnt)|min(user_avg_product_cnt)|max(user_avg_product_cnt)|\n",
      "+-------------------------+-------------------------+-------------------------+\n",
      "|9.984526700309315        |1.0                      |60.5                     |\n",
      "+-------------------------+-------------------------+-------------------------+\n",
      "\n"
     ]
    },
    {
     "name": "stderr",
     "output_type": "stream",
     "text": [
      "                                                                                \r"
     ]
    }
   ],
   "source": [
    "query = '''\n",
    "with order_user_group as (\n",
    "    select user_id, user_total_cnt, product_distinct_cnt, order_distinct_cnt\n",
    "        , user_total_cnt / order_distinct_cnt as user_avg_product_cnt\n",
    "        , user_total_cnt / product_distinct_cnt as user_avg_unique_product_cnt\n",
    "        , product_distinct_cnt / user_total_cnt as user_unique_product_ratio\n",
    "    from (\n",
    "        select user_id\n",
    "            , count(*) as user_total_cnt\n",
    "            , count(distinct product_id) product_distinct_cnt\n",
    "            , count(distinct order_id) order_distinct_cnt\n",
    "        from order_all_products o\n",
    "        group by user_id\n",
    "    )\n",
    ")\n",
    "select avg(user_avg_product_cnt), min(user_avg_product_cnt), max(user_avg_product_cnt)\n",
    "from order_user_group\n",
    "'''\n",
    "spark.sql(query).show(truncate=False)"
   ]
  },
  {
   "cell_type": "code",
   "execution_count": 13,
   "metadata": {},
   "outputs": [
    {
     "name": "stderr",
     "output_type": "stream",
     "text": [
      "                                                                                \r"
     ]
    },
    {
     "name": "stdout",
     "output_type": "stream",
     "text": [
      "+----+-------+\n",
      "|bin |bin_cnt|\n",
      "+----+-------+\n",
      "|0.0 |39161  |\n",
      "|5.0 |78697  |\n",
      "|10.0|52853  |\n",
      "|15.0|22584  |\n",
      "|20.0|8477   |\n",
      "|25.0|2973   |\n",
      "|30.0|960    |\n",
      "|35.0|329    |\n",
      "|40.0|109    |\n",
      "|45.0|42     |\n",
      "|50.0|15     |\n",
      "|55.0|7      |\n",
      "|60.0|2      |\n",
      "+----+-------+\n",
      "\n"
     ]
    },
    {
     "name": "stderr",
     "output_type": "stream",
     "text": [
      "                                                                                \r"
     ]
    },
    {
     "data": {
      "text/plain": [
       "<Axes: xlabel='bin'>"
      ]
     },
     "execution_count": 13,
     "metadata": {},
     "output_type": "execute_result"
    },
    {
     "data": {
      "image/png": "[encoded data removed]",
      "text/plain": [
       "<Figure size 640x480 with 1 Axes>"
      ]
     },
     "metadata": {},
     "output_type": "display_data"
    }
   ],
   "source": [
    "query = '''\n",
    "with order_user_group as (\n",
    "    select user_id, user_total_cnt, product_distinct_cnt, order_distinct_cnt\n",
    "        , user_total_cnt / order_distinct_cnt as user_avg_product_cnt\n",
    "        , user_total_cnt / product_distinct_cnt as user_avg_unique_product_cnt\n",
    "        , product_distinct_cnt / user_total_cnt as user_unique_product_ratio\n",
    "    from (\n",
    "        select user_id\n",
    "            , count(*) as user_total_cnt\n",
    "            , count(distinct product_id) product_distinct_cnt\n",
    "            , count(distinct order_id) order_distinct_cnt\n",
    "        from order_all_products o\n",
    "        group by user_id\n",
    "    )\n",
    ")\n",
    "select floor(user_avg_product_cnt / 5.0) * 5.0 as bin, count(*) bin_cnt\n",
    "from order_user_group\n",
    "group by floor(user_avg_product_cnt / 5.0) * 5.0\n",
    "order by 1\n",
    "'''\n",
    "sdf = spark.sql(query)\n",
    "sdf.show(truncate=False)\n",
    "pdf = sdf.toPandas()\n",
    "pdf.plot.bar(x='bin', y='bin_cnt')"
   ]
  },
  {
   "cell_type": "code",
   "execution_count": 14,
   "metadata": {},
   "outputs": [
    {
     "name": "stderr",
     "output_type": "stream",
     "text": [
      "[Stage 164:==================================================>    (46 + 4) / 50]\r"
     ]
    },
    {
     "name": "stdout",
     "output_type": "stream",
     "text": [
      "+-------+--------+------------------+----------------------+-------------------+\n",
      "|user_id|count(1)|user_reordered_cnt|user_not_reordered_cnt| user_reordered_avg|\n",
      "+-------+--------+------------------+----------------------+-------------------+\n",
      "| 146988|     592|               413|                   179| 0.6976351351351351|\n",
      "| 103747|     413|               340|                    73| 0.8232445520581114|\n",
      "|  13623|     620|               398|                   222| 0.6419354838709678|\n",
      "|  26708|     678|               533|                   145| 0.7861356932153393|\n",
      "| 194974|     183|                91|                    92| 0.4972677595628415|\n",
      "|  16861|      46|                17|                    29| 0.3695652173913043|\n",
      "| 181700|     291|               178|                   113| 0.6116838487972509|\n",
      "|  15957|     260|               187|                    73| 0.7192307692307692|\n",
      "|  31035|     270|               168|                   102| 0.6222222222222222|\n",
      "| 158257|     592|               491|                   101| 0.8293918918918919|\n",
      "|  17420|    1017|               820|                   197| 0.8062930186823992|\n",
      "| 129791|     202|               128|                    74| 0.6336633663366337|\n",
      "| 144475|     311|               214|                    97| 0.6881028938906752|\n",
      "|  25517|     589|               440|                   149| 0.7470288624787776|\n",
      "| 147961|      66|                11|                    55|0.16666666666666666|\n",
      "|  93948|      46|                 8|                    38|0.17391304347826086|\n",
      "| 204877|     152|                57|                    95|              0.375|\n",
      "|  36131|      74|                19|                    55|0.25675675675675674|\n",
      "| 206144|      59|                 8|                    51|0.13559322033898305|\n",
      "|  64519|     233|               167|                    66| 0.7167381974248928|\n",
      "+-------+--------+------------------+----------------------+-------------------+\n",
      "only showing top 20 rows\n",
      "\n"
     ]
    },
    {
     "name": "stderr",
     "output_type": "stream",
     "text": [
      "                                                                                \r"
     ]
    }
   ],
   "source": [
    "query = '''\n",
    "select user_id, count(*)\n",
    ", sum(reordered) user_reordered_cnt\n",
    ", sum(case when reordered = 0 then 1 else 0 end) user_not_reordered_cnt\n",
    ", avg(reordered) user_reordered_avg\n",
    "from order_all_products\n",
    "group by user_id\n",
    "'''\n",
    "spark.sql(query).show()"
   ]
  },
  {
   "cell_type": "code",
   "execution_count": 20,
   "metadata": {},
   "outputs": [
    {
     "name": "stdout",
     "output_type": "stream",
     "text": [
      "+--------+----------+-----------------+---------+-------+--------+------------+---------+-----------------+----------------------+\n",
      "|order_id|product_id|add_to_cart_order|reordered|user_id|eval_set|order_number|order_dow|order_hour_of_day|days_since_prior_order|\n",
      "+--------+----------+-----------------+---------+-------+--------+------------+---------+-----------------+----------------------+\n",
      "|       3|     33754|                1|        1| 205970|   prior|          16|        5|               17|                  12.0|\n",
      "|       3|     24838|                2|        1| 205970|   prior|          16|        5|               17|                  12.0|\n",
      "|       3|     17704|                3|        1| 205970|   prior|          16|        5|               17|                  12.0|\n",
      "|       3|     21903|                4|        1| 205970|   prior|          16|        5|               17|                  12.0|\n",
      "|       3|     17668|                5|        1| 205970|   prior|          16|        5|               17|                  12.0|\n",
      "|       3|     46667|                6|        1| 205970|   prior|          16|        5|               17|                  12.0|\n",
      "|       3|     17461|                7|        1| 205970|   prior|          16|        5|               17|                  12.0|\n",
      "|       3|     32665|                8|        1| 205970|   prior|          16|        5|               17|                  12.0|\n",
      "|       6|     40462|                1|        0|  22352|   prior|           4|        1|               12|                  30.0|\n",
      "|       6|     15873|                2|        0|  22352|   prior|           4|        1|               12|                  30.0|\n",
      "|       6|     41897|                3|        0|  22352|   prior|           4|        1|               12|                  30.0|\n",
      "|      13|     17330|                1|        0|  45082|   prior|           2|        6|               17|                   1.0|\n",
      "|      13|     27407|                2|        0|  45082|   prior|           2|        6|               17|                   1.0|\n",
      "|      13|     35419|                3|        0|  45082|   prior|           2|        6|               17|                   1.0|\n",
      "|      13|       196|                4|        0|  45082|   prior|           2|        6|               17|                   1.0|\n",
      "|      13|     44635|                5|        0|  45082|   prior|           2|        6|               17|                   1.0|\n",
      "|      13|     26878|                6|        0|  45082|   prior|           2|        6|               17|                   1.0|\n",
      "|      13|     25783|                7|        0|  45082|   prior|           2|        6|               17|                   1.0|\n",
      "|      13|     41290|                8|        0|  45082|   prior|           2|        6|               17|                   1.0|\n",
      "|      13|     33198|                9|        0|  45082|   prior|           2|        6|               17|                   1.0|\n",
      "+--------+----------+-----------------+---------+-------+--------+------------+---------+-----------------+----------------------+\n",
      "only showing top 20 rows\n",
      "\n"
     ]
    }
   ],
   "source": [
    "query = '''\n",
    "select * from order_all_products\n",
    "-- group by user_id\n",
    "'''\n",
    "spark.sql(query).show()"
   ]
  },
  {
   "cell_type": "code",
   "execution_count": 19,
   "metadata": {},
   "outputs": [
    {
     "name": "stderr",
     "output_type": "stream",
     "text": [
      "[Stage 198:=================================================>     (45 + 5) / 50]\r"
     ]
    },
    {
     "name": "stdout",
     "output_type": "stream",
     "text": [
      "+-----------------------+-----------------------+-----------------------+\n",
      "|min(user_reordered_cnt)|max(user_reordered_cnt)|avg(user_reordered_cnt)|\n",
      "+-----------------------+-----------------------+-----------------------+\n",
      "|                      0|                   3275|       96.7724978056244|\n",
      "+-----------------------+-----------------------+-----------------------+\n",
      "\n"
     ]
    },
    {
     "name": "stderr",
     "output_type": "stream",
     "text": [
      "                                                                                \r"
     ]
    }
   ],
   "source": [
    "query = '''\n",
    "with \n",
    "order_user_group as \n",
    "(\n",
    "    select user_id, count(*) user_total_cnt\n",
    "    , sum(reordered) user_reordered_cnt    \n",
    "    , avg(reordered) user_reordered_avg\n",
    "    from order_all_products\n",
    "    group by user_id\n",
    ")\n",
    "select min(user_reordered_cnt), max(user_reordered_cnt), avg(user_reordered_cnt)\n",
    "from order_user_group\n",
    "'''\n",
    "spark.sql(query).show()"
   ]
  },
  {
   "cell_type": "code",
   "execution_count": 17,
   "metadata": {},
   "outputs": [
    {
     "name": "stderr",
     "output_type": "stream",
     "text": [
      "                                                                                \r"
     ]
    },
    {
     "name": "stdout",
     "output_type": "stream",
     "text": [
      "+---+-------+\n",
      "|bin|bin_cnt|\n",
      "+---+-------+\n",
      "|0.0|8734   |\n",
      "|0.1|18431  |\n",
      "|0.2|28930  |\n",
      "|0.3|31798  |\n",
      "|0.4|33279  |\n",
      "|0.5|33244  |\n",
      "|0.6|26028  |\n",
      "|0.7|17917  |\n",
      "|0.8|7137   |\n",
      "|0.9|711    |\n",
      "+---+-------+\n",
      "\n"
     ]
    },
    {
     "name": "stderr",
     "output_type": "stream",
     "text": [
      "                                                                                \r"
     ]
    },
    {
     "data": {
      "text/plain": [
       "<Axes: xlabel='bin'>"
      ]
     },
     "execution_count": 17,
     "metadata": {},
     "output_type": "execute_result"
    },
    {
     "data": {
      "image/png": "[encoded data removed]",
      "text/plain": [
       "<Figure size 640x480 with 1 Axes>"
      ]
     },
     "metadata": {},
     "output_type": "display_data"
    }
   ],
   "source": [
    "query = '''\n",
    "with\n",
    "order_user_group as\n",
    "(\n",
    "    select user_id, count(*) as user_total_cnt\n",
    "    , sum(reordered) user_reordered_cnt\n",
    "    , avg(reordered) user_reordered_avg\n",
    "    from order_all_products\n",
    "    group by user_id\n",
    ")\n",
    "select floor(user_reordered_avg / 0.1) * 0.1 as bin, count(*) bin_cnt\n",
    "from order_user_group\n",
    "group by floor(user_reordered_avg / 0.1) * 0.1\n",
    "order by 1\n",
    "'''\n",
    "sdf = spark.sql(query)\n",
    "sdf.show(truncate=False)\n",
    "pdf = sdf.toPandas()\n",
    "pdf.plot.bar(x='bin', y='bin_cnt')"
   ]
  },
  {
   "cell_type": "code",
   "execution_count": 21,
   "metadata": {},
   "outputs": [
    {
     "name": "stderr",
     "output_type": "stream",
     "text": [
      "[Stage 205:=====================================================> (49 + 1) / 50]\r"
     ]
    },
    {
     "name": "stdout",
     "output_type": "stream",
     "text": [
      "+-------+-------------------+-------------------+-------------------+\n",
      "|user_id|user_avg_prior_days|user_max_prior_days|user_min_prior_days|\n",
      "+-------+-------------------+-------------------+-------------------+\n",
      "|1      |19.2               |30.0               |0.0                |\n",
      "|2      |18.009389671361504 |30.0               |3.0                |\n",
      "|3      |11.487179487179487 |21.0               |7.0                |\n",
      "|4      |15.357142857142858 |21.0               |0.0                |\n",
      "|5      |12.314285714285715 |19.0               |6.0                |\n",
      "|6      |7.8                |12.0               |6.0                |\n",
      "|7      |13.211822660098521 |30.0               |2.0                |\n",
      "|8      |22.17391304347826  |30.0               |10.0               |\n",
      "|9      |26.11764705882353  |30.0               |6.0                |\n",
      "|10     |21.007042253521128 |30.0               |12.0               |\n",
      "|11     |19.320987654320987 |30.0               |7.0                |\n",
      "|12     |26.169014084507044 |30.0               |14.0               |\n",
      "|13     |7.419753086419753  |13.0               |6.0                |\n",
      "|14     |23.87962962962963  |30.0               |2.0                |\n",
      "|15     |11.029411764705882 |21.0               |3.0                |\n",
      "|16     |21.30909090909091  |30.0               |12.0               |\n",
      "|17     |8.707070707070708  |30.0               |0.0                |\n",
      "|18     |6.609756097560975  |9.0                |1.0                |\n",
      "|19     |8.040697674418604  |20.0               |5.0                |\n",
      "|20     |5.5                |7.0                |2.0                |\n",
      "+-------+-------------------+-------------------+-------------------+\n",
      "only showing top 20 rows\n",
      "\n"
     ]
    },
    {
     "name": "stderr",
     "output_type": "stream",
     "text": [
      "                                                                                \r"
     ]
    }
   ],
   "source": [
    "query = '''\n",
    "select user_id, avg(days_since_prior_order) user_avg_prior_days\n",
    ", max(days_since_prior_order) user_max_prior_days\n",
    ", min(days_since_prior_order) user_min_prior_days\n",
    "from  order_all_products\n",
    "group by user_id\n",
    "order by user_id\n",
    "limit 30\n",
    "'''\n",
    "spark.sql(query).show(truncate=False)"
   ]
  },
  {
   "cell_type": "code",
   "execution_count": 22,
   "metadata": {},
   "outputs": [
    {
     "name": "stderr",
     "output_type": "stream",
     "text": [
      "[Stage 208:====================================================>  (48 + 2) / 50]\r"
     ]
    },
    {
     "name": "stdout",
     "output_type": "stream",
     "text": [
      "+------------------------+------------------------+------------------------+\n",
      "|max(user_avg_prior_days)|avg(user_avg_prior_days)|min(user_avg_prior_days)|\n",
      "+------------------------+------------------------+------------------------+\n",
      "|30.0                    |15.631327395640414      |0.0                     |\n",
      "+------------------------+------------------------+------------------------+\n",
      "\n"
     ]
    },
    {
     "name": "stderr",
     "output_type": "stream",
     "text": [
      "                                                                                \r"
     ]
    }
   ],
   "source": [
    "query = '''\n",
    "with \n",
    "order_user_group as\n",
    "(\n",
    "    select user_id, avg(days_since_prior_order) user_avg_prior_days\n",
    "    , max(days_since_prior_order) user_max_prior_days\n",
    "    , min(days_since_prior_order) user_min_prior_days\n",
    "    from order_all_products\n",
    "    group by user_id\n",
    ")\n",
    "select max(user_avg_prior_days), avg(user_avg_prior_days), min(user_avg_prior_days)\n",
    "from order_user_group\n",
    "'''\n",
    "spark.sql(query).show(truncate=False)"
   ]
  },
  {
   "cell_type": "code",
   "execution_count": 24,
   "metadata": {},
   "outputs": [
    {
     "name": "stderr",
     "output_type": "stream",
     "text": [
      "[Stage 214:=====================================================> (49 + 1) / 50]\r"
     ]
    },
    {
     "name": "stdout",
     "output_type": "stream",
     "text": [
      "+-------+------------------+--------------------------+\n",
      "|user_id|user_avg_order_dow|user_avg_order_hour_of_day|\n",
      "+-------+------------------+--------------------------+\n",
      "|1      |2.857142857142857 |10.142857142857142        |\n",
      "|2      |1.8672566371681416|10.517699115044248        |\n",
      "|3      |1.0113636363636365|16.352272727272727        |\n",
      "|4      |4.722222222222222 |13.11111111111111         |\n",
      "|5      |1.3043478260869565|14.804347826086957        |\n",
      "|6      |3.857142857142857 |17.0                      |\n",
      "|7      |1.7395348837209301|13.52093023255814         |\n",
      "|8      |3.343283582089552 |5.552238805970149         |\n",
      "|9      |3.438775510204082 |13.306122448979592        |\n",
      "|10     |3.9047619047619047|16.959183673469386        |\n",
      "+-------+------------------+--------------------------+\n",
      "\n"
     ]
    },
    {
     "name": "stderr",
     "output_type": "stream",
     "text": [
      "                                                                                \r"
     ]
    }
   ],
   "source": [
    "query = '''\n",
    "select user_id\n",
    ", avg(order_dow) user_avg_order_dow\n",
    ", avg(order_hour_of_day) user_avg_order_hour_of_day\n",
    "from order_all_products\n",
    "group by user_id\n",
    "order by user_id\n",
    "limit 10\n",
    "'''\n",
    "spark.sql(query).show(truncate=False)"
   ]
  },
  {
   "cell_type": "code",
   "execution_count": 29,
   "metadata": {},
   "outputs": [
    {
     "name": "stderr",
     "output_type": "stream",
     "text": [
      "[Stage 220:=================================================>     (45 + 5) / 50]\r"
     ]
    },
    {
     "name": "stdout",
     "output_type": "stream",
     "text": [
      "+--------+----------+-----------------+---------+-------+--------+------------+---------+-----------------+----------------------+\n",
      "|order_id|product_id|add_to_cart_order|reordered|user_id|eval_set|order_number|order_dow|order_hour_of_day|days_since_prior_order|\n",
      "+--------+----------+-----------------+---------+-------+--------+------------+---------+-----------------+----------------------+\n",
      "|2539329 |196       |1                |0        |1      |prior   |1           |2        |8                |null                  |\n",
      "|2539329 |14084     |2                |0        |1      |prior   |1           |2        |8                |null                  |\n",
      "|2539329 |12427     |3                |0        |1      |prior   |1           |2        |8                |null                  |\n",
      "|2539329 |26088     |4                |0        |1      |prior   |1           |2        |8                |null                  |\n",
      "|2539329 |26405     |5                |0        |1      |prior   |1           |2        |8                |null                  |\n",
      "|2398795 |196       |1                |1        |1      |prior   |2           |3        |7                |15.0                  |\n",
      "|2398795 |10258     |2                |0        |1      |prior   |2           |3        |7                |15.0                  |\n",
      "|2398795 |12427     |3                |1        |1      |prior   |2           |3        |7                |15.0                  |\n",
      "|2398795 |13176     |4                |0        |1      |prior   |2           |3        |7                |15.0                  |\n",
      "|2398795 |26088     |5                |1        |1      |prior   |2           |3        |7                |15.0                  |\n",
      "|2398795 |13032     |6                |0        |1      |prior   |2           |3        |7                |15.0                  |\n",
      "|473747  |196       |1                |1        |1      |prior   |3           |3        |12               |21.0                  |\n",
      "|473747  |12427     |2                |1        |1      |prior   |3           |3        |12               |21.0                  |\n",
      "|473747  |10258     |3                |1        |1      |prior   |3           |3        |12               |21.0                  |\n",
      "|473747  |25133     |4                |0        |1      |prior   |3           |3        |12               |21.0                  |\n",
      "|473747  |30450     |5                |0        |1      |prior   |3           |3        |12               |21.0                  |\n",
      "|2254736 |196       |1                |1        |1      |prior   |4           |4        |7                |29.0                  |\n",
      "|2254736 |12427     |2                |1        |1      |prior   |4           |4        |7                |29.0                  |\n",
      "|2254736 |10258     |3                |1        |1      |prior   |4           |4        |7                |29.0                  |\n",
      "|2254736 |25133     |4                |1        |1      |prior   |4           |4        |7                |29.0                  |\n",
      "+--------+----------+-----------------+---------+-------+--------+------------+---------+-----------------+----------------------+\n",
      "only showing top 20 rows\n",
      "\n"
     ]
    },
    {
     "name": "stderr",
     "output_type": "stream",
     "text": [
      "                                                                                \r"
     ]
    }
   ],
   "source": [
    "query = '''\n",
    "select *\n",
    "from order_all_products\n",
    "where user_id = 1\n",
    "order by order_number\n",
    "'''\n",
    "spark.sql(query).show(truncate=False)"
   ]
  },
  {
   "cell_type": "code",
   "execution_count": 42,
   "metadata": {},
   "outputs": [
    {
     "name": "stderr",
     "output_type": "stream",
     "text": [
      "[Stage 256:>                                                        (0 + 1) / 1]\r"
     ]
    },
    {
     "name": "stdout",
     "output_type": "stream",
     "text": [
      "+-------+----------+----------------+------------------+------------------+--------------------+------------------+\n",
      "|user_id|product_id|user_product_cnt|user_reordered_sum|user_reordered_avg|user_reordered_avg_1|     user_avg_cart|\n",
      "+-------+----------+----------------+------------------+------------------+--------------------+------------------+\n",
      "|  22352|     15873|               1|                 0|               0.0|                 0.0|               2.0|\n",
      "| 176010|     32134|              12|                11|0.9166666666666666|  0.9166666666666666|2.4166666666666665|\n",
      "| 126918|     18201|               1|                 0|               0.0|                 0.0|               3.0|\n",
      "|  74680|     17835|              12|                11|0.9166666666666666|  0.9166666666666666|             13.75|\n",
      "| 100330|     12741|               4|                 3|              0.75|                0.75|             21.75|\n",
      "| 167461|     24852|              17|                16|0.9411764705882353|  0.9411764705882353| 3.823529411764706|\n",
      "| 171109|     27966|               8|                 7|             0.875|               0.875|               4.0|\n",
      "|  66371|     21903|               4|                 3|              0.75|                0.75|              3.25|\n",
      "|   4356|     29484|              33|                32|0.9696969696969697|  0.9696969696969697|11.121212121212121|\n",
      "| 148310|     33401|               1|                 0|               0.0|                 0.0|              12.0|\n",
      "| 148310|     46906|               7|                 6|0.8571428571428571|  0.8571428571428571|13.714285714285714|\n",
      "|  94171|     32655|              18|                17|0.9444444444444444|  0.9444444444444444|3.2777777777777777|\n",
      "|  92890|     21497|              11|                10|0.9090909090909091|  0.9090909090909091| 7.181818181818182|\n",
      "|   1920|     28307|               5|                 4|               0.8|                 0.8|              16.2|\n",
      "|  41722|      8953|               1|                 0|               0.0|                 0.0|               6.0|\n",
      "|  88714|      2338|               1|                 0|               0.0|                 0.0|               9.0|\n",
      "| 149567|     47209|              49|                48|0.9795918367346939|  0.9795918367346939| 5.469387755102041|\n",
      "|  56193|     40752|               2|                 1|               0.5|                 0.5|               3.5|\n",
      "|  83455|     18465|              12|                11|0.9166666666666666|  0.9166666666666666|               2.5|\n",
      "| 139124|     27420|               8|                 7|             0.875|               0.875|              7.25|\n",
      "+-------+----------+----------------+------------------+------------------+--------------------+------------------+\n",
      "only showing top 20 rows\n",
      "\n"
     ]
    },
    {
     "name": "stderr",
     "output_type": "stream",
     "text": [
      "                                                                                \r"
     ]
    }
   ],
   "source": [
    "query = '''\n",
    "select user_id, product_id\n",
    ", count(*) as user_product_cnt\n",
    ", sum(reordered) as user_reordered_sum\n",
    ", avg(reordered) as user_reordered_avg\n",
    ", sum(reordered) / count(*) as user_reordered_avg_1\n",
    ", avg(add_to_cart_order) as user_avg_cart\n",
    "from order_all_products\n",
    "group by user_id, product_id\n",
    "'''\n",
    "spark.sql(query).show()"
   ]
  },
  {
   "cell_type": "code",
   "execution_count": 37,
   "metadata": {},
   "outputs": [
    {
     "name": "stderr",
     "output_type": "stream",
     "text": [
      "[Stage 247:====================================================>  (24 + 1) / 25]\r"
     ]
    },
    {
     "name": "stdout",
     "output_type": "stream",
     "text": [
      "+---+-----------------------+\n",
      "|bin|avg(user_reordered_avg)|\n",
      "+---+-----------------------+\n",
      "|  0|     0.2453037488220591|\n",
      "| 10|     0.9265882944110673|\n",
      "| 20|     0.9586921583214033|\n",
      "| 30|      0.970953404585041|\n",
      "| 40|       0.97753494666159|\n",
      "| 50|     0.9815993813690802|\n",
      "| 60|     0.9845145657645666|\n",
      "| 70|     0.9865861524141224|\n",
      "| 80|     0.9881972074720349|\n",
      "| 90|      0.989405203766254|\n",
      "+---+-----------------------+\n",
      "\n"
     ]
    },
    {
     "name": "stderr",
     "output_type": "stream",
     "text": [
      "                                                                                \r"
     ]
    }
   ],
   "source": [
    "query = '''\n",
    "with \n",
    "user_product_group as\n",
    "(\n",
    "    select user_id, product_id\n",
    "    , count(*) as user_product_cnt\n",
    "    , sum(reordered) as user_reordered_sum\n",
    "    , avg(reordered) as user_reordered_avg    \n",
    "    , avg(add_to_cart_order) as user_avg_cart\n",
    "    from order_all_products\n",
    "    group by user_id, product_id\n",
    ")\n",
    "select floor(user_reordered_sum / 10.0) * 10 as bin\n",
    ", avg(user_reordered_avg)\n",
    "from user_product_group\n",
    "group by floor(user_reordered_sum / 10.0) * 10\n",
    "order by 1\n",
    "'''\n",
    "spark.sql(query).show()"
   ]
  },
  {
   "cell_type": "code",
   "execution_count": 41,
   "metadata": {},
   "outputs": [
    {
     "name": "stderr",
     "output_type": "stream",
     "text": [
      "[Stage 253:>                                                        (0 + 1) / 1]\r"
     ]
    },
    {
     "name": "stdout",
     "output_type": "stream",
     "text": [
      "+-------+----------+---------------------------+---------------------------+---------------------------+--------------------------+----------------------------------+\n",
      "|user_id|product_id|user_product_avg_prior_days|user_product_max_prior_days|user_product_min_prior_days|user_product_avg_order_dow|user_product_avg_order_hour_of_day|\n",
      "+-------+----------+---------------------------+---------------------------+---------------------------+--------------------------+----------------------------------+\n",
      "|  22352|     15873|                       30.0|                       30.0|                       30.0|                       1.0|                              12.0|\n",
      "| 176010|     32134|         11.454545454545455|                       30.0|                        3.0|        2.4166666666666665|                16.583333333333332|\n",
      "| 126918|     18201|                        7.0|                        7.0|                        7.0|                       0.0|                               9.0|\n",
      "|  74680|     17835|         2.5833333333333335|                        4.0|                        1.0|                      2.25|                10.666666666666666|\n",
      "| 100330|     12741|                       4.75|                       11.0|                        0.0|                       2.5|                             13.75|\n",
      "| 167461|     24852|                     8.6875|                       24.0|                        4.0|        3.7058823529411766|                10.882352941176471|\n",
      "| 171109|     27966|                     10.375|                       30.0|                        2.0|                     2.375|                              13.5|\n",
      "|  66371|     21903|                       27.0|                       30.0|                       21.0|                      0.25|                              9.75|\n",
      "|   4356|     29484|                     3.1875|                        6.0|                        0.0|         2.515151515151515|                 9.969696969696969|\n",
      "| 148310|     33401|                        3.0|                        3.0|                        3.0|                       3.0|                              13.0|\n",
      "| 148310|     46906|          9.714285714285714|                       30.0|                        3.0|         4.285714285714286|                              14.0|\n",
      "|  94171|     32655|         13.222222222222221|                       30.0|                        3.0|                       3.5|                              11.0|\n",
      "|  92890|     21497|          6.454545454545454|                       10.0|                        4.0|        3.5454545454545454|                18.363636363636363|\n",
      "|   1920|     28307|                       18.0|                       30.0|                        7.0|                       1.6|                              15.2|\n",
      "|  41722|      8953|                       28.0|                       28.0|                       28.0|                       1.0|                              21.0|\n",
      "|  88714|      2338|                       null|                       null|                       null|                       1.0|                              19.0|\n",
      "| 149567|     47209|                      3.625|                       20.0|                        0.0|        3.0408163265306123|                 13.16326530612245|\n",
      "|  56193|     40752|                        9.0|                       14.0|                        4.0|                       6.0|                              16.0|\n",
      "|  83455|     18465|         15.166666666666666|                       30.0|                        7.0|        3.4166666666666665|                 9.166666666666666|\n",
      "| 139124|     27420|                       10.5|                       17.0|                        5.0|                     2.875|                             13.25|\n",
      "+-------+----------+---------------------------+---------------------------+---------------------------+--------------------------+----------------------------------+\n",
      "only showing top 20 rows\n",
      "\n"
     ]
    },
    {
     "name": "stderr",
     "output_type": "stream",
     "text": [
      "                                                                                \r"
     ]
    }
   ],
   "source": [
    "query = '''\n",
    "select user_id, product_id\n",
    ", avg(days_since_prior_order) as user_product_avg_prior_days\n",
    ", max(days_since_prior_order) as user_product_max_prior_days\n",
    ", min(days_since_prior_order) as user_product_min_prior_days\n",
    ", avg(order_dow) as user_product_avg_order_dow\n",
    ", avg(order_hour_of_day) as user_product_avg_order_hour_of_day\n",
    "from order_all_products\n",
    "group by user_id, product_id\n",
    "'''\n",
    "spark.sql(query).show()"
   ]
  },
  {
   "cell_type": "code",
   "execution_count": null,
   "metadata": {},
   "outputs": [],
   "source": []
  }
 ],
 "metadata": {
  "kernelspec": {
   "display_name": ".venv",
   "language": "python",
   "name": "python3"
  },
  "language_info": {
   "codemirror_mode": {
    "name": "ipython",
    "version": 3
   },
   "file_extension": ".py",
   "mimetype": "text/x-python",
   "name": "python",
   "nbconvert_exporter": "python",
   "pygments_lexer": "ipython3",
   "version": "3.8.13"
  },
  "orig_nbformat": 4
 },
 "nbformat": 4,
 "nbformat_minor": 2
}
